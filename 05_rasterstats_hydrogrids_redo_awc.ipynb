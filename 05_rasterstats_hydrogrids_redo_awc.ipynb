{
 "cells": [
  {
   "cell_type": "code",
   "execution_count": 1,
   "metadata": {},
   "outputs": [],
   "source": [
    "import numpy as np  # type: ignore\n",
    "import pandas as pd  # type: ignore\n",
    "\n",
    "import os\n",
    "\n",
    "import matplotlib.pyplot as plt  # type: ignore\n",
    "import subprocess\n",
    "\n",
    "import rasterio\n",
    "from rasterio.plot import show\n",
    "from rasterstats import zonal_stats\n",
    "from rasterio.warp import calculate_default_transform, reproject, Resampling\n",
    "\n",
    "%matplotlib inline"
   ]
  },
  {
   "cell_type": "code",
   "execution_count": null,
   "metadata": {},
   "outputs": [],
   "source": [
    "# demo in EPSG:3301\n",
    "zonal_stats(\"../hydrological/catchments/porijogi_catchment/porijõgi_catchment.shp\",\n",
    "            \"../dem/srtm/m30_extracted_eesti/Estonia_without_lakes_qgis.tif\",\n",
    "            stats=\"min max mean range median std\",\n",
    "            geojson_out=True)"
   ]
  },
  {
   "cell_type": "code",
   "execution_count": null,
   "metadata": {},
   "outputs": [],
   "source": [
    "import os\n",
    "\n",
    "the_path = r'C:\\dev\\05_geodata\\soil\\soilgrids_download'\n",
    "\n",
    "list_of_soilgrids_soc_and_bd_for_fun = [\n",
    "    'soil250_grid_bulkdens_sd1.tif',\n",
    "    'soil250_grid_bulkdens_sd2.tif',\n",
    "    'soil250_grid_bulkdens_sd3.tif',\n",
    "    'soil250_grid_bulkdens_sd4.tif',\n",
    "    'soil250_grid_bulkdens_sd5.tif',\n",
    "    'soil250_grid_bulkdens_sd6.tif',\n",
    "    'soil250_grid_bulkdens_sd7.tif',\n",
    "    'soil250_grid_clay_sd1.tif',\n",
    "    'soil250_grid_clay_sd2.tif',\n",
    "    'soil250_grid_clay_sd3.tif',\n",
    "    'soil250_grid_clay_sd4.tif',\n",
    "    'soil250_grid_clay_sd5.tif',\n",
    "    'soil250_grid_clay_sd6.tif',\n",
    "    'soil250_grid_clay_sd7.tif',\n",
    "    'soil250_grid_coarsefrag_sd1.tif',\n",
    "    'soil250_grid_coarsefrag_sd2.tif',\n",
    "    'soil250_grid_coarsefrag_sd3.tif',\n",
    "    'soil250_grid_coarsefrag_sd4.tif',\n",
    "    'soil250_grid_coarsefrag_sd5.tif',\n",
    "    'soil250_grid_coarsefrag_sd6.tif',\n",
    "    'soil250_grid_coarsefrag_sd7.tif',\n",
    "    'soil250_grid_sand_sd1.tif',\n",
    "    'soil250_grid_sand_sd2.tif',\n",
    "    'soil250_grid_sand_sd3.tif',\n",
    "    'soil250_grid_sand_sd4.tif',\n",
    "    'soil250_grid_sand_sd5.tif',\n",
    "    'soil250_grid_sand_sd6.tif',\n",
    "    'soil250_grid_sand_sd7.tif',\n",
    "    'soil250_grid_silt_sd1.tif',\n",
    "    'soil250_grid_silt_sd2.tif',\n",
    "    'soil250_grid_silt_sd3.tif',\n",
    "    'soil250_grid_silt_sd4.tif',\n",
    "    'soil250_grid_silt_sd5.tif',\n",
    "    'soil250_grid_silt_sd6.tif',\n",
    "    'soil250_grid_silt_sd7.tif',\n",
    "    'soil250_grid_soc_frag_g_sd1.tif',\n",
    "    'soil250_grid_soc_frag_g_sd2.tif',\n",
    "    'soil250_grid_soc_frag_g_sd3.tif',\n",
    "    'soil250_grid_soc_frag_g_sd4.tif',\n",
    "    'soil250_grid_soc_frag_g_sd5.tif',\n",
    "    'soil250_grid_soc_frag_g_sd6.tif',\n",
    "    'soil250_grid_soc_frag_g_sd7.tif',\n",
    "    'soil250_grid_soc_sd1.tif',\n",
    "    'soil250_grid_soc_sd2.tif',\n",
    "    'soil250_grid_soc_sd3.tif',\n",
    "    'soil250_grid_soc_sd4.tif',\n",
    "    'soil250_grid_soc_sd5.tif',\n",
    "    'soil250_grid_soc_sd6.tif'\n",
    "]\n",
    "\n",
    "known_depths = {\n",
    "    '1': 0,\n",
    "    '2': 5,\n",
    "    '3': 15,\n",
    "    '4': 30,\n",
    "    '5': 60,\n",
    "    '6': 100,\n",
    "    '7': 200\n",
    "}\n",
    "\n",
    "from rasterio.warp import calculate_default_transform, reproject, Resampling\n",
    "\n",
    "dst_crs = 'EPSG:3301'\n",
    "\n",
    "for tif_name in list_of_soilgrids_soc_and_bd_for_fun:\n",
    "    full_src = os.path.join(the_path, tif_name)\n",
    "    \n",
    "    with rasterio.open(full_src) as src:\n",
    "        transform, width, height = calculate_default_transform(\n",
    "            src.crs, dst_crs, src.width, src.height, *src.bounds)\n",
    "        kwargs = src.meta.copy()\n",
    "        kwargs.update({\n",
    "            'crs': dst_crs,\n",
    "            'transform': transform,\n",
    "            'width': width,\n",
    "            'height': height\n",
    "        })\n",
    "        \n",
    "        outname = tif_name.replace(\".tif\", \"_3301.tif\")\n",
    "        full_out = os.path.join(the_path, outname)\n",
    "\n",
    "        with rasterio.open(full_out, 'w', **kwargs) as dst:\n",
    "            for i in range(1, src.count + 1):\n",
    "                reproject(\n",
    "                    source=rasterio.band(src, i),\n",
    "                    destination=rasterio.band(dst, i),\n",
    "                    src_transform=src.transform,\n",
    "                    src_crs=src.crs,\n",
    "                    dst_transform=transform,\n",
    "                    dst_crs=dst_crs,\n",
    "                    resampling=Resampling.nearest)"
   ]
  },
  {
   "cell_type": "code",
   "execution_count": null,
   "metadata": {},
   "outputs": [],
   "source": [
    "tif_src = rasterio.open(r\"../dem/srtm/m30_extracted_eesti/Estonia_without_lakes_qgis.tif\")\n",
    "# rasterio.plot.show()\n",
    "show(tif_src)"
   ]
  },
  {
   "cell_type": "code",
   "execution_count": null,
   "metadata": {},
   "outputs": [],
   "source": [
    "for tif_name in list_of_soilgrids_soc_and_bd_for_fun:\n",
    "    full_src = os.path.join(the_path, tif_name.replace(\".tif\", \"_3301.tif\"))\n",
    "    data_src = rasterio.open(full_src)\n",
    "    display(data_src.crs)\n",
    "    display(data_src.bounds)\n",
    "    # show(tif_src)\n",
    "    result = zonal_stats(r\"C:\\dev\\05_geodata\\hydrological\\catchments\\porijogi_catchment\\porijõgi_catchment.shp\", full_src, stats=\"min max mean range median std\")\n",
    "    display(result)"
   ]
  },
  {
   "cell_type": "code",
   "execution_count": null,
   "metadata": {},
   "outputs": [],
   "source": [
    "path = r\"E:\\GEODATA\\soil\\eu_soil_hydrogrids\\EU_SoilHydroGrids_250m_2017Feb08\"\n",
    "\n",
    "grid_cells = {}\n",
    "\n",
    "files = []\n",
    "folders = []\n",
    "# r=root, d=directories, f = files\n",
    "for r, d, f in os.walk(path):\n",
    "    for folder in d:\n",
    "        folders.append(folder)\n",
    "        \n",
    "        for r1, d1, f1 in os.walk(os.path.join(path, folder)):\n",
    "        \n",
    "            for file in f1:\n",
    "                if f\"FC_M_sl1_{folder}.tif\" in file:\n",
    "                    files.append(os.path.join(r1, file))\n",
    "                    data_src = rasterio.open(os.path.join(r1, file))\n",
    "                    srs = data_src.crs\n",
    "                    bounds = data_src.bounds\n",
    "                    sub_obj = {\n",
    "                        'grid_id': folder,\n",
    "                        'srs': srs,\n",
    "                        'bounds': bounds\n",
    "                    }\n",
    "                    grid_cells.update({ folder: sub_obj})\n",
    "                    \n",
    "\n",
    "for folder in folders:\n",
    "    print(folder)\n",
    "\n",
    "for file in files:\n",
    "    print(file)\n",
    "\n",
    "display(grid_cells)"
   ]
  },
  {
   "cell_type": "code",
   "execution_count": null,
   "metadata": {},
   "outputs": [],
   "source": [
    "import fiona\n",
    "from shapely.geometry import box, Polygon, shape, mapping\n",
    "from collections import OrderedDict\n",
    "\n",
    "schema = {\n",
    "    \"geometry\": \"Polygon\",\n",
    "    \"properties\": OrderedDict([\n",
    "        (\"grid_id\", \"str:200\"),\n",
    "    ])\n",
    "}\n",
    "\n",
    "def make_poly_from_bounds(bounds):\n",
    "    # (minx, miny, maxx, maxy) or a Polygon instance\n",
    "    bbox = box(bounds.left, bounds.bottom, bounds.right, bounds.top)\n",
    "    return bbox\n",
    "\n",
    "def make_feature_from_dict(grid_obj):\n",
    "    return {\n",
    "        \"geometry\": mapping(make_poly_from_bounds(grid_obj.get('bounds'))),\n",
    "        \"properties\": {\"grid_id\": grid_obj.get('grid_id')}\n",
    "    }\n",
    "    \n",
    "features = []\n",
    "\n",
    "for obj in grid_cells.values():\n",
    "    # display(obj)\n",
    "    feat = make_feature_from_dict(obj)\n",
    "    features.append(feat)\n",
    "\n",
    "crs_wkt = data_src.crs.wkt\n",
    "\n",
    "with fiona.open(r\"E:\\GEODATA\\soil\\eu_soil_hydrogrids\\EU_SoilHydroGrids_250m_2017Feb08\\grid_cells.shp\", \"w\", driver=\"ESRI Shapefile\", schema=schema, crs_wkt=crs_wkt) as collection:\n",
    "    collection.writerecords(features)\n",
    "    print(len(collection))\n",
    "    collection.flush()"
   ]
  },
  {
   "cell_type": "code",
   "execution_count": null,
   "metadata": {},
   "outputs": [],
   "source": [
    "data_src.crs.wkt"
   ]
  },
  {
   "cell_type": "code",
   "execution_count": null,
   "metadata": {},
   "outputs": [],
   "source": [
    "features"
   ]
  },
  {
   "cell_type": "code",
   "execution_count": null,
   "metadata": {},
   "outputs": [],
   "source": [
    "\n",
    "\n",
    "path_eesti_250m = r\"C:\\dev\\05_geodata\\soil\\Estonia_EU_Hydrosoilgrids\\Estonia_250m\"\n",
    "\n",
    "for r, d, f in os.walk(path_eesti_250m):\n",
    "    for folder in d:\n",
    "        for n in range(1,8):\n",
    "            try:\n",
    "                # We handle the connections with \"with\"\n",
    "                with rasterio.open(os.path.join(r, folder, f\"FC_M_sl{n}_{folder}.tif\")) as src:\n",
    "                    FC = src.read(1, masked=True)\n",
    "                    nodataval = src.nodata\n",
    "\n",
    "                with rasterio.open(os.path.join(r, folder, f\"WP_M_sl{n}_{folder}.tif\")) as src:\n",
    "                    WP = src.read(1, masked=True)\n",
    "\n",
    "                # Allow division by zero\n",
    "                np.seterr(divide='ignore', invalid='ignore')\n",
    "\n",
    "                # Calculate NDVI\n",
    "                AWC = FC.astype(np.uint8) - WP.astype(np.uint8)\n",
    "                \n",
    "                # write_out_awc_raster(folder, n)\n",
    "                # Define spatial characteristics of output object (basically they are analog to the input)\n",
    "                kwargs = src.meta\n",
    "\n",
    "                # Update kwargs (change in data type)\n",
    "                kwargs.update(dtype=rasterio.uint8, count = 1, nodata = nodataval, masked = True)\n",
    "\n",
    "                # Let's see what is in there\n",
    "                print(kwargs)\n",
    "\n",
    "                with rasterio.open(os.path.join(r, folder, f\"AWC_M_sl{n}_{folder}.tif\"), 'w', **kwargs) as dst:\n",
    "                    dst.write_band(1, AWC.astype(rasterio.uint8))\n",
    "                print(subprocess.check_output(\"gdalinfo \" + os.path.join(r, folder, f\"AWC_M_sl{n}_{folder}.tif\"), shell=True))\n",
    "                        \n",
    "            except Exception as ex:\n",
    "                print(ex)\n"
   ]
  },
  {
   "cell_type": "markdown",
   "metadata": {},
   "source": [
    "## Now loading the soil polygons\n",
    "\n",
    "- actually, load the big soil shp, only keep some columns and write out as shp again\n",
    "- then run the rasterstats with keeping the geojson true and orig_fid attribute in particular\n",
    "- then build a dataframe out of it and start developing the magic for the different layer aggregations\n",
    "- once the AWC is mean per SOL_N layers and depth based on the original measured AWC EU hydrogrid depths join this AWC back to the main soil db (and basically only overwrite the SOL_AWC_1-4)"
   ]
  },
  {
   "cell_type": "code",
   "execution_count": null,
   "metadata": {},
   "outputs": [],
   "source": [
    "import numpy as np  # type: ignore\n",
    "import pandas as pd  # type: ignore\n",
    "\n",
    "import fiona  # type: ignore\n",
    "from fiona.crs import from_epsg # type: ignore\n",
    "import geopandas as gpd  # type: ignore\n",
    "\n",
    "eesti_soil_red1_redo_awc = gpd.read_file(\"SWAT_soilmap_work/eesti_soil_red1_texture_fix_geo_drain_soc_bd_ksat_awc.shp\", encoding='utf-8')\n",
    "\n",
    "columns_to_keep = [ \"orig_fid\",\n",
    "                    \"nlayers\",\n",
    "                    \"SOL_ZMX\",\n",
    "                    \"SOL_Z1\",\n",
    "                    \"SOL_Z2\",\n",
    "                    \"SOL_Z3\",\n",
    "                    \"SOL_Z4\",\n",
    "                    \"SOL_AWC1\",\n",
    "                    \"SOL_AWC2\",\n",
    "                    \"SOL_AWC3\",\n",
    "                    \"SOL_AWC4\",\n",
    "                    \"geometry\"]\n",
    "\n",
    "eesti_soil_red1_redo_awc_short = eesti_soil_red1_redo_awc[columns_to_keep].copy()\n",
    "del(eesti_soil_red1_redo_awc)\n",
    "\n",
    "eesti_soil_red1_redo_awc_short.to_file('eesti_soil_red1_texture_fix_geo_redo_awc_tmp.shp', encoding='utf-8')\n",
    "\n"
   ]
  },
  {
   "cell_type": "code",
   "execution_count": null,
   "metadata": {},
   "outputs": [],
   "source": [
    "eesti_soil_red1_redo_awc_short"
   ]
  },
  {
   "cell_type": "code",
   "execution_count": 4,
   "metadata": {},
   "outputs": [
    {
     "data": {
      "text/plain": [
       "{'init': 'epsg:3301'}"
      ]
     },
     "metadata": {},
     "output_type": "display_data"
    },
    {
     "data": {
      "text/plain": [
       "{'properties': OrderedDict([('orig_fid', 'int:18'),\n",
       "              ('nlayers', 'int:18'),\n",
       "              ('SOL_ZMX', 'int:18'),\n",
       "              ('SOL_Z1', 'int:18'),\n",
       "              ('SOL_Z2', 'int:18'),\n",
       "              ('SOL_Z3', 'int:18'),\n",
       "              ('SOL_Z4', 'int:18'),\n",
       "              ('SOL_AWC1', 'float:24.15'),\n",
       "              ('SOL_AWC2', 'float:24.15'),\n",
       "              ('SOL_AWC3', 'float:24.15'),\n",
       "              ('SOL_AWC4', 'float:24.15')]),\n",
       " 'geometry': 'Polygon'}"
      ]
     },
     "metadata": {},
     "output_type": "display_data"
    },
    {
     "name": "stdout",
     "output_type": "stream",
     "text": [
      "745442\n",
      "745442\n",
      "745442\n",
      "745442\n",
      "745442\n",
      "745442\n",
      "745442\n"
     ]
    },
    {
     "data": {
      "text/plain": [
       "orig_fid      0\n",
       "nlayers       0\n",
       "SOL_ZMX       0\n",
       "SOL_Z1        0\n",
       "SOL_Z2        0\n",
       "SOL_Z3        0\n",
       "SOL_Z4        0\n",
       "SOL_AWC1      0\n",
       "SOL_AWC2      0\n",
       "SOL_AWC3      0\n",
       "SOL_AWC4      0\n",
       "mean        470\n",
       "median      470\n",
       "std         470\n",
       "geometry      0\n",
       "dtype: int64"
      ]
     },
     "metadata": {},
     "output_type": "display_data"
    },
    {
     "data": {
      "text/html": [
       "<div>\n",
       "<style scoped>\n",
       "    .dataframe tbody tr th:only-of-type {\n",
       "        vertical-align: middle;\n",
       "    }\n",
       "\n",
       "    .dataframe tbody tr th {\n",
       "        vertical-align: top;\n",
       "    }\n",
       "\n",
       "    .dataframe thead th {\n",
       "        text-align: right;\n",
       "    }\n",
       "</style>\n",
       "<table border=\"1\" class=\"dataframe\">\n",
       "  <thead>\n",
       "    <tr style=\"text-align: right;\">\n",
       "      <th></th>\n",
       "      <th>orig_fid</th>\n",
       "      <th>nlayers</th>\n",
       "      <th>SOL_ZMX</th>\n",
       "      <th>SOL_Z1</th>\n",
       "      <th>SOL_Z2</th>\n",
       "      <th>SOL_Z3</th>\n",
       "      <th>SOL_Z4</th>\n",
       "      <th>SOL_AWC1</th>\n",
       "      <th>SOL_AWC2</th>\n",
       "      <th>SOL_AWC3</th>\n",
       "      <th>SOL_AWC4</th>\n",
       "      <th>mean</th>\n",
       "      <th>median</th>\n",
       "      <th>std</th>\n",
       "      <th>geometry</th>\n",
       "    </tr>\n",
       "  </thead>\n",
       "  <tbody>\n",
       "    <tr>\n",
       "      <th>607225</th>\n",
       "      <td>607079</td>\n",
       "      <td>1</td>\n",
       "      <td>1000</td>\n",
       "      <td>1000</td>\n",
       "      <td>0</td>\n",
       "      <td>0</td>\n",
       "      <td>0</td>\n",
       "      <td>0.200</td>\n",
       "      <td>0.000</td>\n",
       "      <td>0.0</td>\n",
       "      <td>0.0</td>\n",
       "      <td>21.000000</td>\n",
       "      <td>21.0</td>\n",
       "      <td>0.000000</td>\n",
       "      <td>POLYGON ((637874.4099999964 6392860.940000001,...</td>\n",
       "    </tr>\n",
       "    <tr>\n",
       "      <th>541983</th>\n",
       "      <td>534252</td>\n",
       "      <td>1</td>\n",
       "      <td>1400</td>\n",
       "      <td>1400</td>\n",
       "      <td>0</td>\n",
       "      <td>0</td>\n",
       "      <td>0</td>\n",
       "      <td>0.150</td>\n",
       "      <td>0.000</td>\n",
       "      <td>0.0</td>\n",
       "      <td>0.0</td>\n",
       "      <td>20.538462</td>\n",
       "      <td>21.0</td>\n",
       "      <td>0.634324</td>\n",
       "      <td>POLYGON ((597519.6499999985 6433499.109999999,...</td>\n",
       "    </tr>\n",
       "    <tr>\n",
       "      <th>642941</th>\n",
       "      <td>642795</td>\n",
       "      <td>1</td>\n",
       "      <td>1000</td>\n",
       "      <td>1000</td>\n",
       "      <td>0</td>\n",
       "      <td>0</td>\n",
       "      <td>0</td>\n",
       "      <td>0.200</td>\n",
       "      <td>0.000</td>\n",
       "      <td>0.0</td>\n",
       "      <td>0.0</td>\n",
       "      <td>20.500000</td>\n",
       "      <td>20.5</td>\n",
       "      <td>0.500000</td>\n",
       "      <td>POLYGON ((561249.4399999976 6471861.84, 561246...</td>\n",
       "    </tr>\n",
       "    <tr>\n",
       "      <th>520272</th>\n",
       "      <td>512541</td>\n",
       "      <td>1</td>\n",
       "      <td>1000</td>\n",
       "      <td>1000</td>\n",
       "      <td>0</td>\n",
       "      <td>0</td>\n",
       "      <td>0</td>\n",
       "      <td>0.150</td>\n",
       "      <td>0.000</td>\n",
       "      <td>0.0</td>\n",
       "      <td>0.0</td>\n",
       "      <td>20.000000</td>\n",
       "      <td>20.0</td>\n",
       "      <td>0.000000</td>\n",
       "      <td>POLYGON ((663989.1437999979 6439156.985599998,...</td>\n",
       "    </tr>\n",
       "    <tr>\n",
       "      <th>226307</th>\n",
       "      <td>226307</td>\n",
       "      <td>2</td>\n",
       "      <td>1000</td>\n",
       "      <td>800</td>\n",
       "      <td>200</td>\n",
       "      <td>0</td>\n",
       "      <td>0</td>\n",
       "      <td>0.200</td>\n",
       "      <td>0.200</td>\n",
       "      <td>0.0</td>\n",
       "      <td>0.0</td>\n",
       "      <td>20.333333</td>\n",
       "      <td>20.0</td>\n",
       "      <td>0.471405</td>\n",
       "      <td>POLYGON ((531250.5900000036 6573537.829999998,...</td>\n",
       "    </tr>\n",
       "    <tr>\n",
       "      <th>171433</th>\n",
       "      <td>171433</td>\n",
       "      <td>2</td>\n",
       "      <td>1000</td>\n",
       "      <td>750</td>\n",
       "      <td>250</td>\n",
       "      <td>0</td>\n",
       "      <td>0</td>\n",
       "      <td>0.200</td>\n",
       "      <td>0.200</td>\n",
       "      <td>0.0</td>\n",
       "      <td>0.0</td>\n",
       "      <td>20.750000</td>\n",
       "      <td>21.0</td>\n",
       "      <td>0.622495</td>\n",
       "      <td>POLYGON ((596181.7400000021 6494125.98, 596164...</td>\n",
       "    </tr>\n",
       "    <tr>\n",
       "      <th>526939</th>\n",
       "      <td>519208</td>\n",
       "      <td>1</td>\n",
       "      <td>1000</td>\n",
       "      <td>1000</td>\n",
       "      <td>0</td>\n",
       "      <td>0</td>\n",
       "      <td>0</td>\n",
       "      <td>0.150</td>\n",
       "      <td>0.000</td>\n",
       "      <td>0.0</td>\n",
       "      <td>0.0</td>\n",
       "      <td>19.000000</td>\n",
       "      <td>19.0</td>\n",
       "      <td>0.000000</td>\n",
       "      <td>POLYGON ((561903.9200000018 6457433.18, 561899...</td>\n",
       "    </tr>\n",
       "    <tr>\n",
       "      <th>118172</th>\n",
       "      <td>118172</td>\n",
       "      <td>1</td>\n",
       "      <td>1000</td>\n",
       "      <td>1000</td>\n",
       "      <td>0</td>\n",
       "      <td>0</td>\n",
       "      <td>0</td>\n",
       "      <td>0.316</td>\n",
       "      <td>0.000</td>\n",
       "      <td>0.0</td>\n",
       "      <td>0.0</td>\n",
       "      <td>21.000000</td>\n",
       "      <td>21.0</td>\n",
       "      <td>0.000000</td>\n",
       "      <td>POLYGON ((699921.1899999976 6389628.609999999,...</td>\n",
       "    </tr>\n",
       "    <tr>\n",
       "      <th>141554</th>\n",
       "      <td>141423</td>\n",
       "      <td>1</td>\n",
       "      <td>1000</td>\n",
       "      <td>1000</td>\n",
       "      <td>0</td>\n",
       "      <td>0</td>\n",
       "      <td>0</td>\n",
       "      <td>0.150</td>\n",
       "      <td>0.000</td>\n",
       "      <td>0.0</td>\n",
       "      <td>0.0</td>\n",
       "      <td>19.857143</td>\n",
       "      <td>20.0</td>\n",
       "      <td>0.349927</td>\n",
       "      <td>POLYGON ((492486.7599999979 6500158.149999999,...</td>\n",
       "    </tr>\n",
       "    <tr>\n",
       "      <th>371065</th>\n",
       "      <td>371058</td>\n",
       "      <td>2</td>\n",
       "      <td>1000</td>\n",
       "      <td>500</td>\n",
       "      <td>500</td>\n",
       "      <td>0</td>\n",
       "      <td>0</td>\n",
       "      <td>0.316</td>\n",
       "      <td>0.316</td>\n",
       "      <td>0.0</td>\n",
       "      <td>0.0</td>\n",
       "      <td>20.666667</td>\n",
       "      <td>21.0</td>\n",
       "      <td>0.666667</td>\n",
       "      <td>POLYGON ((615619.5099999979 6591471.059999999,...</td>\n",
       "    </tr>\n",
       "  </tbody>\n",
       "</table>\n",
       "</div>"
      ],
      "text/plain": [
       "        orig_fid  nlayers  SOL_ZMX  SOL_Z1  SOL_Z2  SOL_Z3  SOL_Z4  SOL_AWC1  \\\n",
       "607225    607079        1     1000    1000       0       0       0     0.200   \n",
       "541983    534252        1     1400    1400       0       0       0     0.150   \n",
       "642941    642795        1     1000    1000       0       0       0     0.200   \n",
       "520272    512541        1     1000    1000       0       0       0     0.150   \n",
       "226307    226307        2     1000     800     200       0       0     0.200   \n",
       "171433    171433        2     1000     750     250       0       0     0.200   \n",
       "526939    519208        1     1000    1000       0       0       0     0.150   \n",
       "118172    118172        1     1000    1000       0       0       0     0.316   \n",
       "141554    141423        1     1000    1000       0       0       0     0.150   \n",
       "371065    371058        2     1000     500     500       0       0     0.316   \n",
       "\n",
       "        SOL_AWC2  SOL_AWC3  SOL_AWC4       mean  median       std  \\\n",
       "607225     0.000       0.0       0.0  21.000000    21.0  0.000000   \n",
       "541983     0.000       0.0       0.0  20.538462    21.0  0.634324   \n",
       "642941     0.000       0.0       0.0  20.500000    20.5  0.500000   \n",
       "520272     0.000       0.0       0.0  20.000000    20.0  0.000000   \n",
       "226307     0.200       0.0       0.0  20.333333    20.0  0.471405   \n",
       "171433     0.200       0.0       0.0  20.750000    21.0  0.622495   \n",
       "526939     0.000       0.0       0.0  19.000000    19.0  0.000000   \n",
       "118172     0.000       0.0       0.0  21.000000    21.0  0.000000   \n",
       "141554     0.000       0.0       0.0  19.857143    20.0  0.349927   \n",
       "371065     0.316       0.0       0.0  20.666667    21.0  0.666667   \n",
       "\n",
       "                                                 geometry  \n",
       "607225  POLYGON ((637874.4099999964 6392860.940000001,...  \n",
       "541983  POLYGON ((597519.6499999985 6433499.109999999,...  \n",
       "642941  POLYGON ((561249.4399999976 6471861.84, 561246...  \n",
       "520272  POLYGON ((663989.1437999979 6439156.985599998,...  \n",
       "226307  POLYGON ((531250.5900000036 6573537.829999998,...  \n",
       "171433  POLYGON ((596181.7400000021 6494125.98, 596164...  \n",
       "526939  POLYGON ((561903.9200000018 6457433.18, 561899...  \n",
       "118172  POLYGON ((699921.1899999976 6389628.609999999,...  \n",
       "141554  POLYGON ((492486.7599999979 6500158.149999999,...  \n",
       "371065  POLYGON ((615619.5099999979 6591471.059999999,...  "
      ]
     },
     "metadata": {},
     "output_type": "display_data"
    },
    {
     "data": {
      "text/plain": [
       "orig_fid      int64\n",
       "nlayers       int64\n",
       "SOL_ZMX       int64\n",
       "SOL_Z1        int64\n",
       "SOL_Z2        int64\n",
       "SOL_Z3        int64\n",
       "SOL_Z4        int64\n",
       "SOL_AWC1    float64\n",
       "SOL_AWC2    float64\n",
       "SOL_AWC3    float64\n",
       "SOL_AWC4    float64\n",
       "mean        float64\n",
       "median      float64\n",
       "std         float64\n",
       "geometry     object\n",
       "dtype: object"
      ]
     },
     "metadata": {},
     "output_type": "display_data"
    },
    {
     "data": {
      "image/png": "[encoded data removed]",
      "text/plain": [
       "<Figure size 432x288 with 1 Axes>"
      ]
     },
     "metadata": {
      "needs_background": "light"
     },
     "output_type": "display_data"
    },
    {
     "data": {
      "image/png": "[encoded data removed]",
      "text/plain": [
       "<Figure size 432x288 with 1 Axes>"
      ]
     },
     "metadata": {
      "needs_background": "light"
     },
     "output_type": "display_data"
    },
    {
     "data": {
      "image/png": "[encoded data removed]",
      "text/plain": [
       "<Figure size 432x288 with 1 Axes>"
      ]
     },
     "metadata": {
      "needs_background": "light"
     },
     "output_type": "display_data"
    },
    {
     "data": {
      "image/png": "[encoded data removed]",
      "text/plain": [
       "<Figure size 432x288 with 1 Axes>"
      ]
     },
     "metadata": {
      "needs_background": "light"
     },
     "output_type": "display_data"
    },
    {
     "name": "stderr",
     "output_type": "stream",
     "text": [
      "C:\\dev\\conda3\\envs\\geopython-environment\\lib\\site-packages\\geopandas\\io\\file.py:108: FionaDeprecationWarning: Use fiona.Env() instead.\n",
      "  with fiona.drivers():\n"
     ]
    },
    {
     "data": {
      "text/plain": [
       "orig_fid      0\n",
       "nlayers       0\n",
       "SOL_ZMX       0\n",
       "SOL_Z1        0\n",
       "SOL_Z2        0\n",
       "SOL_Z3        0\n",
       "SOL_Z4        0\n",
       "SOL_AWC1      0\n",
       "SOL_AWC2      0\n",
       "SOL_AWC3      0\n",
       "SOL_AWC4      0\n",
       "mean        470\n",
       "median      470\n",
       "std         470\n",
       "geometry      0\n",
       "dtype: int64"
      ]
     },
     "metadata": {},
     "output_type": "display_data"
    },
    {
     "data": {
      "text/html": [
       "<div>\n",
       "<style scoped>\n",
       "    .dataframe tbody tr th:only-of-type {\n",
       "        vertical-align: middle;\n",
       "    }\n",
       "\n",
       "    .dataframe tbody tr th {\n",
       "        vertical-align: top;\n",
       "    }\n",
       "\n",
       "    .dataframe thead th {\n",
       "        text-align: right;\n",
       "    }\n",
       "</style>\n",
       "<table border=\"1\" class=\"dataframe\">\n",
       "  <thead>\n",
       "    <tr style=\"text-align: right;\">\n",
       "      <th></th>\n",
       "      <th>orig_fid</th>\n",
       "      <th>nlayers</th>\n",
       "      <th>SOL_ZMX</th>\n",
       "      <th>SOL_Z1</th>\n",
       "      <th>SOL_Z2</th>\n",
       "      <th>SOL_Z3</th>\n",
       "      <th>SOL_Z4</th>\n",
       "      <th>SOL_AWC1</th>\n",
       "      <th>SOL_AWC2</th>\n",
       "      <th>SOL_AWC3</th>\n",
       "      <th>SOL_AWC4</th>\n",
       "      <th>mean</th>\n",
       "      <th>median</th>\n",
       "      <th>std</th>\n",
       "      <th>geometry</th>\n",
       "    </tr>\n",
       "  </thead>\n",
       "  <tbody>\n",
       "    <tr>\n",
       "      <th>364455</th>\n",
       "      <td>364448</td>\n",
       "      <td>1</td>\n",
       "      <td>1000</td>\n",
       "      <td>1000</td>\n",
       "      <td>0</td>\n",
       "      <td>0</td>\n",
       "      <td>0</td>\n",
       "      <td>0.200</td>\n",
       "      <td>0.000</td>\n",
       "      <td>0.0</td>\n",
       "      <td>0.0</td>\n",
       "      <td>21.000000</td>\n",
       "      <td>21.0</td>\n",
       "      <td>0.000000</td>\n",
       "      <td>POLYGON ((615569.1300000027 6518956.52, 615574...</td>\n",
       "    </tr>\n",
       "    <tr>\n",
       "      <th>587566</th>\n",
       "      <td>587555</td>\n",
       "      <td>1</td>\n",
       "      <td>1000</td>\n",
       "      <td>1000</td>\n",
       "      <td>0</td>\n",
       "      <td>0</td>\n",
       "      <td>0</td>\n",
       "      <td>0.200</td>\n",
       "      <td>0.000</td>\n",
       "      <td>0.0</td>\n",
       "      <td>0.0</td>\n",
       "      <td>20.666667</td>\n",
       "      <td>21.0</td>\n",
       "      <td>0.471405</td>\n",
       "      <td>POLYGON ((684682.5099999979 6445238.449999999,...</td>\n",
       "    </tr>\n",
       "    <tr>\n",
       "      <th>26679</th>\n",
       "      <td>26679</td>\n",
       "      <td>1</td>\n",
       "      <td>1000</td>\n",
       "      <td>1000</td>\n",
       "      <td>0</td>\n",
       "      <td>0</td>\n",
       "      <td>0</td>\n",
       "      <td>0.200</td>\n",
       "      <td>0.000</td>\n",
       "      <td>0.0</td>\n",
       "      <td>0.0</td>\n",
       "      <td>21.250000</td>\n",
       "      <td>21.0</td>\n",
       "      <td>0.433013</td>\n",
       "      <td>POLYGON ((634195.4799999967 6443386.829999998,...</td>\n",
       "    </tr>\n",
       "    <tr>\n",
       "      <th>322909</th>\n",
       "      <td>322908</td>\n",
       "      <td>1</td>\n",
       "      <td>1000</td>\n",
       "      <td>1000</td>\n",
       "      <td>0</td>\n",
       "      <td>0</td>\n",
       "      <td>0</td>\n",
       "      <td>0.316</td>\n",
       "      <td>0.000</td>\n",
       "      <td>0.0</td>\n",
       "      <td>0.0</td>\n",
       "      <td>21.000000</td>\n",
       "      <td>21.0</td>\n",
       "      <td>0.000000</td>\n",
       "      <td>POLYGON ((634847.7594999969 6445613.449999999,...</td>\n",
       "    </tr>\n",
       "    <tr>\n",
       "      <th>612972</th>\n",
       "      <td>612826</td>\n",
       "      <td>2</td>\n",
       "      <td>1000</td>\n",
       "      <td>500</td>\n",
       "      <td>500</td>\n",
       "      <td>0</td>\n",
       "      <td>0</td>\n",
       "      <td>0.200</td>\n",
       "      <td>0.316</td>\n",
       "      <td>0.0</td>\n",
       "      <td>0.0</td>\n",
       "      <td>20.500000</td>\n",
       "      <td>20.5</td>\n",
       "      <td>0.500000</td>\n",
       "      <td>POLYGON ((664218.4600000009 6437027.510000002,...</td>\n",
       "    </tr>\n",
       "    <tr>\n",
       "      <th>492066</th>\n",
       "      <td>503874</td>\n",
       "      <td>1</td>\n",
       "      <td>1000</td>\n",
       "      <td>1000</td>\n",
       "      <td>0</td>\n",
       "      <td>0</td>\n",
       "      <td>0</td>\n",
       "      <td>0.200</td>\n",
       "      <td>0.000</td>\n",
       "      <td>0.0</td>\n",
       "      <td>0.0</td>\n",
       "      <td>21.000000</td>\n",
       "      <td>21.0</td>\n",
       "      <td>0.000000</td>\n",
       "      <td>POLYGON ((662356.6799999997 6431930.449999999,...</td>\n",
       "    </tr>\n",
       "    <tr>\n",
       "      <th>692915</th>\n",
       "      <td>692758</td>\n",
       "      <td>2</td>\n",
       "      <td>1000</td>\n",
       "      <td>800</td>\n",
       "      <td>200</td>\n",
       "      <td>0</td>\n",
       "      <td>0</td>\n",
       "      <td>0.500</td>\n",
       "      <td>0.200</td>\n",
       "      <td>0.0</td>\n",
       "      <td>0.0</td>\n",
       "      <td>20.000000</td>\n",
       "      <td>20.0</td>\n",
       "      <td>0.000000</td>\n",
       "      <td>POLYGON ((492034.9699999988 6548437.75, 492028...</td>\n",
       "    </tr>\n",
       "    <tr>\n",
       "      <th>464959</th>\n",
       "      <td>476767</td>\n",
       "      <td>1</td>\n",
       "      <td>1000</td>\n",
       "      <td>1000</td>\n",
       "      <td>0</td>\n",
       "      <td>0</td>\n",
       "      <td>0</td>\n",
       "      <td>0.150</td>\n",
       "      <td>0.000</td>\n",
       "      <td>0.0</td>\n",
       "      <td>0.0</td>\n",
       "      <td>20.500000</td>\n",
       "      <td>20.5</td>\n",
       "      <td>0.500000</td>\n",
       "      <td>POLYGON ((648417.549999997 6429201.25, 648420....</td>\n",
       "    </tr>\n",
       "    <tr>\n",
       "      <th>688106</th>\n",
       "      <td>687949</td>\n",
       "      <td>1</td>\n",
       "      <td>1000</td>\n",
       "      <td>1000</td>\n",
       "      <td>0</td>\n",
       "      <td>0</td>\n",
       "      <td>0</td>\n",
       "      <td>0.500</td>\n",
       "      <td>0.000</td>\n",
       "      <td>0.0</td>\n",
       "      <td>0.0</td>\n",
       "      <td>21.000000</td>\n",
       "      <td>21.0</td>\n",
       "      <td>0.000000</td>\n",
       "      <td>POLYGON ((659552.1099999994 6436374.18, 659548...</td>\n",
       "    </tr>\n",
       "    <tr>\n",
       "      <th>691256</th>\n",
       "      <td>691099</td>\n",
       "      <td>2</td>\n",
       "      <td>1000</td>\n",
       "      <td>600</td>\n",
       "      <td>400</td>\n",
       "      <td>0</td>\n",
       "      <td>0</td>\n",
       "      <td>0.500</td>\n",
       "      <td>0.316</td>\n",
       "      <td>0.0</td>\n",
       "      <td>0.0</td>\n",
       "      <td>20.000000</td>\n",
       "      <td>20.0</td>\n",
       "      <td>0.000000</td>\n",
       "      <td>POLYGON ((587337.9900000021 6431658.989999998,...</td>\n",
       "    </tr>\n",
       "  </tbody>\n",
       "</table>\n",
       "</div>"
      ],
      "text/plain": [
       "        orig_fid  nlayers  SOL_ZMX  SOL_Z1  SOL_Z2  SOL_Z3  SOL_Z4  SOL_AWC1  \\\n",
       "364455    364448        1     1000    1000       0       0       0     0.200   \n",
       "587566    587555        1     1000    1000       0       0       0     0.200   \n",
       "26679      26679        1     1000    1000       0       0       0     0.200   \n",
       "322909    322908        1     1000    1000       0       0       0     0.316   \n",
       "612972    612826        2     1000     500     500       0       0     0.200   \n",
       "492066    503874        1     1000    1000       0       0       0     0.200   \n",
       "692915    692758        2     1000     800     200       0       0     0.500   \n",
       "464959    476767        1     1000    1000       0       0       0     0.150   \n",
       "688106    687949        1     1000    1000       0       0       0     0.500   \n",
       "691256    691099        2     1000     600     400       0       0     0.500   \n",
       "\n",
       "        SOL_AWC2  SOL_AWC3  SOL_AWC4       mean  median       std  \\\n",
       "364455     0.000       0.0       0.0  21.000000    21.0  0.000000   \n",
       "587566     0.000       0.0       0.0  20.666667    21.0  0.471405   \n",
       "26679      0.000       0.0       0.0  21.250000    21.0  0.433013   \n",
       "322909     0.000       0.0       0.0  21.000000    21.0  0.000000   \n",
       "612972     0.316       0.0       0.0  20.500000    20.5  0.500000   \n",
       "492066     0.000       0.0       0.0  21.000000    21.0  0.000000   \n",
       "692915     0.200       0.0       0.0  20.000000    20.0  0.000000   \n",
       "464959     0.000       0.0       0.0  20.500000    20.5  0.500000   \n",
       "688106     0.000       0.0       0.0  21.000000    21.0  0.000000   \n",
       "691256     0.316       0.0       0.0  20.000000    20.0  0.000000   \n",
       "\n",
       "                                                 geometry  \n",
       "364455  POLYGON ((615569.1300000027 6518956.52, 615574...  \n",
       "587566  POLYGON ((684682.5099999979 6445238.449999999,...  \n",
       "26679   POLYGON ((634195.4799999967 6443386.829999998,...  \n",
       "322909  POLYGON ((634847.7594999969 6445613.449999999,...  \n",
       "612972  POLYGON ((664218.4600000009 6437027.510000002,...  \n",
       "492066  POLYGON ((662356.6799999997 6431930.449999999,...  \n",
       "692915  POLYGON ((492034.9699999988 6548437.75, 492028...  \n",
       "464959  POLYGON ((648417.549999997 6429201.25, 648420....  \n",
       "688106  POLYGON ((659552.1099999994 6436374.18, 659548...  \n",
       "691256  POLYGON ((587337.9900000021 6431658.989999998,...  "
      ]
     },
     "metadata": {},
     "output_type": "display_data"
    },
    {
     "data": {
      "text/plain": [
       "orig_fid      int64\n",
       "nlayers       int64\n",
       "SOL_ZMX       int64\n",
       "SOL_Z1        int64\n",
       "SOL_Z2        int64\n",
       "SOL_Z3        int64\n",
       "SOL_Z4        int64\n",
       "SOL_AWC1    float64\n",
       "SOL_AWC2    float64\n",
       "SOL_AWC3    float64\n",
       "SOL_AWC4    float64\n",
       "mean        float64\n",
       "median      float64\n",
       "std         float64\n",
       "geometry     object\n",
       "dtype: object"
      ]
     },
     "metadata": {},
     "output_type": "display_data"
    },
    {
     "data": {
      "image/png": "[encoded data removed]",
      "text/plain": [
       "<Figure size 432x288 with 1 Axes>"
      ]
     },
     "metadata": {
      "needs_background": "light"
     },
     "output_type": "display_data"
    },
    {
     "data": {
      "image/png": "[encoded data removed]",
      "text/plain": [
       "<Figure size 432x288 with 1 Axes>"
      ]
     },
     "metadata": {
      "needs_background": "light"
     },
     "output_type": "display_data"
    },
    {
     "data": {
      "image/png": "[encoded data removed]",
      "text/plain": [
       "<Figure size 432x288 with 1 Axes>"
      ]
     },
     "metadata": {
      "needs_background": "light"
     },
     "output_type": "display_data"
    },
    {
     "data": {
      "image/png": "[encoded data removed]",
      "text/plain": [
       "<Figure size 432x288 with 1 Axes>"
      ]
     },
     "metadata": {
      "needs_background": "light"
     },
     "output_type": "display_data"
    },
    {
     "data": {
      "text/plain": [
       "orig_fid      0\n",
       "nlayers       0\n",
       "SOL_ZMX       0\n",
       "SOL_Z1        0\n",
       "SOL_Z2        0\n",
       "SOL_Z3        0\n",
       "SOL_Z4        0\n",
       "SOL_AWC1      0\n",
       "SOL_AWC2      0\n",
       "SOL_AWC3      0\n",
       "SOL_AWC4      0\n",
       "mean        470\n",
       "median      470\n",
       "std         470\n",
       "geometry      0\n",
       "dtype: int64"
      ]
     },
     "metadata": {},
     "output_type": "display_data"
    },
    {
     "data": {
      "text/html": [
       "<div>\n",
       "<style scoped>\n",
       "    .dataframe tbody tr th:only-of-type {\n",
       "        vertical-align: middle;\n",
       "    }\n",
       "\n",
       "    .dataframe tbody tr th {\n",
       "        vertical-align: top;\n",
       "    }\n",
       "\n",
       "    .dataframe thead th {\n",
       "        text-align: right;\n",
       "    }\n",
       "</style>\n",
       "<table border=\"1\" class=\"dataframe\">\n",
       "  <thead>\n",
       "    <tr style=\"text-align: right;\">\n",
       "      <th></th>\n",
       "      <th>orig_fid</th>\n",
       "      <th>nlayers</th>\n",
       "      <th>SOL_ZMX</th>\n",
       "      <th>SOL_Z1</th>\n",
       "      <th>SOL_Z2</th>\n",
       "      <th>SOL_Z3</th>\n",
       "      <th>SOL_Z4</th>\n",
       "      <th>SOL_AWC1</th>\n",
       "      <th>SOL_AWC2</th>\n",
       "      <th>SOL_AWC3</th>\n",
       "      <th>SOL_AWC4</th>\n",
       "      <th>mean</th>\n",
       "      <th>median</th>\n",
       "      <th>std</th>\n",
       "      <th>geometry</th>\n",
       "    </tr>\n",
       "  </thead>\n",
       "  <tbody>\n",
       "    <tr>\n",
       "      <th>534360</th>\n",
       "      <td>526629</td>\n",
       "      <td>1</td>\n",
       "      <td>1000</td>\n",
       "      <td>1000</td>\n",
       "      <td>0</td>\n",
       "      <td>0</td>\n",
       "      <td>0</td>\n",
       "      <td>0.150</td>\n",
       "      <td>0.00</td>\n",
       "      <td>0.0</td>\n",
       "      <td>0.0</td>\n",
       "      <td>18.000000</td>\n",
       "      <td>18.0</td>\n",
       "      <td>0.000000</td>\n",
       "      <td>POLYGON ((386751.2800000012 6433858.890000001,...</td>\n",
       "    </tr>\n",
       "    <tr>\n",
       "      <th>124797</th>\n",
       "      <td>124797</td>\n",
       "      <td>1</td>\n",
       "      <td>1000</td>\n",
       "      <td>1000</td>\n",
       "      <td>0</td>\n",
       "      <td>0</td>\n",
       "      <td>0</td>\n",
       "      <td>0.500</td>\n",
       "      <td>0.00</td>\n",
       "      <td>0.0</td>\n",
       "      <td>0.0</td>\n",
       "      <td>19.500000</td>\n",
       "      <td>19.5</td>\n",
       "      <td>0.500000</td>\n",
       "      <td>POLYGON ((705129.7599999979 6440252.41, 705125...</td>\n",
       "    </tr>\n",
       "    <tr>\n",
       "      <th>61749</th>\n",
       "      <td>62194</td>\n",
       "      <td>1</td>\n",
       "      <td>1000</td>\n",
       "      <td>1000</td>\n",
       "      <td>0</td>\n",
       "      <td>0</td>\n",
       "      <td>0</td>\n",
       "      <td>0.200</td>\n",
       "      <td>0.00</td>\n",
       "      <td>0.0</td>\n",
       "      <td>0.0</td>\n",
       "      <td>20.000000</td>\n",
       "      <td>20.0</td>\n",
       "      <td>0.000000</td>\n",
       "      <td>POLYGON ((697816.7299999967 6389010.800000001,...</td>\n",
       "    </tr>\n",
       "    <tr>\n",
       "      <th>339613</th>\n",
       "      <td>339612</td>\n",
       "      <td>1</td>\n",
       "      <td>1000</td>\n",
       "      <td>1000</td>\n",
       "      <td>0</td>\n",
       "      <td>0</td>\n",
       "      <td>0</td>\n",
       "      <td>0.150</td>\n",
       "      <td>0.00</td>\n",
       "      <td>0.0</td>\n",
       "      <td>0.0</td>\n",
       "      <td>20.500000</td>\n",
       "      <td>20.5</td>\n",
       "      <td>0.500000</td>\n",
       "      <td>POLYGON ((638729.4099999964 6428319.719999999,...</td>\n",
       "    </tr>\n",
       "    <tr>\n",
       "      <th>244154</th>\n",
       "      <td>244142</td>\n",
       "      <td>1</td>\n",
       "      <td>1000</td>\n",
       "      <td>1000</td>\n",
       "      <td>0</td>\n",
       "      <td>0</td>\n",
       "      <td>0</td>\n",
       "      <td>0.200</td>\n",
       "      <td>0.00</td>\n",
       "      <td>0.0</td>\n",
       "      <td>0.0</td>\n",
       "      <td>19.000000</td>\n",
       "      <td>19.0</td>\n",
       "      <td>0.000000</td>\n",
       "      <td>POLYGON ((645137.4399999976 6454119.32, 645136...</td>\n",
       "    </tr>\n",
       "    <tr>\n",
       "      <th>98710</th>\n",
       "      <td>98710</td>\n",
       "      <td>2</td>\n",
       "      <td>1000</td>\n",
       "      <td>500</td>\n",
       "      <td>500</td>\n",
       "      <td>0</td>\n",
       "      <td>0</td>\n",
       "      <td>0.200</td>\n",
       "      <td>0.15</td>\n",
       "      <td>0.0</td>\n",
       "      <td>0.0</td>\n",
       "      <td>19.769231</td>\n",
       "      <td>20.0</td>\n",
       "      <td>0.421325</td>\n",
       "      <td>POLYGON ((505070.2577999979 6473213.681600001,...</td>\n",
       "    </tr>\n",
       "    <tr>\n",
       "      <th>499362</th>\n",
       "      <td>535944</td>\n",
       "      <td>1</td>\n",
       "      <td>1000</td>\n",
       "      <td>1000</td>\n",
       "      <td>0</td>\n",
       "      <td>0</td>\n",
       "      <td>0</td>\n",
       "      <td>0.150</td>\n",
       "      <td>0.00</td>\n",
       "      <td>0.0</td>\n",
       "      <td>0.0</td>\n",
       "      <td>19.500000</td>\n",
       "      <td>19.5</td>\n",
       "      <td>0.500000</td>\n",
       "      <td>POLYGON ((644502.3599999994 6408552.859999999,...</td>\n",
       "    </tr>\n",
       "    <tr>\n",
       "      <th>349131</th>\n",
       "      <td>349124</td>\n",
       "      <td>1</td>\n",
       "      <td>500</td>\n",
       "      <td>500</td>\n",
       "      <td>0</td>\n",
       "      <td>0</td>\n",
       "      <td>0</td>\n",
       "      <td>0.316</td>\n",
       "      <td>0.00</td>\n",
       "      <td>0.0</td>\n",
       "      <td>0.0</td>\n",
       "      <td>19.500000</td>\n",
       "      <td>19.5</td>\n",
       "      <td>0.500000</td>\n",
       "      <td>POLYGON ((650880.9099999964 6444053.780000001,...</td>\n",
       "    </tr>\n",
       "    <tr>\n",
       "      <th>464847</th>\n",
       "      <td>476655</td>\n",
       "      <td>1</td>\n",
       "      <td>1000</td>\n",
       "      <td>1000</td>\n",
       "      <td>0</td>\n",
       "      <td>0</td>\n",
       "      <td>0</td>\n",
       "      <td>0.150</td>\n",
       "      <td>0.00</td>\n",
       "      <td>0.0</td>\n",
       "      <td>0.0</td>\n",
       "      <td>19.500000</td>\n",
       "      <td>19.5</td>\n",
       "      <td>0.500000</td>\n",
       "      <td>POLYGON ((534395.1400000006 6427259.5, 534385....</td>\n",
       "    </tr>\n",
       "    <tr>\n",
       "      <th>512672</th>\n",
       "      <td>467099</td>\n",
       "      <td>1</td>\n",
       "      <td>1500</td>\n",
       "      <td>1500</td>\n",
       "      <td>0</td>\n",
       "      <td>0</td>\n",
       "      <td>0</td>\n",
       "      <td>0.150</td>\n",
       "      <td>0.00</td>\n",
       "      <td>0.0</td>\n",
       "      <td>0.0</td>\n",
       "      <td>20.500000</td>\n",
       "      <td>20.5</td>\n",
       "      <td>0.500000</td>\n",
       "      <td>POLYGON ((716549.5600000024 6572205.239999998,...</td>\n",
       "    </tr>\n",
       "  </tbody>\n",
       "</table>\n",
       "</div>"
      ],
      "text/plain": [
       "        orig_fid  nlayers  SOL_ZMX  SOL_Z1  SOL_Z2  SOL_Z3  SOL_Z4  SOL_AWC1  \\\n",
       "534360    526629        1     1000    1000       0       0       0     0.150   \n",
       "124797    124797        1     1000    1000       0       0       0     0.500   \n",
       "61749      62194        1     1000    1000       0       0       0     0.200   \n",
       "339613    339612        1     1000    1000       0       0       0     0.150   \n",
       "244154    244142        1     1000    1000       0       0       0     0.200   \n",
       "98710      98710        2     1000     500     500       0       0     0.200   \n",
       "499362    535944        1     1000    1000       0       0       0     0.150   \n",
       "349131    349124        1      500     500       0       0       0     0.316   \n",
       "464847    476655        1     1000    1000       0       0       0     0.150   \n",
       "512672    467099        1     1500    1500       0       0       0     0.150   \n",
       "\n",
       "        SOL_AWC2  SOL_AWC3  SOL_AWC4       mean  median       std  \\\n",
       "534360      0.00       0.0       0.0  18.000000    18.0  0.000000   \n",
       "124797      0.00       0.0       0.0  19.500000    19.5  0.500000   \n",
       "61749       0.00       0.0       0.0  20.000000    20.0  0.000000   \n",
       "339613      0.00       0.0       0.0  20.500000    20.5  0.500000   \n",
       "244154      0.00       0.0       0.0  19.000000    19.0  0.000000   \n",
       "98710       0.15       0.0       0.0  19.769231    20.0  0.421325   \n",
       "499362      0.00       0.0       0.0  19.500000    19.5  0.500000   \n",
       "349131      0.00       0.0       0.0  19.500000    19.5  0.500000   \n",
       "464847      0.00       0.0       0.0  19.500000    19.5  0.500000   \n",
       "512672      0.00       0.0       0.0  20.500000    20.5  0.500000   \n",
       "\n",
       "                                                 geometry  \n",
       "534360  POLYGON ((386751.2800000012 6433858.890000001,...  \n",
       "124797  POLYGON ((705129.7599999979 6440252.41, 705125...  \n",
       "61749   POLYGON ((697816.7299999967 6389010.800000001,...  \n",
       "339613  POLYGON ((638729.4099999964 6428319.719999999,...  \n",
       "244154  POLYGON ((645137.4399999976 6454119.32, 645136...  \n",
       "98710   POLYGON ((505070.2577999979 6473213.681600001,...  \n",
       "499362  POLYGON ((644502.3599999994 6408552.859999999,...  \n",
       "349131  POLYGON ((650880.9099999964 6444053.780000001,...  \n",
       "464847  POLYGON ((534395.1400000006 6427259.5, 534385....  \n",
       "512672  POLYGON ((716549.5600000024 6572205.239999998,...  "
      ]
     },
     "metadata": {},
     "output_type": "display_data"
    },
    {
     "data": {
      "text/plain": [
       "orig_fid      int64\n",
       "nlayers       int64\n",
       "SOL_ZMX       int64\n",
       "SOL_Z1        int64\n",
       "SOL_Z2        int64\n",
       "SOL_Z3        int64\n",
       "SOL_Z4        int64\n",
       "SOL_AWC1    float64\n",
       "SOL_AWC2    float64\n",
       "SOL_AWC3    float64\n",
       "SOL_AWC4    float64\n",
       "mean        float64\n",
       "median      float64\n",
       "std         float64\n",
       "geometry     object\n",
       "dtype: object"
      ]
     },
     "metadata": {},
     "output_type": "display_data"
    },
    {
     "data": {
      "image/png": "[encoded data removed]",
      "text/plain": [
       "<Figure size 432x288 with 1 Axes>"
      ]
     },
     "metadata": {
      "needs_background": "light"
     },
     "output_type": "display_data"
    },
    {
     "data": {
      "image/png": "[encoded data removed]",
      "text/plain": [
       "<Figure size 432x288 with 1 Axes>"
      ]
     },
     "metadata": {
      "needs_background": "light"
     },
     "output_type": "display_data"
    },
    {
     "data": {
      "image/png": "[encoded data removed]",
      "text/plain": [
       "<Figure size 432x288 with 1 Axes>"
      ]
     },
     "metadata": {
      "needs_background": "light"
     },
     "output_type": "display_data"
    },
    {
     "data": {
      "image/png": "[encoded data removed]",
      "text/plain": [
       "<Figure size 432x288 with 1 Axes>"
      ]
     },
     "metadata": {
      "needs_background": "light"
     },
     "output_type": "display_data"
    },
    {
     "data": {
      "text/plain": [
       "orig_fid      0\n",
       "nlayers       0\n",
       "SOL_ZMX       0\n",
       "SOL_Z1        0\n",
       "SOL_Z2        0\n",
       "SOL_Z3        0\n",
       "SOL_Z4        0\n",
       "SOL_AWC1      0\n",
       "SOL_AWC2      0\n",
       "SOL_AWC3      0\n",
       "SOL_AWC4      0\n",
       "mean        470\n",
       "median      470\n",
       "std         470\n",
       "geometry      0\n",
       "dtype: int64"
      ]
     },
     "metadata": {},
     "output_type": "display_data"
    },
    {
     "data": {
      "text/html": [
       "<div>\n",
       "<style scoped>\n",
       "    .dataframe tbody tr th:only-of-type {\n",
       "        vertical-align: middle;\n",
       "    }\n",
       "\n",
       "    .dataframe tbody tr th {\n",
       "        vertical-align: top;\n",
       "    }\n",
       "\n",
       "    .dataframe thead th {\n",
       "        text-align: right;\n",
       "    }\n",
       "</style>\n",
       "<table border=\"1\" class=\"dataframe\">\n",
       "  <thead>\n",
       "    <tr style=\"text-align: right;\">\n",
       "      <th></th>\n",
       "      <th>orig_fid</th>\n",
       "      <th>nlayers</th>\n",
       "      <th>SOL_ZMX</th>\n",
       "      <th>SOL_Z1</th>\n",
       "      <th>SOL_Z2</th>\n",
       "      <th>SOL_Z3</th>\n",
       "      <th>SOL_Z4</th>\n",
       "      <th>SOL_AWC1</th>\n",
       "      <th>SOL_AWC2</th>\n",
       "      <th>SOL_AWC3</th>\n",
       "      <th>SOL_AWC4</th>\n",
       "      <th>mean</th>\n",
       "      <th>median</th>\n",
       "      <th>std</th>\n",
       "      <th>geometry</th>\n",
       "    </tr>\n",
       "  </thead>\n",
       "  <tbody>\n",
       "    <tr>\n",
       "      <th>211092</th>\n",
       "      <td>210815</td>\n",
       "      <td>2</td>\n",
       "      <td>1000</td>\n",
       "      <td>400</td>\n",
       "      <td>600</td>\n",
       "      <td>0</td>\n",
       "      <td>0</td>\n",
       "      <td>0.316</td>\n",
       "      <td>0.316</td>\n",
       "      <td>0.0</td>\n",
       "      <td>0.0</td>\n",
       "      <td>19.000000</td>\n",
       "      <td>19.0</td>\n",
       "      <td>0.000000</td>\n",
       "      <td>POLYGON ((640502.0600000024 6502358.52, 640513...</td>\n",
       "    </tr>\n",
       "    <tr>\n",
       "      <th>657449</th>\n",
       "      <td>657438</td>\n",
       "      <td>1</td>\n",
       "      <td>1000</td>\n",
       "      <td>1000</td>\n",
       "      <td>0</td>\n",
       "      <td>0</td>\n",
       "      <td>0</td>\n",
       "      <td>0.500</td>\n",
       "      <td>0.000</td>\n",
       "      <td>0.0</td>\n",
       "      <td>0.0</td>\n",
       "      <td>20.000000</td>\n",
       "      <td>20.0</td>\n",
       "      <td>0.000000</td>\n",
       "      <td>POLYGON ((632103.4600000009 6438054.98, 632100...</td>\n",
       "    </tr>\n",
       "    <tr>\n",
       "      <th>532479</th>\n",
       "      <td>524748</td>\n",
       "      <td>1</td>\n",
       "      <td>1000</td>\n",
       "      <td>1000</td>\n",
       "      <td>0</td>\n",
       "      <td>0</td>\n",
       "      <td>0</td>\n",
       "      <td>0.150</td>\n",
       "      <td>0.000</td>\n",
       "      <td>0.0</td>\n",
       "      <td>0.0</td>\n",
       "      <td>19.000000</td>\n",
       "      <td>19.0</td>\n",
       "      <td>0.000000</td>\n",
       "      <td>POLYGON ((620335.9368000031 6601656.0638, 6203...</td>\n",
       "    </tr>\n",
       "    <tr>\n",
       "      <th>204082</th>\n",
       "      <td>203805</td>\n",
       "      <td>1</td>\n",
       "      <td>1000</td>\n",
       "      <td>1000</td>\n",
       "      <td>0</td>\n",
       "      <td>0</td>\n",
       "      <td>0</td>\n",
       "      <td>0.200</td>\n",
       "      <td>0.000</td>\n",
       "      <td>0.0</td>\n",
       "      <td>0.0</td>\n",
       "      <td>19.500000</td>\n",
       "      <td>19.5</td>\n",
       "      <td>0.500000</td>\n",
       "      <td>POLYGON ((605517.6000000015 6558114.960000001,...</td>\n",
       "    </tr>\n",
       "    <tr>\n",
       "      <th>713010</th>\n",
       "      <td>712612</td>\n",
       "      <td>1</td>\n",
       "      <td>1000</td>\n",
       "      <td>1000</td>\n",
       "      <td>0</td>\n",
       "      <td>0</td>\n",
       "      <td>0</td>\n",
       "      <td>0.500</td>\n",
       "      <td>0.000</td>\n",
       "      <td>0.0</td>\n",
       "      <td>0.0</td>\n",
       "      <td>18.000000</td>\n",
       "      <td>18.0</td>\n",
       "      <td>0.000000</td>\n",
       "      <td>POLYGON ((619585.9099999964 6429698.359999999,...</td>\n",
       "    </tr>\n",
       "    <tr>\n",
       "      <th>491004</th>\n",
       "      <td>502812</td>\n",
       "      <td>1</td>\n",
       "      <td>1000</td>\n",
       "      <td>1000</td>\n",
       "      <td>0</td>\n",
       "      <td>0</td>\n",
       "      <td>0</td>\n",
       "      <td>0.150</td>\n",
       "      <td>0.000</td>\n",
       "      <td>0.0</td>\n",
       "      <td>0.0</td>\n",
       "      <td>19.000000</td>\n",
       "      <td>19.0</td>\n",
       "      <td>0.707107</td>\n",
       "      <td>POLYGON ((666101.299999997 6467294.329999998, ...</td>\n",
       "    </tr>\n",
       "    <tr>\n",
       "      <th>455448</th>\n",
       "      <td>451043</td>\n",
       "      <td>1</td>\n",
       "      <td>1500</td>\n",
       "      <td>1500</td>\n",
       "      <td>0</td>\n",
       "      <td>0</td>\n",
       "      <td>0</td>\n",
       "      <td>0.150</td>\n",
       "      <td>0.000</td>\n",
       "      <td>0.0</td>\n",
       "      <td>0.0</td>\n",
       "      <td>18.200000</td>\n",
       "      <td>18.0</td>\n",
       "      <td>0.400000</td>\n",
       "      <td>POLYGON ((555002.420599997 6444793.5757, 55500...</td>\n",
       "    </tr>\n",
       "    <tr>\n",
       "      <th>264309</th>\n",
       "      <td>264304</td>\n",
       "      <td>1</td>\n",
       "      <td>1000</td>\n",
       "      <td>1000</td>\n",
       "      <td>0</td>\n",
       "      <td>0</td>\n",
       "      <td>0</td>\n",
       "      <td>0.200</td>\n",
       "      <td>0.000</td>\n",
       "      <td>0.0</td>\n",
       "      <td>0.0</td>\n",
       "      <td>19.000000</td>\n",
       "      <td>19.0</td>\n",
       "      <td>0.000000</td>\n",
       "      <td>POLYGON ((477164.1203000024 6531119.217399999,...</td>\n",
       "    </tr>\n",
       "    <tr>\n",
       "      <th>492316</th>\n",
       "      <td>504124</td>\n",
       "      <td>1</td>\n",
       "      <td>1750</td>\n",
       "      <td>1750</td>\n",
       "      <td>0</td>\n",
       "      <td>0</td>\n",
       "      <td>0</td>\n",
       "      <td>0.150</td>\n",
       "      <td>0.000</td>\n",
       "      <td>0.0</td>\n",
       "      <td>0.0</td>\n",
       "      <td>18.714286</td>\n",
       "      <td>19.0</td>\n",
       "      <td>0.699854</td>\n",
       "      <td>POLYGON ((652601.8100000024 6574296.370000001,...</td>\n",
       "    </tr>\n",
       "    <tr>\n",
       "      <th>393062</th>\n",
       "      <td>393062</td>\n",
       "      <td>2</td>\n",
       "      <td>1000</td>\n",
       "      <td>200</td>\n",
       "      <td>800</td>\n",
       "      <td>0</td>\n",
       "      <td>0</td>\n",
       "      <td>0.200</td>\n",
       "      <td>0.225</td>\n",
       "      <td>0.0</td>\n",
       "      <td>0.0</td>\n",
       "      <td>19.000000</td>\n",
       "      <td>19.0</td>\n",
       "      <td>0.000000</td>\n",
       "      <td>POLYGON ((611285.5399999991 6585368.710000001,...</td>\n",
       "    </tr>\n",
       "  </tbody>\n",
       "</table>\n",
       "</div>"
      ],
      "text/plain": [
       "        orig_fid  nlayers  SOL_ZMX  SOL_Z1  SOL_Z2  SOL_Z3  SOL_Z4  SOL_AWC1  \\\n",
       "211092    210815        2     1000     400     600       0       0     0.316   \n",
       "657449    657438        1     1000    1000       0       0       0     0.500   \n",
       "532479    524748        1     1000    1000       0       0       0     0.150   \n",
       "204082    203805        1     1000    1000       0       0       0     0.200   \n",
       "713010    712612        1     1000    1000       0       0       0     0.500   \n",
       "491004    502812        1     1000    1000       0       0       0     0.150   \n",
       "455448    451043        1     1500    1500       0       0       0     0.150   \n",
       "264309    264304        1     1000    1000       0       0       0     0.200   \n",
       "492316    504124        1     1750    1750       0       0       0     0.150   \n",
       "393062    393062        2     1000     200     800       0       0     0.200   \n",
       "\n",
       "        SOL_AWC2  SOL_AWC3  SOL_AWC4       mean  median       std  \\\n",
       "211092     0.316       0.0       0.0  19.000000    19.0  0.000000   \n",
       "657449     0.000       0.0       0.0  20.000000    20.0  0.000000   \n",
       "532479     0.000       0.0       0.0  19.000000    19.0  0.000000   \n",
       "204082     0.000       0.0       0.0  19.500000    19.5  0.500000   \n",
       "713010     0.000       0.0       0.0  18.000000    18.0  0.000000   \n",
       "491004     0.000       0.0       0.0  19.000000    19.0  0.707107   \n",
       "455448     0.000       0.0       0.0  18.200000    18.0  0.400000   \n",
       "264309     0.000       0.0       0.0  19.000000    19.0  0.000000   \n",
       "492316     0.000       0.0       0.0  18.714286    19.0  0.699854   \n",
       "393062     0.225       0.0       0.0  19.000000    19.0  0.000000   \n",
       "\n",
       "                                                 geometry  \n",
       "211092  POLYGON ((640502.0600000024 6502358.52, 640513...  \n",
       "657449  POLYGON ((632103.4600000009 6438054.98, 632100...  \n",
       "532479  POLYGON ((620335.9368000031 6601656.0638, 6203...  \n",
       "204082  POLYGON ((605517.6000000015 6558114.960000001,...  \n",
       "713010  POLYGON ((619585.9099999964 6429698.359999999,...  \n",
       "491004  POLYGON ((666101.299999997 6467294.329999998, ...  \n",
       "455448  POLYGON ((555002.420599997 6444793.5757, 55500...  \n",
       "264309  POLYGON ((477164.1203000024 6531119.217399999,...  \n",
       "492316  POLYGON ((652601.8100000024 6574296.370000001,...  \n",
       "393062  POLYGON ((611285.5399999991 6585368.710000001,...  "
      ]
     },
     "metadata": {},
     "output_type": "display_data"
    },
    {
     "data": {
      "text/plain": [
       "orig_fid      int64\n",
       "nlayers       int64\n",
       "SOL_ZMX       int64\n",
       "SOL_Z1        int64\n",
       "SOL_Z2        int64\n",
       "SOL_Z3        int64\n",
       "SOL_Z4        int64\n",
       "SOL_AWC1    float64\n",
       "SOL_AWC2    float64\n",
       "SOL_AWC3    float64\n",
       "SOL_AWC4    float64\n",
       "mean        float64\n",
       "median      float64\n",
       "std         float64\n",
       "geometry     object\n",
       "dtype: object"
      ]
     },
     "metadata": {},
     "output_type": "display_data"
    },
    {
     "data": {
      "image/png": "[encoded data removed]",
      "text/plain": [
       "<Figure size 432x288 with 1 Axes>"
      ]
     },
     "metadata": {
      "needs_background": "light"
     },
     "output_type": "display_data"
    },
    {
     "data": {
      "image/png": "[encoded data removed]",
      "text/plain": [
       "<Figure size 432x288 with 1 Axes>"
      ]
     },
     "metadata": {
      "needs_background": "light"
     },
     "output_type": "display_data"
    },
    {
     "data": {
      "image/png": "[encoded data removed]",
      "text/plain": [
       "<Figure size 432x288 with 1 Axes>"
      ]
     },
     "metadata": {
      "needs_background": "light"
     },
     "output_type": "display_data"
    },
    {
     "data": {
      "image/png": "[encoded data removed]",
      "text/plain": [
       "<Figure size 432x288 with 1 Axes>"
      ]
     },
     "metadata": {
      "needs_background": "light"
     },
     "output_type": "display_data"
    },
    {
     "data": {
      "text/plain": [
       "orig_fid      0\n",
       "nlayers       0\n",
       "SOL_ZMX       0\n",
       "SOL_Z1        0\n",
       "SOL_Z2        0\n",
       "SOL_Z3        0\n",
       "SOL_Z4        0\n",
       "SOL_AWC1      0\n",
       "SOL_AWC2      0\n",
       "SOL_AWC3      0\n",
       "SOL_AWC4      0\n",
       "mean        470\n",
       "median      470\n",
       "std         470\n",
       "geometry      0\n",
       "dtype: int64"
      ]
     },
     "metadata": {},
     "output_type": "display_data"
    },
    {
     "data": {
      "text/html": [
       "<div>\n",
       "<style scoped>\n",
       "    .dataframe tbody tr th:only-of-type {\n",
       "        vertical-align: middle;\n",
       "    }\n",
       "\n",
       "    .dataframe tbody tr th {\n",
       "        vertical-align: top;\n",
       "    }\n",
       "\n",
       "    .dataframe thead th {\n",
       "        text-align: right;\n",
       "    }\n",
       "</style>\n",
       "<table border=\"1\" class=\"dataframe\">\n",
       "  <thead>\n",
       "    <tr style=\"text-align: right;\">\n",
       "      <th></th>\n",
       "      <th>orig_fid</th>\n",
       "      <th>nlayers</th>\n",
       "      <th>SOL_ZMX</th>\n",
       "      <th>SOL_Z1</th>\n",
       "      <th>SOL_Z2</th>\n",
       "      <th>SOL_Z3</th>\n",
       "      <th>SOL_Z4</th>\n",
       "      <th>SOL_AWC1</th>\n",
       "      <th>SOL_AWC2</th>\n",
       "      <th>SOL_AWC3</th>\n",
       "      <th>SOL_AWC4</th>\n",
       "      <th>mean</th>\n",
       "      <th>median</th>\n",
       "      <th>std</th>\n",
       "      <th>geometry</th>\n",
       "    </tr>\n",
       "  </thead>\n",
       "  <tbody>\n",
       "    <tr>\n",
       "      <th>614939</th>\n",
       "      <td>614793</td>\n",
       "      <td>1</td>\n",
       "      <td>1000</td>\n",
       "      <td>1000</td>\n",
       "      <td>0</td>\n",
       "      <td>0</td>\n",
       "      <td>0</td>\n",
       "      <td>0.316</td>\n",
       "      <td>0.000</td>\n",
       "      <td>0.0</td>\n",
       "      <td>0.0</td>\n",
       "      <td>19.000000</td>\n",
       "      <td>19.0</td>\n",
       "      <td>0.000000</td>\n",
       "      <td>POLYGON ((684339.7800000012 6388279.640000001,...</td>\n",
       "    </tr>\n",
       "    <tr>\n",
       "      <th>696818</th>\n",
       "      <td>696420</td>\n",
       "      <td>1</td>\n",
       "      <td>1000</td>\n",
       "      <td>1000</td>\n",
       "      <td>0</td>\n",
       "      <td>0</td>\n",
       "      <td>0</td>\n",
       "      <td>0.500</td>\n",
       "      <td>0.000</td>\n",
       "      <td>0.0</td>\n",
       "      <td>0.0</td>\n",
       "      <td>16.600000</td>\n",
       "      <td>17.0</td>\n",
       "      <td>0.489898</td>\n",
       "      <td>POLYGON ((641525.9299999997 6460928.739999998,...</td>\n",
       "    </tr>\n",
       "    <tr>\n",
       "      <th>222699</th>\n",
       "      <td>222699</td>\n",
       "      <td>1</td>\n",
       "      <td>1000</td>\n",
       "      <td>1000</td>\n",
       "      <td>0</td>\n",
       "      <td>0</td>\n",
       "      <td>0</td>\n",
       "      <td>0.200</td>\n",
       "      <td>0.000</td>\n",
       "      <td>0.0</td>\n",
       "      <td>0.0</td>\n",
       "      <td>17.750000</td>\n",
       "      <td>18.0</td>\n",
       "      <td>0.433013</td>\n",
       "      <td>POLYGON ((575588.2107999995 6557749.230700001,...</td>\n",
       "    </tr>\n",
       "    <tr>\n",
       "      <th>365169</th>\n",
       "      <td>365162</td>\n",
       "      <td>2</td>\n",
       "      <td>1000</td>\n",
       "      <td>500</td>\n",
       "      <td>500</td>\n",
       "      <td>0</td>\n",
       "      <td>0</td>\n",
       "      <td>0.200</td>\n",
       "      <td>0.316</td>\n",
       "      <td>0.0</td>\n",
       "      <td>0.0</td>\n",
       "      <td>18.818182</td>\n",
       "      <td>19.0</td>\n",
       "      <td>0.385695</td>\n",
       "      <td>POLYGON ((588653.0900000036 6535391.48, 588655...</td>\n",
       "    </tr>\n",
       "    <tr>\n",
       "      <th>703571</th>\n",
       "      <td>703173</td>\n",
       "      <td>1</td>\n",
       "      <td>1000</td>\n",
       "      <td>1000</td>\n",
       "      <td>0</td>\n",
       "      <td>0</td>\n",
       "      <td>0</td>\n",
       "      <td>0.500</td>\n",
       "      <td>0.000</td>\n",
       "      <td>0.0</td>\n",
       "      <td>0.0</td>\n",
       "      <td>19.000000</td>\n",
       "      <td>19.0</td>\n",
       "      <td>0.000000</td>\n",
       "      <td>POLYGON ((654959.1799999997 6438654.719999999,...</td>\n",
       "    </tr>\n",
       "    <tr>\n",
       "      <th>199234</th>\n",
       "      <td>198957</td>\n",
       "      <td>1</td>\n",
       "      <td>1000</td>\n",
       "      <td>1000</td>\n",
       "      <td>0</td>\n",
       "      <td>0</td>\n",
       "      <td>0</td>\n",
       "      <td>0.150</td>\n",
       "      <td>0.000</td>\n",
       "      <td>0.0</td>\n",
       "      <td>0.0</td>\n",
       "      <td>19.000000</td>\n",
       "      <td>19.0</td>\n",
       "      <td>0.000000</td>\n",
       "      <td>POLYGON ((474769.3599999994 6551231.41, 474701...</td>\n",
       "    </tr>\n",
       "    <tr>\n",
       "      <th>261263</th>\n",
       "      <td>261254</td>\n",
       "      <td>2</td>\n",
       "      <td>1000</td>\n",
       "      <td>250</td>\n",
       "      <td>750</td>\n",
       "      <td>0</td>\n",
       "      <td>0</td>\n",
       "      <td>0.200</td>\n",
       "      <td>0.225</td>\n",
       "      <td>0.0</td>\n",
       "      <td>0.0</td>\n",
       "      <td>19.000000</td>\n",
       "      <td>19.0</td>\n",
       "      <td>0.000000</td>\n",
       "      <td>POLYGON ((649885.75 6596810.48, 649887.0700000...</td>\n",
       "    </tr>\n",
       "    <tr>\n",
       "      <th>406099</th>\n",
       "      <td>441568</td>\n",
       "      <td>1</td>\n",
       "      <td>1500</td>\n",
       "      <td>1500</td>\n",
       "      <td>0</td>\n",
       "      <td>0</td>\n",
       "      <td>0</td>\n",
       "      <td>0.150</td>\n",
       "      <td>0.000</td>\n",
       "      <td>0.0</td>\n",
       "      <td>0.0</td>\n",
       "      <td>18.000000</td>\n",
       "      <td>18.0</td>\n",
       "      <td>0.707107</td>\n",
       "      <td>POLYGON ((620044.8500000015 6416900.809999999,...</td>\n",
       "    </tr>\n",
       "    <tr>\n",
       "      <th>479492</th>\n",
       "      <td>491300</td>\n",
       "      <td>1</td>\n",
       "      <td>1000</td>\n",
       "      <td>1000</td>\n",
       "      <td>0</td>\n",
       "      <td>0</td>\n",
       "      <td>0</td>\n",
       "      <td>0.150</td>\n",
       "      <td>0.000</td>\n",
       "      <td>0.0</td>\n",
       "      <td>0.0</td>\n",
       "      <td>17.750000</td>\n",
       "      <td>18.0</td>\n",
       "      <td>0.433013</td>\n",
       "      <td>POLYGON ((672815.3599999994 6592217.18, 672809...</td>\n",
       "    </tr>\n",
       "    <tr>\n",
       "      <th>613401</th>\n",
       "      <td>613255</td>\n",
       "      <td>1</td>\n",
       "      <td>1000</td>\n",
       "      <td>1000</td>\n",
       "      <td>0</td>\n",
       "      <td>0</td>\n",
       "      <td>0</td>\n",
       "      <td>0.200</td>\n",
       "      <td>0.000</td>\n",
       "      <td>0.0</td>\n",
       "      <td>0.0</td>\n",
       "      <td>18.500000</td>\n",
       "      <td>18.5</td>\n",
       "      <td>0.500000</td>\n",
       "      <td>POLYGON ((659315.4900000021 6450219.640000001,...</td>\n",
       "    </tr>\n",
       "  </tbody>\n",
       "</table>\n",
       "</div>"
      ],
      "text/plain": [
       "        orig_fid  nlayers  SOL_ZMX  SOL_Z1  SOL_Z2  SOL_Z3  SOL_Z4  SOL_AWC1  \\\n",
       "614939    614793        1     1000    1000       0       0       0     0.316   \n",
       "696818    696420        1     1000    1000       0       0       0     0.500   \n",
       "222699    222699        1     1000    1000       0       0       0     0.200   \n",
       "365169    365162        2     1000     500     500       0       0     0.200   \n",
       "703571    703173        1     1000    1000       0       0       0     0.500   \n",
       "199234    198957        1     1000    1000       0       0       0     0.150   \n",
       "261263    261254        2     1000     250     750       0       0     0.200   \n",
       "406099    441568        1     1500    1500       0       0       0     0.150   \n",
       "479492    491300        1     1000    1000       0       0       0     0.150   \n",
       "613401    613255        1     1000    1000       0       0       0     0.200   \n",
       "\n",
       "        SOL_AWC2  SOL_AWC3  SOL_AWC4       mean  median       std  \\\n",
       "614939     0.000       0.0       0.0  19.000000    19.0  0.000000   \n",
       "696818     0.000       0.0       0.0  16.600000    17.0  0.489898   \n",
       "222699     0.000       0.0       0.0  17.750000    18.0  0.433013   \n",
       "365169     0.316       0.0       0.0  18.818182    19.0  0.385695   \n",
       "703571     0.000       0.0       0.0  19.000000    19.0  0.000000   \n",
       "199234     0.000       0.0       0.0  19.000000    19.0  0.000000   \n",
       "261263     0.225       0.0       0.0  19.000000    19.0  0.000000   \n",
       "406099     0.000       0.0       0.0  18.000000    18.0  0.707107   \n",
       "479492     0.000       0.0       0.0  17.750000    18.0  0.433013   \n",
       "613401     0.000       0.0       0.0  18.500000    18.5  0.500000   \n",
       "\n",
       "                                                 geometry  \n",
       "614939  POLYGON ((684339.7800000012 6388279.640000001,...  \n",
       "696818  POLYGON ((641525.9299999997 6460928.739999998,...  \n",
       "222699  POLYGON ((575588.2107999995 6557749.230700001,...  \n",
       "365169  POLYGON ((588653.0900000036 6535391.48, 588655...  \n",
       "703571  POLYGON ((654959.1799999997 6438654.719999999,...  \n",
       "199234  POLYGON ((474769.3599999994 6551231.41, 474701...  \n",
       "261263  POLYGON ((649885.75 6596810.48, 649887.0700000...  \n",
       "406099  POLYGON ((620044.8500000015 6416900.809999999,...  \n",
       "479492  POLYGON ((672815.3599999994 6592217.18, 672809...  \n",
       "613401  POLYGON ((659315.4900000021 6450219.640000001,...  "
      ]
     },
     "metadata": {},
     "output_type": "display_data"
    },
    {
     "data": {
      "text/plain": [
       "orig_fid      int64\n",
       "nlayers       int64\n",
       "SOL_ZMX       int64\n",
       "SOL_Z1        int64\n",
       "SOL_Z2        int64\n",
       "SOL_Z3        int64\n",
       "SOL_Z4        int64\n",
       "SOL_AWC1    float64\n",
       "SOL_AWC2    float64\n",
       "SOL_AWC3    float64\n",
       "SOL_AWC4    float64\n",
       "mean        float64\n",
       "median      float64\n",
       "std         float64\n",
       "geometry     object\n",
       "dtype: object"
      ]
     },
     "metadata": {},
     "output_type": "display_data"
    },
    {
     "data": {
      "image/png": "[encoded data removed]",
      "text/plain": [
       "<Figure size 432x288 with 1 Axes>"
      ]
     },
     "metadata": {
      "needs_background": "light"
     },
     "output_type": "display_data"
    },
    {
     "data": {
      "image/png": "[encoded data removed]",
      "text/plain": [
       "<Figure size 432x288 with 1 Axes>"
      ]
     },
     "metadata": {
      "needs_background": "light"
     },
     "output_type": "display_data"
    },
    {
     "data": {
      "image/png": "[encoded data removed]",
      "text/plain": [
       "<Figure size 432x288 with 1 Axes>"
      ]
     },
     "metadata": {
      "needs_background": "light"
     },
     "output_type": "display_data"
    },
    {
     "data": {
      "image/png": "[encoded data removed]",
      "text/plain": [
       "<Figure size 432x288 with 1 Axes>"
      ]
     },
     "metadata": {
      "needs_background": "light"
     },
     "output_type": "display_data"
    },
    {
     "data": {
      "text/plain": [
       "orig_fid      0\n",
       "nlayers       0\n",
       "SOL_ZMX       0\n",
       "SOL_Z1        0\n",
       "SOL_Z2        0\n",
       "SOL_Z3        0\n",
       "SOL_Z4        0\n",
       "SOL_AWC1      0\n",
       "SOL_AWC2      0\n",
       "SOL_AWC3      0\n",
       "SOL_AWC4      0\n",
       "mean        470\n",
       "median      470\n",
       "std         470\n",
       "geometry      0\n",
       "dtype: int64"
      ]
     },
     "metadata": {},
     "output_type": "display_data"
    },
    {
     "data": {
      "text/html": [
       "<div>\n",
       "<style scoped>\n",
       "    .dataframe tbody tr th:only-of-type {\n",
       "        vertical-align: middle;\n",
       "    }\n",
       "\n",
       "    .dataframe tbody tr th {\n",
       "        vertical-align: top;\n",
       "    }\n",
       "\n",
       "    .dataframe thead th {\n",
       "        text-align: right;\n",
       "    }\n",
       "</style>\n",
       "<table border=\"1\" class=\"dataframe\">\n",
       "  <thead>\n",
       "    <tr style=\"text-align: right;\">\n",
       "      <th></th>\n",
       "      <th>orig_fid</th>\n",
       "      <th>nlayers</th>\n",
       "      <th>SOL_ZMX</th>\n",
       "      <th>SOL_Z1</th>\n",
       "      <th>SOL_Z2</th>\n",
       "      <th>SOL_Z3</th>\n",
       "      <th>SOL_Z4</th>\n",
       "      <th>SOL_AWC1</th>\n",
       "      <th>SOL_AWC2</th>\n",
       "      <th>SOL_AWC3</th>\n",
       "      <th>SOL_AWC4</th>\n",
       "      <th>mean</th>\n",
       "      <th>median</th>\n",
       "      <th>std</th>\n",
       "      <th>geometry</th>\n",
       "    </tr>\n",
       "  </thead>\n",
       "  <tbody>\n",
       "    <tr>\n",
       "      <th>640860</th>\n",
       "      <td>640714</td>\n",
       "      <td>1</td>\n",
       "      <td>1000</td>\n",
       "      <td>1000</td>\n",
       "      <td>0</td>\n",
       "      <td>0</td>\n",
       "      <td>0</td>\n",
       "      <td>0.316</td>\n",
       "      <td>0.0</td>\n",
       "      <td>0.0</td>\n",
       "      <td>0.0</td>\n",
       "      <td>16.000000</td>\n",
       "      <td>16.0</td>\n",
       "      <td>0.000000</td>\n",
       "      <td>POLYGON ((651559.7800000012 6408852.75, 651558...</td>\n",
       "    </tr>\n",
       "    <tr>\n",
       "      <th>704712</th>\n",
       "      <td>704314</td>\n",
       "      <td>1</td>\n",
       "      <td>1000</td>\n",
       "      <td>1000</td>\n",
       "      <td>0</td>\n",
       "      <td>0</td>\n",
       "      <td>0</td>\n",
       "      <td>0.500</td>\n",
       "      <td>0.0</td>\n",
       "      <td>0.0</td>\n",
       "      <td>0.0</td>\n",
       "      <td>18.000000</td>\n",
       "      <td>18.0</td>\n",
       "      <td>0.000000</td>\n",
       "      <td>POLYGON ((660428.1403999999 6446712.600000001,...</td>\n",
       "    </tr>\n",
       "    <tr>\n",
       "      <th>333901</th>\n",
       "      <td>333900</td>\n",
       "      <td>1</td>\n",
       "      <td>1000</td>\n",
       "      <td>1000</td>\n",
       "      <td>0</td>\n",
       "      <td>0</td>\n",
       "      <td>0</td>\n",
       "      <td>0.316</td>\n",
       "      <td>0.0</td>\n",
       "      <td>0.0</td>\n",
       "      <td>0.0</td>\n",
       "      <td>18.000000</td>\n",
       "      <td>18.0</td>\n",
       "      <td>0.000000</td>\n",
       "      <td>POLYGON ((686951.049999997 6395960.239999998, ...</td>\n",
       "    </tr>\n",
       "    <tr>\n",
       "      <th>511058</th>\n",
       "      <td>465485</td>\n",
       "      <td>1</td>\n",
       "      <td>1000</td>\n",
       "      <td>1000</td>\n",
       "      <td>0</td>\n",
       "      <td>0</td>\n",
       "      <td>0</td>\n",
       "      <td>0.150</td>\n",
       "      <td>0.0</td>\n",
       "      <td>0.0</td>\n",
       "      <td>0.0</td>\n",
       "      <td>17.000000</td>\n",
       "      <td>17.0</td>\n",
       "      <td>0.000000</td>\n",
       "      <td>POLYGON ((392680.7800000012 6459322.850000001,...</td>\n",
       "    </tr>\n",
       "    <tr>\n",
       "      <th>251312</th>\n",
       "      <td>251300</td>\n",
       "      <td>1</td>\n",
       "      <td>1000</td>\n",
       "      <td>1000</td>\n",
       "      <td>0</td>\n",
       "      <td>0</td>\n",
       "      <td>0</td>\n",
       "      <td>0.316</td>\n",
       "      <td>0.0</td>\n",
       "      <td>0.0</td>\n",
       "      <td>0.0</td>\n",
       "      <td>18.000000</td>\n",
       "      <td>18.0</td>\n",
       "      <td>0.000000</td>\n",
       "      <td>POLYGON ((490612.4600000009 6537245.550000001,...</td>\n",
       "    </tr>\n",
       "    <tr>\n",
       "      <th>615020</th>\n",
       "      <td>614874</td>\n",
       "      <td>1</td>\n",
       "      <td>1000</td>\n",
       "      <td>1000</td>\n",
       "      <td>0</td>\n",
       "      <td>0</td>\n",
       "      <td>0</td>\n",
       "      <td>0.316</td>\n",
       "      <td>0.0</td>\n",
       "      <td>0.0</td>\n",
       "      <td>0.0</td>\n",
       "      <td>18.000000</td>\n",
       "      <td>18.0</td>\n",
       "      <td>1.000000</td>\n",
       "      <td>POLYGON ((636963.2299999967 6393467.710000001,...</td>\n",
       "    </tr>\n",
       "    <tr>\n",
       "      <th>270388</th>\n",
       "      <td>270383</td>\n",
       "      <td>1</td>\n",
       "      <td>1000</td>\n",
       "      <td>1000</td>\n",
       "      <td>0</td>\n",
       "      <td>0</td>\n",
       "      <td>0</td>\n",
       "      <td>0.200</td>\n",
       "      <td>0.0</td>\n",
       "      <td>0.0</td>\n",
       "      <td>0.0</td>\n",
       "      <td>18.000000</td>\n",
       "      <td>18.0</td>\n",
       "      <td>0.000000</td>\n",
       "      <td>POLYGON ((658462.7400000021 6418059.329999998,...</td>\n",
       "    </tr>\n",
       "    <tr>\n",
       "      <th>603287</th>\n",
       "      <td>603141</td>\n",
       "      <td>1</td>\n",
       "      <td>1000</td>\n",
       "      <td>1000</td>\n",
       "      <td>0</td>\n",
       "      <td>0</td>\n",
       "      <td>0</td>\n",
       "      <td>0.200</td>\n",
       "      <td>0.0</td>\n",
       "      <td>0.0</td>\n",
       "      <td>0.0</td>\n",
       "      <td>18.000000</td>\n",
       "      <td>18.0</td>\n",
       "      <td>0.000000</td>\n",
       "      <td>POLYGON ((701783.4600000009 6407270.879999999,...</td>\n",
       "    </tr>\n",
       "    <tr>\n",
       "      <th>54652</th>\n",
       "      <td>54023</td>\n",
       "      <td>1</td>\n",
       "      <td>1000</td>\n",
       "      <td>1000</td>\n",
       "      <td>0</td>\n",
       "      <td>0</td>\n",
       "      <td>0</td>\n",
       "      <td>0.200</td>\n",
       "      <td>0.0</td>\n",
       "      <td>0.0</td>\n",
       "      <td>0.0</td>\n",
       "      <td>17.833333</td>\n",
       "      <td>18.0</td>\n",
       "      <td>0.687184</td>\n",
       "      <td>POLYGON ((613355.25 6432042.41, 613354.7999999...</td>\n",
       "    </tr>\n",
       "    <tr>\n",
       "      <th>6699</th>\n",
       "      <td>6514</td>\n",
       "      <td>1</td>\n",
       "      <td>1000</td>\n",
       "      <td>1000</td>\n",
       "      <td>0</td>\n",
       "      <td>0</td>\n",
       "      <td>0</td>\n",
       "      <td>0.200</td>\n",
       "      <td>0.0</td>\n",
       "      <td>0.0</td>\n",
       "      <td>0.0</td>\n",
       "      <td>18.000000</td>\n",
       "      <td>18.0</td>\n",
       "      <td>0.000000</td>\n",
       "      <td>POLYGON ((584267.4099999964 6527007.98, 584237...</td>\n",
       "    </tr>\n",
       "  </tbody>\n",
       "</table>\n",
       "</div>"
      ],
      "text/plain": [
       "        orig_fid  nlayers  SOL_ZMX  SOL_Z1  SOL_Z2  SOL_Z3  SOL_Z4  SOL_AWC1  \\\n",
       "640860    640714        1     1000    1000       0       0       0     0.316   \n",
       "704712    704314        1     1000    1000       0       0       0     0.500   \n",
       "333901    333900        1     1000    1000       0       0       0     0.316   \n",
       "511058    465485        1     1000    1000       0       0       0     0.150   \n",
       "251312    251300        1     1000    1000       0       0       0     0.316   \n",
       "615020    614874        1     1000    1000       0       0       0     0.316   \n",
       "270388    270383        1     1000    1000       0       0       0     0.200   \n",
       "603287    603141        1     1000    1000       0       0       0     0.200   \n",
       "54652      54023        1     1000    1000       0       0       0     0.200   \n",
       "6699        6514        1     1000    1000       0       0       0     0.200   \n",
       "\n",
       "        SOL_AWC2  SOL_AWC3  SOL_AWC4       mean  median       std  \\\n",
       "640860       0.0       0.0       0.0  16.000000    16.0  0.000000   \n",
       "704712       0.0       0.0       0.0  18.000000    18.0  0.000000   \n",
       "333901       0.0       0.0       0.0  18.000000    18.0  0.000000   \n",
       "511058       0.0       0.0       0.0  17.000000    17.0  0.000000   \n",
       "251312       0.0       0.0       0.0  18.000000    18.0  0.000000   \n",
       "615020       0.0       0.0       0.0  18.000000    18.0  1.000000   \n",
       "270388       0.0       0.0       0.0  18.000000    18.0  0.000000   \n",
       "603287       0.0       0.0       0.0  18.000000    18.0  0.000000   \n",
       "54652        0.0       0.0       0.0  17.833333    18.0  0.687184   \n",
       "6699         0.0       0.0       0.0  18.000000    18.0  0.000000   \n",
       "\n",
       "                                                 geometry  \n",
       "640860  POLYGON ((651559.7800000012 6408852.75, 651558...  \n",
       "704712  POLYGON ((660428.1403999999 6446712.600000001,...  \n",
       "333901  POLYGON ((686951.049999997 6395960.239999998, ...  \n",
       "511058  POLYGON ((392680.7800000012 6459322.850000001,...  \n",
       "251312  POLYGON ((490612.4600000009 6537245.550000001,...  \n",
       "615020  POLYGON ((636963.2299999967 6393467.710000001,...  \n",
       "270388  POLYGON ((658462.7400000021 6418059.329999998,...  \n",
       "603287  POLYGON ((701783.4600000009 6407270.879999999,...  \n",
       "54652   POLYGON ((613355.25 6432042.41, 613354.7999999...  \n",
       "6699    POLYGON ((584267.4099999964 6527007.98, 584237...  "
      ]
     },
     "metadata": {},
     "output_type": "display_data"
    },
    {
     "data": {
      "text/plain": [
       "orig_fid      int64\n",
       "nlayers       int64\n",
       "SOL_ZMX       int64\n",
       "SOL_Z1        int64\n",
       "SOL_Z2        int64\n",
       "SOL_Z3        int64\n",
       "SOL_Z4        int64\n",
       "SOL_AWC1    float64\n",
       "SOL_AWC2    float64\n",
       "SOL_AWC3    float64\n",
       "SOL_AWC4    float64\n",
       "mean        float64\n",
       "median      float64\n",
       "std         float64\n",
       "geometry     object\n",
       "dtype: object"
      ]
     },
     "metadata": {},
     "output_type": "display_data"
    },
    {
     "data": {
      "image/png": "[encoded data removed]",
      "text/plain": [
       "<Figure size 432x288 with 1 Axes>"
      ]
     },
     "metadata": {
      "needs_background": "light"
     },
     "output_type": "display_data"
    },
    {
     "data": {
      "image/png": "[encoded data removed]",
      "text/plain": [
       "<Figure size 432x288 with 1 Axes>"
      ]
     },
     "metadata": {
      "needs_background": "light"
     },
     "output_type": "display_data"
    },
    {
     "data": {
      "image/png": "[encoded data removed]",
      "text/plain": [
       "<Figure size 432x288 with 1 Axes>"
      ]
     },
     "metadata": {
      "needs_background": "light"
     },
     "output_type": "display_data"
    },
    {
     "data": {
      "image/png": "[encoded data removed]",
      "text/plain": [
       "<Figure size 432x288 with 1 Axes>"
      ]
     },
     "metadata": {
      "needs_background": "light"
     },
     "output_type": "display_data"
    },
    {
     "data": {
      "text/plain": [
       "orig_fid      0\n",
       "nlayers       0\n",
       "SOL_ZMX       0\n",
       "SOL_Z1        0\n",
       "SOL_Z2        0\n",
       "SOL_Z3        0\n",
       "SOL_Z4        0\n",
       "SOL_AWC1      0\n",
       "SOL_AWC2      0\n",
       "SOL_AWC3      0\n",
       "SOL_AWC4      0\n",
       "mean        562\n",
       "median      562\n",
       "std         562\n",
       "geometry      0\n",
       "dtype: int64"
      ]
     },
     "metadata": {},
     "output_type": "display_data"
    },
    {
     "data": {
      "text/html": [
       "<div>\n",
       "<style scoped>\n",
       "    .dataframe tbody tr th:only-of-type {\n",
       "        vertical-align: middle;\n",
       "    }\n",
       "\n",
       "    .dataframe tbody tr th {\n",
       "        vertical-align: top;\n",
       "    }\n",
       "\n",
       "    .dataframe thead th {\n",
       "        text-align: right;\n",
       "    }\n",
       "</style>\n",
       "<table border=\"1\" class=\"dataframe\">\n",
       "  <thead>\n",
       "    <tr style=\"text-align: right;\">\n",
       "      <th></th>\n",
       "      <th>orig_fid</th>\n",
       "      <th>nlayers</th>\n",
       "      <th>SOL_ZMX</th>\n",
       "      <th>SOL_Z1</th>\n",
       "      <th>SOL_Z2</th>\n",
       "      <th>SOL_Z3</th>\n",
       "      <th>SOL_Z4</th>\n",
       "      <th>SOL_AWC1</th>\n",
       "      <th>SOL_AWC2</th>\n",
       "      <th>SOL_AWC3</th>\n",
       "      <th>SOL_AWC4</th>\n",
       "      <th>mean</th>\n",
       "      <th>median</th>\n",
       "      <th>std</th>\n",
       "      <th>geometry</th>\n",
       "    </tr>\n",
       "  </thead>\n",
       "  <tbody>\n",
       "    <tr>\n",
       "      <th>11081</th>\n",
       "      <td>11081</td>\n",
       "      <td>1</td>\n",
       "      <td>1000</td>\n",
       "      <td>1000</td>\n",
       "      <td>0</td>\n",
       "      <td>0</td>\n",
       "      <td>0</td>\n",
       "      <td>0.150</td>\n",
       "      <td>0.000</td>\n",
       "      <td>0.000</td>\n",
       "      <td>0.0</td>\n",
       "      <td>20.666667</td>\n",
       "      <td>21.0</td>\n",
       "      <td>0.471405</td>\n",
       "      <td>POLYGON ((613131.6599999964 6475525.859999999,...</td>\n",
       "    </tr>\n",
       "    <tr>\n",
       "      <th>495256</th>\n",
       "      <td>507064</td>\n",
       "      <td>1</td>\n",
       "      <td>1000</td>\n",
       "      <td>1000</td>\n",
       "      <td>0</td>\n",
       "      <td>0</td>\n",
       "      <td>0</td>\n",
       "      <td>0.150</td>\n",
       "      <td>0.000</td>\n",
       "      <td>0.000</td>\n",
       "      <td>0.0</td>\n",
       "      <td>19.000000</td>\n",
       "      <td>19.0</td>\n",
       "      <td>0.000000</td>\n",
       "      <td>POLYGON ((553147.6400000006 6520086.960000001,...</td>\n",
       "    </tr>\n",
       "    <tr>\n",
       "      <th>300149</th>\n",
       "      <td>300133</td>\n",
       "      <td>3</td>\n",
       "      <td>1000</td>\n",
       "      <td>450</td>\n",
       "      <td>300</td>\n",
       "      <td>250</td>\n",
       "      <td>0</td>\n",
       "      <td>0.200</td>\n",
       "      <td>0.000</td>\n",
       "      <td>0.316</td>\n",
       "      <td>0.0</td>\n",
       "      <td>18.083333</td>\n",
       "      <td>18.0</td>\n",
       "      <td>0.640095</td>\n",
       "      <td>POLYGON ((672541.3599999994 6585070.440000001,...</td>\n",
       "    </tr>\n",
       "    <tr>\n",
       "      <th>240610</th>\n",
       "      <td>240610</td>\n",
       "      <td>2</td>\n",
       "      <td>1000</td>\n",
       "      <td>425</td>\n",
       "      <td>575</td>\n",
       "      <td>0</td>\n",
       "      <td>0</td>\n",
       "      <td>0.200</td>\n",
       "      <td>0.200</td>\n",
       "      <td>0.000</td>\n",
       "      <td>0.0</td>\n",
       "      <td>18.666667</td>\n",
       "      <td>19.0</td>\n",
       "      <td>0.471405</td>\n",
       "      <td>POLYGON ((444449.950000003 6484461.940000001, ...</td>\n",
       "    </tr>\n",
       "    <tr>\n",
       "      <th>312101</th>\n",
       "      <td>312085</td>\n",
       "      <td>2</td>\n",
       "      <td>1000</td>\n",
       "      <td>700</td>\n",
       "      <td>300</td>\n",
       "      <td>0</td>\n",
       "      <td>0</td>\n",
       "      <td>0.200</td>\n",
       "      <td>0.200</td>\n",
       "      <td>0.000</td>\n",
       "      <td>0.0</td>\n",
       "      <td>18.000000</td>\n",
       "      <td>18.0</td>\n",
       "      <td>0.000000</td>\n",
       "      <td>POLYGON ((607429.25 6566946.02, 607426.0799999...</td>\n",
       "    </tr>\n",
       "    <tr>\n",
       "      <th>136339</th>\n",
       "      <td>136208</td>\n",
       "      <td>1</td>\n",
       "      <td>1000</td>\n",
       "      <td>1000</td>\n",
       "      <td>0</td>\n",
       "      <td>0</td>\n",
       "      <td>0</td>\n",
       "      <td>0.150</td>\n",
       "      <td>0.000</td>\n",
       "      <td>0.000</td>\n",
       "      <td>0.0</td>\n",
       "      <td>18.000000</td>\n",
       "      <td>18.0</td>\n",
       "      <td>0.000000</td>\n",
       "      <td>POLYGON ((392958.1899999976 6471788.780000001,...</td>\n",
       "    </tr>\n",
       "    <tr>\n",
       "      <th>156574</th>\n",
       "      <td>156574</td>\n",
       "      <td>2</td>\n",
       "      <td>1000</td>\n",
       "      <td>300</td>\n",
       "      <td>700</td>\n",
       "      <td>0</td>\n",
       "      <td>0</td>\n",
       "      <td>0.316</td>\n",
       "      <td>0.500</td>\n",
       "      <td>0.000</td>\n",
       "      <td>0.0</td>\n",
       "      <td>19.333333</td>\n",
       "      <td>19.0</td>\n",
       "      <td>0.471405</td>\n",
       "      <td>POLYGON ((556547.8999999985 6552055.140000001,...</td>\n",
       "    </tr>\n",
       "    <tr>\n",
       "      <th>127655</th>\n",
       "      <td>127655</td>\n",
       "      <td>1</td>\n",
       "      <td>1000</td>\n",
       "      <td>1000</td>\n",
       "      <td>0</td>\n",
       "      <td>0</td>\n",
       "      <td>0</td>\n",
       "      <td>0.316</td>\n",
       "      <td>0.000</td>\n",
       "      <td>0.000</td>\n",
       "      <td>0.0</td>\n",
       "      <td>18.666667</td>\n",
       "      <td>19.0</td>\n",
       "      <td>0.471405</td>\n",
       "      <td>POLYGON ((639728.3200000003 6431544.899999999,...</td>\n",
       "    </tr>\n",
       "    <tr>\n",
       "      <th>722856</th>\n",
       "      <td>722458</td>\n",
       "      <td>1</td>\n",
       "      <td>1000</td>\n",
       "      <td>1000</td>\n",
       "      <td>0</td>\n",
       "      <td>0</td>\n",
       "      <td>0</td>\n",
       "      <td>0.500</td>\n",
       "      <td>0.000</td>\n",
       "      <td>0.000</td>\n",
       "      <td>0.0</td>\n",
       "      <td>19.428571</td>\n",
       "      <td>19.0</td>\n",
       "      <td>0.494872</td>\n",
       "      <td>POLYGON ((647778.1099999994 6435080.370000001,...</td>\n",
       "    </tr>\n",
       "    <tr>\n",
       "      <th>284046</th>\n",
       "      <td>284041</td>\n",
       "      <td>2</td>\n",
       "      <td>1000</td>\n",
       "      <td>650</td>\n",
       "      <td>350</td>\n",
       "      <td>0</td>\n",
       "      <td>0</td>\n",
       "      <td>0.316</td>\n",
       "      <td>0.316</td>\n",
       "      <td>0.000</td>\n",
       "      <td>0.0</td>\n",
       "      <td>18.857143</td>\n",
       "      <td>19.0</td>\n",
       "      <td>0.349927</td>\n",
       "      <td>POLYGON ((591272.7299999967 6537033.489999998,...</td>\n",
       "    </tr>\n",
       "  </tbody>\n",
       "</table>\n",
       "</div>"
      ],
      "text/plain": [
       "        orig_fid  nlayers  SOL_ZMX  SOL_Z1  SOL_Z2  SOL_Z3  SOL_Z4  SOL_AWC1  \\\n",
       "11081      11081        1     1000    1000       0       0       0     0.150   \n",
       "495256    507064        1     1000    1000       0       0       0     0.150   \n",
       "300149    300133        3     1000     450     300     250       0     0.200   \n",
       "240610    240610        2     1000     425     575       0       0     0.200   \n",
       "312101    312085        2     1000     700     300       0       0     0.200   \n",
       "136339    136208        1     1000    1000       0       0       0     0.150   \n",
       "156574    156574        2     1000     300     700       0       0     0.316   \n",
       "127655    127655        1     1000    1000       0       0       0     0.316   \n",
       "722856    722458        1     1000    1000       0       0       0     0.500   \n",
       "284046    284041        2     1000     650     350       0       0     0.316   \n",
       "\n",
       "        SOL_AWC2  SOL_AWC3  SOL_AWC4       mean  median       std  \\\n",
       "11081      0.000     0.000       0.0  20.666667    21.0  0.471405   \n",
       "495256     0.000     0.000       0.0  19.000000    19.0  0.000000   \n",
       "300149     0.000     0.316       0.0  18.083333    18.0  0.640095   \n",
       "240610     0.200     0.000       0.0  18.666667    19.0  0.471405   \n",
       "312101     0.200     0.000       0.0  18.000000    18.0  0.000000   \n",
       "136339     0.000     0.000       0.0  18.000000    18.0  0.000000   \n",
       "156574     0.500     0.000       0.0  19.333333    19.0  0.471405   \n",
       "127655     0.000     0.000       0.0  18.666667    19.0  0.471405   \n",
       "722856     0.000     0.000       0.0  19.428571    19.0  0.494872   \n",
       "284046     0.316     0.000       0.0  18.857143    19.0  0.349927   \n",
       "\n",
       "                                                 geometry  \n",
       "11081   POLYGON ((613131.6599999964 6475525.859999999,...  \n",
       "495256  POLYGON ((553147.6400000006 6520086.960000001,...  \n",
       "300149  POLYGON ((672541.3599999994 6585070.440000001,...  \n",
       "240610  POLYGON ((444449.950000003 6484461.940000001, ...  \n",
       "312101  POLYGON ((607429.25 6566946.02, 607426.0799999...  \n",
       "136339  POLYGON ((392958.1899999976 6471788.780000001,...  \n",
       "156574  POLYGON ((556547.8999999985 6552055.140000001,...  \n",
       "127655  POLYGON ((639728.3200000003 6431544.899999999,...  \n",
       "722856  POLYGON ((647778.1099999994 6435080.370000001,...  \n",
       "284046  POLYGON ((591272.7299999967 6537033.489999998,...  "
      ]
     },
     "metadata": {},
     "output_type": "display_data"
    },
    {
     "data": {
      "text/plain": [
       "orig_fid      int64\n",
       "nlayers       int64\n",
       "SOL_ZMX       int64\n",
       "SOL_Z1        int64\n",
       "SOL_Z2        int64\n",
       "SOL_Z3        int64\n",
       "SOL_Z4        int64\n",
       "SOL_AWC1    float64\n",
       "SOL_AWC2    float64\n",
       "SOL_AWC3    float64\n",
       "SOL_AWC4    float64\n",
       "mean        float64\n",
       "median      float64\n",
       "std         float64\n",
       "geometry     object\n",
       "dtype: object"
      ]
     },
     "metadata": {},
     "output_type": "display_data"
    },
    {
     "data": {
      "image/png": "[encoded data removed]",
      "text/plain": [
       "<Figure size 432x288 with 1 Axes>"
      ]
     },
     "metadata": {
      "needs_background": "light"
     },
     "output_type": "display_data"
    },
    {
     "data": {
      "image/png": "[encoded data removed]",
      "text/plain": [
       "<Figure size 432x288 with 1 Axes>"
      ]
     },
     "metadata": {
      "needs_background": "light"
     },
     "output_type": "display_data"
    },
    {
     "data": {
      "image/png": "[encoded data removed]",
      "text/plain": [
       "<Figure size 432x288 with 1 Axes>"
      ]
     },
     "metadata": {
      "needs_background": "light"
     },
     "output_type": "display_data"
    },
    {
     "data": {
      "image/png": "[encoded data removed]",
      "text/plain": [
       "<Figure size 432x288 with 1 Axes>"
      ]
     },
     "metadata": {
      "needs_background": "light"
     },
     "output_type": "display_data"
    }
   ],
   "source": [
    "import numpy as np  # type: ignore\n",
    "import pandas as pd  # type: ignore\n",
    "\n",
    "import functools\n",
    "import statistics\n",
    "import operator\n",
    "\n",
    "import fiona  # type: ignore\n",
    "from fiona.crs import from_epsg # type: ignore\n",
    "import geopandas as gpd  # type: ignore\n",
    "\n",
    "import rasterio\n",
    "from rasterio.plot import show\n",
    "from rasterstats import zonal_stats\n",
    "from rasterio.warp import calculate_default_transform, reproject, Resampling\n",
    "\n",
    "with fiona.open('eesti_soil_red1_texture_fix_geo_redo_awc_tmp.shp') as vector_src:\n",
    "    \n",
    "    src_crs = vector_src.crs\n",
    "    display(src_crs)\n",
    "    src_schema = vector_src.schema\n",
    "    display(src_schema)\n",
    "\n",
    "    src_schema['properties'][\"mean\"] = \"float\"\n",
    "    src_schema['properties'][\"median\"] = \"float\"\n",
    "    src_schema['properties'][\"std\"] = \"float\"\n",
    "    \n",
    "    for layer in range(1,8):\n",
    "        # ../hydrological/catchments/porijogi_catchment/porijõgi_catchment.shp\n",
    "        # eesti_soil_red1_texture_fix_geo_redo_awc_tmp.shp\n",
    "        \n",
    "        outputs = zonal_stats(vector_src,\n",
    "                f\"C:\\\\dev\\\\05_geodata\\\\soil\\\\Estonia_EU_Hydrosoilgrids\\\\Estonia_250m_AWC_3301\\\\Estonia_250m_AWC_3301_L{layer}.tif\",\n",
    "                stats=\"mean median std\",\n",
    "                all_touched=True, geojson_out=True)\n",
    "    \n",
    "        with fiona.open(f\"eesti_soil_red1_fix_geo_awc_zonal_layer_{layer}.shp\", \"w\", driver=\"ESRI Shapefile\", schema=src_schema, crs=src_crs) as collection:\n",
    "            collection.writerecords(outputs)\n",
    "            print(len(collection))\n",
    "            collection.flush()\n",
    "\n",
    "\n",
    "# load geodataframes\n",
    "for layer in range(1,8):\n",
    "    next_layer = gpd.read_file(f\"eesti_soil_red1_fix_geo_awc_zonal_layer_{layer}.shp\", encoding='utf-8')\n",
    "    display(next_layer.isnull().sum())\n",
    "    display(next_layer.sample(10))\n",
    "    display(next_layer.dtypes)\n",
    "    fig, ax = plt.subplots()\n",
    "    fig = next_layer[\"mean\"].hist(ax=ax)\n",
    "    plt.show()\n",
    "    fig, ax = plt.subplots()\n",
    "    fig = next_layer[\"mean\"].plot(ax=ax)\n",
    "    plt.show()\n",
    "    fig, ax = plt.subplots()\n",
    "    fig = next_layer[\"std\"].hist(ax=ax)\n",
    "    plt.show()\n",
    "    fig, ax = plt.subplots()\n",
    "    fig = next_layer[\"std\"].plot(ax=ax)\n",
    "    plt.show()\n",
    "    # next_layer[\"mean\"] = next_layer.isnull().apply(lambda x: x[\"majority\"])\n",
    "    # display(next_layer.isnull().sum())\n",
    "    # because to save memory space, the factions after comma were stored as Byte / UInt8\n",
    "    # next_layer['mean'] = next_layer['mean'] / 100.0\n",
    "    next_layer.to_file(f\"eesti_soil_red1_fix_geo_awc_zonal_layer_{layer}.shp\", encoding='utf-8')\n",
    "    \n",
    "# do_layer_avg_1_4"
   ]
  },
  {
   "cell_type": "code",
   "execution_count": 5,
   "metadata": {},
   "outputs": [],
   "source": [
    "import numpy as np  # type: ignore\n",
    "import pandas as pd  # type: ignore\n",
    "\n",
    "import fiona  # type: ignore\n",
    "from fiona.crs import from_epsg # type: ignore\n",
    "import geopandas as gpd  # type: ignore\n"
   ]
  },
  {
   "cell_type": "code",
   "execution_count": 7,
   "metadata": {},
   "outputs": [
    {
     "data": {
      "text/html": [
       "<div>\n",
       "<style scoped>\n",
       "    .dataframe tbody tr th:only-of-type {\n",
       "        vertical-align: middle;\n",
       "    }\n",
       "\n",
       "    .dataframe tbody tr th {\n",
       "        vertical-align: top;\n",
       "    }\n",
       "\n",
       "    .dataframe thead th {\n",
       "        text-align: right;\n",
       "    }\n",
       "</style>\n",
       "<table border=\"1\" class=\"dataframe\">\n",
       "  <thead>\n",
       "    <tr style=\"text-align: right;\">\n",
       "      <th></th>\n",
       "      <th>orig_fid</th>\n",
       "      <th>nlayers</th>\n",
       "      <th>SOL_ZMX</th>\n",
       "      <th>SOL_Z1</th>\n",
       "      <th>SOL_Z2</th>\n",
       "      <th>SOL_Z3</th>\n",
       "      <th>SOL_Z4</th>\n",
       "      <th>SOL_AWC1</th>\n",
       "      <th>SOL_AWC2</th>\n",
       "      <th>SOL_AWC3</th>\n",
       "      <th>SOL_AWC4</th>\n",
       "      <th>AWC_L1</th>\n",
       "      <th>geometry</th>\n",
       "      <th>AWC_L2</th>\n",
       "      <th>AWC_L3</th>\n",
       "      <th>AWC_L4</th>\n",
       "      <th>AWC_L5</th>\n",
       "      <th>AWC_L6</th>\n",
       "      <th>AWC_L7</th>\n",
       "    </tr>\n",
       "  </thead>\n",
       "  <tbody>\n",
       "    <tr>\n",
       "      <th>412647</th>\n",
       "      <td>399026</td>\n",
       "      <td>1</td>\n",
       "      <td>1100</td>\n",
       "      <td>1100</td>\n",
       "      <td>0</td>\n",
       "      <td>0</td>\n",
       "      <td>0</td>\n",
       "      <td>0.150</td>\n",
       "      <td>0.000</td>\n",
       "      <td>0.000</td>\n",
       "      <td>0.0</td>\n",
       "      <td>21.00</td>\n",
       "      <td>POLYGON ((674511.6599999964 6496609.800000001,...</td>\n",
       "      <td>21.142857</td>\n",
       "      <td>19.571429</td>\n",
       "      <td>19.285714</td>\n",
       "      <td>18.285714</td>\n",
       "      <td>18.285714</td>\n",
       "      <td>18.857143</td>\n",
       "    </tr>\n",
       "    <tr>\n",
       "      <th>112657</th>\n",
       "      <td>112657</td>\n",
       "      <td>1</td>\n",
       "      <td>1000</td>\n",
       "      <td>1000</td>\n",
       "      <td>0</td>\n",
       "      <td>0</td>\n",
       "      <td>0</td>\n",
       "      <td>0.150</td>\n",
       "      <td>0.000</td>\n",
       "      <td>0.000</td>\n",
       "      <td>0.0</td>\n",
       "      <td>18.50</td>\n",
       "      <td>POLYGON ((390572.299999997 6533465.039999999, ...</td>\n",
       "      <td>18.500000</td>\n",
       "      <td>18.000000</td>\n",
       "      <td>18.000000</td>\n",
       "      <td>17.500000</td>\n",
       "      <td>17.500000</td>\n",
       "      <td>17.000000</td>\n",
       "    </tr>\n",
       "    <tr>\n",
       "      <th>203817</th>\n",
       "      <td>203540</td>\n",
       "      <td>2</td>\n",
       "      <td>1000</td>\n",
       "      <td>400</td>\n",
       "      <td>600</td>\n",
       "      <td>0</td>\n",
       "      <td>0</td>\n",
       "      <td>0.200</td>\n",
       "      <td>0.200</td>\n",
       "      <td>0.000</td>\n",
       "      <td>0.0</td>\n",
       "      <td>20.00</td>\n",
       "      <td>POLYGON ((438625.6199999973 6475453.84, 438625...</td>\n",
       "      <td>19.500000</td>\n",
       "      <td>19.000000</td>\n",
       "      <td>19.000000</td>\n",
       "      <td>18.500000</td>\n",
       "      <td>18.000000</td>\n",
       "      <td>18.000000</td>\n",
       "    </tr>\n",
       "    <tr>\n",
       "      <th>240191</th>\n",
       "      <td>240191</td>\n",
       "      <td>3</td>\n",
       "      <td>1000</td>\n",
       "      <td>220</td>\n",
       "      <td>375</td>\n",
       "      <td>405</td>\n",
       "      <td>0</td>\n",
       "      <td>0.200</td>\n",
       "      <td>0.000</td>\n",
       "      <td>0.225</td>\n",
       "      <td>0.0</td>\n",
       "      <td>19.50</td>\n",
       "      <td>POLYGON ((401363.4200000018 6482899.550000001,...</td>\n",
       "      <td>19.333333</td>\n",
       "      <td>18.000000</td>\n",
       "      <td>17.833333</td>\n",
       "      <td>17.000000</td>\n",
       "      <td>16.833333</td>\n",
       "      <td>17.833333</td>\n",
       "    </tr>\n",
       "    <tr>\n",
       "      <th>482221</th>\n",
       "      <td>494029</td>\n",
       "      <td>2</td>\n",
       "      <td>1000</td>\n",
       "      <td>800</td>\n",
       "      <td>200</td>\n",
       "      <td>0</td>\n",
       "      <td>0</td>\n",
       "      <td>0.150</td>\n",
       "      <td>0.316</td>\n",
       "      <td>0.000</td>\n",
       "      <td>0.0</td>\n",
       "      <td>21.00</td>\n",
       "      <td>POLYGON ((679115.7400000021 6483890.359999999,...</td>\n",
       "      <td>21.000000</td>\n",
       "      <td>18.500000</td>\n",
       "      <td>17.500000</td>\n",
       "      <td>16.500000</td>\n",
       "      <td>16.000000</td>\n",
       "      <td>17.500000</td>\n",
       "    </tr>\n",
       "    <tr>\n",
       "      <th>211058</th>\n",
       "      <td>210781</td>\n",
       "      <td>2</td>\n",
       "      <td>1000</td>\n",
       "      <td>400</td>\n",
       "      <td>600</td>\n",
       "      <td>0</td>\n",
       "      <td>0</td>\n",
       "      <td>0.316</td>\n",
       "      <td>0.316</td>\n",
       "      <td>0.000</td>\n",
       "      <td>0.0</td>\n",
       "      <td>20.00</td>\n",
       "      <td>POLYGON ((539541.8999999985 6481191.440000001,...</td>\n",
       "      <td>19.875000</td>\n",
       "      <td>19.000000</td>\n",
       "      <td>18.125000</td>\n",
       "      <td>17.875000</td>\n",
       "      <td>17.500000</td>\n",
       "      <td>17.875000</td>\n",
       "    </tr>\n",
       "    <tr>\n",
       "      <th>447862</th>\n",
       "      <td>432261</td>\n",
       "      <td>1</td>\n",
       "      <td>1000</td>\n",
       "      <td>1000</td>\n",
       "      <td>0</td>\n",
       "      <td>0</td>\n",
       "      <td>0</td>\n",
       "      <td>0.150</td>\n",
       "      <td>0.000</td>\n",
       "      <td>0.000</td>\n",
       "      <td>0.0</td>\n",
       "      <td>20.20</td>\n",
       "      <td>POLYGON ((572729.3999999985 6510946.77, 572713...</td>\n",
       "      <td>20.800000</td>\n",
       "      <td>19.600000</td>\n",
       "      <td>18.800000</td>\n",
       "      <td>18.200000</td>\n",
       "      <td>18.200000</td>\n",
       "      <td>18.800000</td>\n",
       "    </tr>\n",
       "    <tr>\n",
       "      <th>555144</th>\n",
       "      <td>555133</td>\n",
       "      <td>1</td>\n",
       "      <td>1000</td>\n",
       "      <td>1000</td>\n",
       "      <td>0</td>\n",
       "      <td>0</td>\n",
       "      <td>0</td>\n",
       "      <td>0.200</td>\n",
       "      <td>0.000</td>\n",
       "      <td>0.000</td>\n",
       "      <td>0.0</td>\n",
       "      <td>21.50</td>\n",
       "      <td>POLYGON ((616158.1312000006 6420430.6281, 6161...</td>\n",
       "      <td>21.500000</td>\n",
       "      <td>20.000000</td>\n",
       "      <td>19.000000</td>\n",
       "      <td>18.500000</td>\n",
       "      <td>18.500000</td>\n",
       "      <td>19.000000</td>\n",
       "    </tr>\n",
       "    <tr>\n",
       "      <th>229036</th>\n",
       "      <td>229036</td>\n",
       "      <td>1</td>\n",
       "      <td>1000</td>\n",
       "      <td>1000</td>\n",
       "      <td>0</td>\n",
       "      <td>0</td>\n",
       "      <td>0</td>\n",
       "      <td>0.200</td>\n",
       "      <td>0.000</td>\n",
       "      <td>0.000</td>\n",
       "      <td>0.0</td>\n",
       "      <td>21.25</td>\n",
       "      <td>POLYGON ((614667.8299999982 6568192.460000001,...</td>\n",
       "      <td>21.000000</td>\n",
       "      <td>20.000000</td>\n",
       "      <td>19.500000</td>\n",
       "      <td>19.000000</td>\n",
       "      <td>18.250000</td>\n",
       "      <td>19.750000</td>\n",
       "    </tr>\n",
       "    <tr>\n",
       "      <th>136500</th>\n",
       "      <td>136369</td>\n",
       "      <td>1</td>\n",
       "      <td>1000</td>\n",
       "      <td>1000</td>\n",
       "      <td>0</td>\n",
       "      <td>0</td>\n",
       "      <td>0</td>\n",
       "      <td>0.150</td>\n",
       "      <td>0.000</td>\n",
       "      <td>0.000</td>\n",
       "      <td>0.0</td>\n",
       "      <td>20.00</td>\n",
       "      <td>POLYGON ((673625.6438999996 6497934.1677, 6736...</td>\n",
       "      <td>21.000000</td>\n",
       "      <td>20.000000</td>\n",
       "      <td>19.000000</td>\n",
       "      <td>18.000000</td>\n",
       "      <td>18.000000</td>\n",
       "      <td>19.000000</td>\n",
       "    </tr>\n",
       "  </tbody>\n",
       "</table>\n",
       "</div>"
      ],
      "text/plain": [
       "        orig_fid  nlayers  SOL_ZMX  SOL_Z1  SOL_Z2  SOL_Z3  SOL_Z4  SOL_AWC1  \\\n",
       "412647    399026        1     1100    1100       0       0       0     0.150   \n",
       "112657    112657        1     1000    1000       0       0       0     0.150   \n",
       "203817    203540        2     1000     400     600       0       0     0.200   \n",
       "240191    240191        3     1000     220     375     405       0     0.200   \n",
       "482221    494029        2     1000     800     200       0       0     0.150   \n",
       "211058    210781        2     1000     400     600       0       0     0.316   \n",
       "447862    432261        1     1000    1000       0       0       0     0.150   \n",
       "555144    555133        1     1000    1000       0       0       0     0.200   \n",
       "229036    229036        1     1000    1000       0       0       0     0.200   \n",
       "136500    136369        1     1000    1000       0       0       0     0.150   \n",
       "\n",
       "        SOL_AWC2  SOL_AWC3  SOL_AWC4  AWC_L1  \\\n",
       "412647     0.000     0.000       0.0   21.00   \n",
       "112657     0.000     0.000       0.0   18.50   \n",
       "203817     0.200     0.000       0.0   20.00   \n",
       "240191     0.000     0.225       0.0   19.50   \n",
       "482221     0.316     0.000       0.0   21.00   \n",
       "211058     0.316     0.000       0.0   20.00   \n",
       "447862     0.000     0.000       0.0   20.20   \n",
       "555144     0.000     0.000       0.0   21.50   \n",
       "229036     0.000     0.000       0.0   21.25   \n",
       "136500     0.000     0.000       0.0   20.00   \n",
       "\n",
       "                                                 geometry     AWC_L2  \\\n",
       "412647  POLYGON ((674511.6599999964 6496609.800000001,...  21.142857   \n",
       "112657  POLYGON ((390572.299999997 6533465.039999999, ...  18.500000   \n",
       "203817  POLYGON ((438625.6199999973 6475453.84, 438625...  19.500000   \n",
       "240191  POLYGON ((401363.4200000018 6482899.550000001,...  19.333333   \n",
       "482221  POLYGON ((679115.7400000021 6483890.359999999,...  21.000000   \n",
       "211058  POLYGON ((539541.8999999985 6481191.440000001,...  19.875000   \n",
       "447862  POLYGON ((572729.3999999985 6510946.77, 572713...  20.800000   \n",
       "555144  POLYGON ((616158.1312000006 6420430.6281, 6161...  21.500000   \n",
       "229036  POLYGON ((614667.8299999982 6568192.460000001,...  21.000000   \n",
       "136500  POLYGON ((673625.6438999996 6497934.1677, 6736...  21.000000   \n",
       "\n",
       "           AWC_L3     AWC_L4     AWC_L5     AWC_L6     AWC_L7  \n",
       "412647  19.571429  19.285714  18.285714  18.285714  18.857143  \n",
       "112657  18.000000  18.000000  17.500000  17.500000  17.000000  \n",
       "203817  19.000000  19.000000  18.500000  18.000000  18.000000  \n",
       "240191  18.000000  17.833333  17.000000  16.833333  17.833333  \n",
       "482221  18.500000  17.500000  16.500000  16.000000  17.500000  \n",
       "211058  19.000000  18.125000  17.875000  17.500000  17.875000  \n",
       "447862  19.600000  18.800000  18.200000  18.200000  18.800000  \n",
       "555144  20.000000  19.000000  18.500000  18.500000  19.000000  \n",
       "229036  20.000000  19.500000  19.000000  18.250000  19.750000  \n",
       "136500  20.000000  19.000000  18.000000  18.000000  19.000000  "
      ]
     },
     "metadata": {},
     "output_type": "display_data"
    },
    {
     "data": {
      "text/plain": [
       "orig_fid      int64\n",
       "nlayers       int64\n",
       "SOL_ZMX       int64\n",
       "SOL_Z1        int64\n",
       "SOL_Z2        int64\n",
       "SOL_Z3        int64\n",
       "SOL_Z4        int64\n",
       "SOL_AWC1    float64\n",
       "SOL_AWC2    float64\n",
       "SOL_AWC3    float64\n",
       "SOL_AWC4    float64\n",
       "AWC_L1      float64\n",
       "geometry     object\n",
       "AWC_L2      float64\n",
       "AWC_L3      float64\n",
       "AWC_L4      float64\n",
       "AWC_L5      float64\n",
       "AWC_L6      float64\n",
       "AWC_L7      float64\n",
       "dtype: object"
      ]
     },
     "metadata": {},
     "output_type": "display_data"
    }
   ],
   "source": [
    "layer1 = gpd.read_file(\"eesti_soil_red1_fix_geo_awc_zonal_layer_1.shp\", encoding='utf-8')\n",
    "layer1.drop(columns=['median','std'], inplace=True)\n",
    "layer1.rename(columns={\"mean\" : \"AWC_L1\"}, inplace=True)\n",
    "\n",
    "for layer in range(2,8):\n",
    "    next_layer = gpd.read_file(f\"eesti_soil_red1_fix_geo_awc_zonal_layer_{layer}.shp\", encoding='utf-8')\n",
    "    next_layer.rename(columns={\"mean\" : \"AWC_L\" + str(layer)}, inplace=True)\n",
    "    next_layer.drop( columns = [\"median\",\n",
    "                            \"std\",\n",
    "                            \"nlayers\",\n",
    "                            \"SOL_ZMX\",\n",
    "                            \"SOL_Z1\",\n",
    "                            \"SOL_Z2\",\n",
    "                            \"SOL_Z3\",\n",
    "                            \"SOL_Z4\",\n",
    "                            \"SOL_AWC1\",\n",
    "                            \"SOL_AWC2\",\n",
    "                            \"SOL_AWC3\",\n",
    "                            \"SOL_AWC4\",\n",
    "                            \"geometry\"], inplace=True)\n",
    "    \n",
    "    layer1 = pd.merge(left=layer1, right=next_layer, left_on='orig_fid', right_on='orig_fid', how='left')\n",
    "\n",
    "display(layer1.sample(10))\n",
    "display(layer1.dtypes)"
   ]
  },
  {
   "cell_type": "code",
   "execution_count": 30,
   "metadata": {},
   "outputs": [
    {
     "data": {
      "text/plain": [
       "orig_fid    0\n",
       "nlayers     0\n",
       "SOL_ZMX     0\n",
       "SOL_Z1      0\n",
       "SOL_Z2      0\n",
       "SOL_Z3      0\n",
       "SOL_Z4      0\n",
       "SOL_AWC1    0\n",
       "SOL_AWC2    0\n",
       "SOL_AWC3    0\n",
       "SOL_AWC4    0\n",
       "AWC_L1      0\n",
       "geometry    0\n",
       "AWC_L2      0\n",
       "AWC_L3      0\n",
       "AWC_L4      0\n",
       "AWC_L5      0\n",
       "AWC_L6      0\n",
       "AWC_L7      0\n",
       "dtype: int64"
      ]
     },
     "metadata": {},
     "output_type": "display_data"
    },
    {
     "data": {
      "text/html": [
       "<div>\n",
       "<style scoped>\n",
       "    .dataframe tbody tr th:only-of-type {\n",
       "        vertical-align: middle;\n",
       "    }\n",
       "\n",
       "    .dataframe tbody tr th {\n",
       "        vertical-align: top;\n",
       "    }\n",
       "\n",
       "    .dataframe thead th {\n",
       "        text-align: right;\n",
       "    }\n",
       "</style>\n",
       "<table border=\"1\" class=\"dataframe\">\n",
       "  <thead>\n",
       "    <tr style=\"text-align: right;\">\n",
       "      <th></th>\n",
       "      <th>orig_fid</th>\n",
       "      <th>nlayers</th>\n",
       "      <th>SOL_ZMX</th>\n",
       "      <th>SOL_Z1</th>\n",
       "      <th>SOL_Z2</th>\n",
       "      <th>SOL_Z3</th>\n",
       "      <th>SOL_Z4</th>\n",
       "      <th>SOL_AWC1</th>\n",
       "      <th>SOL_AWC2</th>\n",
       "      <th>SOL_AWC3</th>\n",
       "      <th>SOL_AWC4</th>\n",
       "      <th>AWC_L1</th>\n",
       "      <th>geometry</th>\n",
       "      <th>AWC_L2</th>\n",
       "      <th>AWC_L3</th>\n",
       "      <th>AWC_L4</th>\n",
       "      <th>AWC_L5</th>\n",
       "      <th>AWC_L6</th>\n",
       "      <th>AWC_L7</th>\n",
       "    </tr>\n",
       "  </thead>\n",
       "  <tbody>\n",
       "  </tbody>\n",
       "</table>\n",
       "</div>"
      ],
      "text/plain": [
       "Empty GeoDataFrame\n",
       "Columns: [orig_fid, nlayers, SOL_ZMX, SOL_Z1, SOL_Z2, SOL_Z3, SOL_Z4, SOL_AWC1, SOL_AWC2, SOL_AWC3, SOL_AWC4, AWC_L1, geometry, AWC_L2, AWC_L3, AWC_L4, AWC_L5, AWC_L6, AWC_L7]\n",
       "Index: []"
      ]
     },
     "metadata": {},
     "output_type": "display_data"
    }
   ],
   "source": [
    "display(layer1.isnull().sum())\n",
    "\n",
    "display(layer1.loc[layer1['AWC_L7'].isnull()])"
   ]
  },
  {
   "cell_type": "code",
   "execution_count": 29,
   "metadata": {},
   "outputs": [
    {
     "data": {
      "text/plain": [
       "'found 14527, take 14525'"
      ]
     },
     "metadata": {},
     "output_type": "display_data"
    },
    {
     "data": {
      "text/plain": [
       "'found nan, put 18.333333333333332'"
      ]
     },
     "metadata": {},
     "output_type": "display_data"
    },
    {
     "data": {
      "text/plain": [
       "'found 14528, take 14526'"
      ]
     },
     "metadata": {},
     "output_type": "display_data"
    },
    {
     "data": {
      "text/plain": [
       "'found nan, put 18.5'"
      ]
     },
     "metadata": {},
     "output_type": "display_data"
    },
    {
     "data": {
      "text/plain": [
       "'found 14564, take 14562'"
      ]
     },
     "metadata": {},
     "output_type": "display_data"
    },
    {
     "data": {
      "text/plain": [
       "'found nan, put 18.666666666666668'"
      ]
     },
     "metadata": {},
     "output_type": "display_data"
    },
    {
     "data": {
      "text/plain": [
       "'found 14594, take 14592'"
      ]
     },
     "metadata": {},
     "output_type": "display_data"
    },
    {
     "data": {
      "text/plain": [
       "'found nan, put 20.0'"
      ]
     },
     "metadata": {},
     "output_type": "display_data"
    },
    {
     "data": {
      "text/plain": [
       "'found 14595, take 14593'"
      ]
     },
     "metadata": {},
     "output_type": "display_data"
    },
    {
     "data": {
      "text/plain": [
       "'found nan, put 20.0'"
      ]
     },
     "metadata": {},
     "output_type": "display_data"
    },
    {
     "data": {
      "text/plain": [
       "'found 14596, take 14594'"
      ]
     },
     "metadata": {},
     "output_type": "display_data"
    },
    {
     "data": {
      "text/plain": [
       "'found nan, put 20.0'"
      ]
     },
     "metadata": {},
     "output_type": "display_data"
    },
    {
     "data": {
      "text/plain": [
       "'found 14597, take 14595'"
      ]
     },
     "metadata": {},
     "output_type": "display_data"
    },
    {
     "data": {
      "text/plain": [
       "'found nan, put 20.0'"
      ]
     },
     "metadata": {},
     "output_type": "display_data"
    },
    {
     "data": {
      "text/plain": [
       "'found 14598, take 14596'"
      ]
     },
     "metadata": {},
     "output_type": "display_data"
    },
    {
     "data": {
      "text/plain": [
       "'found nan, put 20.0'"
      ]
     },
     "metadata": {},
     "output_type": "display_data"
    },
    {
     "data": {
      "text/plain": [
       "'found 14599, take 14597'"
      ]
     },
     "metadata": {},
     "output_type": "display_data"
    },
    {
     "data": {
      "text/plain": [
       "'found nan, put 20.0'"
      ]
     },
     "metadata": {},
     "output_type": "display_data"
    },
    {
     "data": {
      "text/plain": [
       "'found 14600, take 14598'"
      ]
     },
     "metadata": {},
     "output_type": "display_data"
    },
    {
     "data": {
      "text/plain": [
       "'found nan, put 20.0'"
      ]
     },
     "metadata": {},
     "output_type": "display_data"
    },
    {
     "data": {
      "text/plain": [
       "'found 14685, take 14683'"
      ]
     },
     "metadata": {},
     "output_type": "display_data"
    },
    {
     "data": {
      "text/plain": [
       "'found nan, put 19.0'"
      ]
     },
     "metadata": {},
     "output_type": "display_data"
    },
    {
     "data": {
      "text/plain": [
       "'found 14688, take 14686'"
      ]
     },
     "metadata": {},
     "output_type": "display_data"
    },
    {
     "data": {
      "text/plain": [
       "'found nan, put 20.0'"
      ]
     },
     "metadata": {},
     "output_type": "display_data"
    },
    {
     "data": {
      "text/plain": [
       "'found 14689, take 14687'"
      ]
     },
     "metadata": {},
     "output_type": "display_data"
    },
    {
     "data": {
      "text/plain": [
       "'found nan, put 20.0'"
      ]
     },
     "metadata": {},
     "output_type": "display_data"
    },
    {
     "data": {
      "text/plain": [
       "'found 14712, take 14710'"
      ]
     },
     "metadata": {},
     "output_type": "display_data"
    },
    {
     "data": {
      "text/plain": [
       "'found nan, put 19.75'"
      ]
     },
     "metadata": {},
     "output_type": "display_data"
    },
    {
     "data": {
      "text/plain": [
       "'found 14748, take 14746'"
      ]
     },
     "metadata": {},
     "output_type": "display_data"
    },
    {
     "data": {
      "text/plain": [
       "'found nan, put 18.333333333333332'"
      ]
     },
     "metadata": {},
     "output_type": "display_data"
    },
    {
     "data": {
      "text/plain": [
       "'found 14753, take 14751'"
      ]
     },
     "metadata": {},
     "output_type": "display_data"
    },
    {
     "data": {
      "text/plain": [
       "'found nan, put 18.875'"
      ]
     },
     "metadata": {},
     "output_type": "display_data"
    },
    {
     "data": {
      "text/plain": [
       "'found 14758, take 14756'"
      ]
     },
     "metadata": {},
     "output_type": "display_data"
    },
    {
     "data": {
      "text/plain": [
       "'found nan, put 19.0'"
      ]
     },
     "metadata": {},
     "output_type": "display_data"
    },
    {
     "data": {
      "text/plain": [
       "'found 14808, take 14806'"
      ]
     },
     "metadata": {},
     "output_type": "display_data"
    },
    {
     "data": {
      "text/plain": [
       "'found nan, put 18.75'"
      ]
     },
     "metadata": {},
     "output_type": "display_data"
    },
    {
     "data": {
      "text/plain": [
       "'found 14884, take 14882'"
      ]
     },
     "metadata": {},
     "output_type": "display_data"
    },
    {
     "data": {
      "text/plain": [
       "'found nan, put 20.0'"
      ]
     },
     "metadata": {},
     "output_type": "display_data"
    },
    {
     "data": {
      "text/plain": [
       "'found 14903, take 14901'"
      ]
     },
     "metadata": {},
     "output_type": "display_data"
    },
    {
     "data": {
      "text/plain": [
       "'found nan, put 20.0'"
      ]
     },
     "metadata": {},
     "output_type": "display_data"
    },
    {
     "data": {
      "text/plain": [
       "'found 14939, take 14937'"
      ]
     },
     "metadata": {},
     "output_type": "display_data"
    },
    {
     "data": {
      "text/plain": [
       "'found nan, put 19.0'"
      ]
     },
     "metadata": {},
     "output_type": "display_data"
    },
    {
     "data": {
      "text/plain": [
       "'found 14954, take 14952'"
      ]
     },
     "metadata": {},
     "output_type": "display_data"
    },
    {
     "data": {
      "text/plain": [
       "'found nan, put 20.0'"
      ]
     },
     "metadata": {},
     "output_type": "display_data"
    },
    {
     "data": {
      "text/plain": [
       "'found 14988, take 14986'"
      ]
     },
     "metadata": {},
     "output_type": "display_data"
    },
    {
     "data": {
      "text/plain": [
       "'found 20.5, put 19.142857142857142'"
      ]
     },
     "metadata": {},
     "output_type": "display_data"
    },
    {
     "data": {
      "text/plain": [
       "'found 15003, take 15001'"
      ]
     },
     "metadata": {},
     "output_type": "display_data"
    },
    {
     "data": {
      "text/plain": [
       "'found 21.0, put 18.956521739130434'"
      ]
     },
     "metadata": {},
     "output_type": "display_data"
    },
    {
     "data": {
      "text/plain": [
       "'found 15029, take 15027'"
      ]
     },
     "metadata": {},
     "output_type": "display_data"
    },
    {
     "data": {
      "text/plain": [
       "'found nan, put 19.0'"
      ]
     },
     "metadata": {},
     "output_type": "display_data"
    },
    {
     "data": {
      "text/plain": [
       "'found 15030, take 15028'"
      ]
     },
     "metadata": {},
     "output_type": "display_data"
    },
    {
     "data": {
      "text/plain": [
       "'found nan, put 19.0'"
      ]
     },
     "metadata": {},
     "output_type": "display_data"
    },
    {
     "data": {
      "text/plain": [
       "'found 15033, take 15031'"
      ]
     },
     "metadata": {},
     "output_type": "display_data"
    },
    {
     "data": {
      "text/plain": [
       "'found nan, put 19.0'"
      ]
     },
     "metadata": {},
     "output_type": "display_data"
    },
    {
     "data": {
      "text/plain": [
       "'found 15055, take 15053'"
      ]
     },
     "metadata": {},
     "output_type": "display_data"
    },
    {
     "data": {
      "text/plain": [
       "'found nan, put 18.0'"
      ]
     },
     "metadata": {},
     "output_type": "display_data"
    },
    {
     "data": {
      "text/plain": [
       "'found 15102, take 15100'"
      ]
     },
     "metadata": {},
     "output_type": "display_data"
    },
    {
     "data": {
      "text/plain": [
       "'found nan, put 19.0'"
      ]
     },
     "metadata": {},
     "output_type": "display_data"
    },
    {
     "data": {
      "text/plain": [
       "'found 15103, take 15101'"
      ]
     },
     "metadata": {},
     "output_type": "display_data"
    },
    {
     "data": {
      "text/plain": [
       "'found nan, put 19.166666666666668'"
      ]
     },
     "metadata": {},
     "output_type": "display_data"
    },
    {
     "data": {
      "text/plain": [
       "'found 15126, take 15124'"
      ]
     },
     "metadata": {},
     "output_type": "display_data"
    },
    {
     "data": {
      "text/plain": [
       "'found nan, put 19.5'"
      ]
     },
     "metadata": {},
     "output_type": "display_data"
    },
    {
     "data": {
      "text/plain": [
       "'found 15130, take 15128'"
      ]
     },
     "metadata": {},
     "output_type": "display_data"
    },
    {
     "data": {
      "text/plain": [
       "'found nan, put 19.0'"
      ]
     },
     "metadata": {},
     "output_type": "display_data"
    },
    {
     "data": {
      "text/plain": [
       "'found 15152, take 15150'"
      ]
     },
     "metadata": {},
     "output_type": "display_data"
    },
    {
     "data": {
      "text/plain": [
       "'found nan, put 18.4'"
      ]
     },
     "metadata": {},
     "output_type": "display_data"
    },
    {
     "data": {
      "text/plain": [
       "'found 15157, take 15155'"
      ]
     },
     "metadata": {},
     "output_type": "display_data"
    },
    {
     "data": {
      "text/plain": [
       "'found nan, put 19.0'"
      ]
     },
     "metadata": {},
     "output_type": "display_data"
    },
    {
     "data": {
      "text/plain": [
       "'found 15273, take 15271'"
      ]
     },
     "metadata": {},
     "output_type": "display_data"
    },
    {
     "data": {
      "text/plain": [
       "'found nan, put 19.0'"
      ]
     },
     "metadata": {},
     "output_type": "display_data"
    },
    {
     "data": {
      "text/plain": [
       "'found 15325, take 15323'"
      ]
     },
     "metadata": {},
     "output_type": "display_data"
    },
    {
     "data": {
      "text/plain": [
       "'found nan, put 19.5'"
      ]
     },
     "metadata": {},
     "output_type": "display_data"
    },
    {
     "data": {
      "text/plain": [
       "'found 15348, take 15346'"
      ]
     },
     "metadata": {},
     "output_type": "display_data"
    },
    {
     "data": {
      "text/plain": [
       "'found nan, put 19.727272727272727'"
      ]
     },
     "metadata": {},
     "output_type": "display_data"
    },
    {
     "data": {
      "text/plain": [
       "'found 15352, take 15350'"
      ]
     },
     "metadata": {},
     "output_type": "display_data"
    },
    {
     "data": {
      "text/plain": [
       "'found nan, put 20.0'"
      ]
     },
     "metadata": {},
     "output_type": "display_data"
    },
    {
     "data": {
      "text/plain": [
       "'found 15363, take 15361'"
      ]
     },
     "metadata": {},
     "output_type": "display_data"
    },
    {
     "data": {
      "text/plain": [
       "'found nan, put 19.666666666666668'"
      ]
     },
     "metadata": {},
     "output_type": "display_data"
    },
    {
     "data": {
      "text/plain": [
       "'found 15364, take 15362'"
      ]
     },
     "metadata": {},
     "output_type": "display_data"
    },
    {
     "data": {
      "text/plain": [
       "'found nan, put 19.666666666666668'"
      ]
     },
     "metadata": {},
     "output_type": "display_data"
    },
    {
     "data": {
      "text/plain": [
       "'found 15397, take 15395'"
      ]
     },
     "metadata": {},
     "output_type": "display_data"
    },
    {
     "data": {
      "text/plain": [
       "'found nan, put 19.0'"
      ]
     },
     "metadata": {},
     "output_type": "display_data"
    },
    {
     "data": {
      "text/plain": [
       "'found 15398, take 15396'"
      ]
     },
     "metadata": {},
     "output_type": "display_data"
    },
    {
     "data": {
      "text/plain": [
       "'found nan, put 19.0'"
      ]
     },
     "metadata": {},
     "output_type": "display_data"
    },
    {
     "data": {
      "text/plain": [
       "'found 15399, take 15397'"
      ]
     },
     "metadata": {},
     "output_type": "display_data"
    },
    {
     "data": {
      "text/plain": [
       "'found nan, put 19.0'"
      ]
     },
     "metadata": {},
     "output_type": "display_data"
    },
    {
     "data": {
      "text/plain": [
       "'found 15433, take 15431'"
      ]
     },
     "metadata": {},
     "output_type": "display_data"
    },
    {
     "data": {
      "text/plain": [
       "'found nan, put 18.666666666666668'"
      ]
     },
     "metadata": {},
     "output_type": "display_data"
    },
    {
     "data": {
      "text/plain": [
       "'found 15434, take 15432'"
      ]
     },
     "metadata": {},
     "output_type": "display_data"
    },
    {
     "data": {
      "text/plain": [
       "'found nan, put 18.0'"
      ]
     },
     "metadata": {},
     "output_type": "display_data"
    },
    {
     "data": {
      "text/plain": [
       "'found 15435, take 15433'"
      ]
     },
     "metadata": {},
     "output_type": "display_data"
    },
    {
     "data": {
      "text/plain": [
       "'found nan, put 18.666666666666668'"
      ]
     },
     "metadata": {},
     "output_type": "display_data"
    },
    {
     "data": {
      "text/plain": [
       "'found 15508, take 15506'"
      ]
     },
     "metadata": {},
     "output_type": "display_data"
    },
    {
     "data": {
      "text/plain": [
       "'found nan, put 18.5'"
      ]
     },
     "metadata": {},
     "output_type": "display_data"
    },
    {
     "data": {
      "text/plain": [
       "'found 15590, take 15588'"
      ]
     },
     "metadata": {},
     "output_type": "display_data"
    },
    {
     "data": {
      "text/plain": [
       "'found nan, put 19.0'"
      ]
     },
     "metadata": {},
     "output_type": "display_data"
    },
    {
     "data": {
      "text/plain": [
       "'found 15619, take 15617'"
      ]
     },
     "metadata": {},
     "output_type": "display_data"
    },
    {
     "data": {
      "text/plain": [
       "'found nan, put 19.5'"
      ]
     },
     "metadata": {},
     "output_type": "display_data"
    },
    {
     "data": {
      "text/plain": [
       "'found 15631, take 15629'"
      ]
     },
     "metadata": {},
     "output_type": "display_data"
    },
    {
     "data": {
      "text/plain": [
       "'found nan, put 19.5'"
      ]
     },
     "metadata": {},
     "output_type": "display_data"
    },
    {
     "data": {
      "text/plain": [
       "'found 15736, take 15734'"
      ]
     },
     "metadata": {},
     "output_type": "display_data"
    },
    {
     "data": {
      "text/plain": [
       "'found nan, put 19.0'"
      ]
     },
     "metadata": {},
     "output_type": "display_data"
    },
    {
     "data": {
      "text/plain": [
       "'found 15745, take 15743'"
      ]
     },
     "metadata": {},
     "output_type": "display_data"
    },
    {
     "data": {
      "text/plain": [
       "'found nan, put 20.0'"
      ]
     },
     "metadata": {},
     "output_type": "display_data"
    },
    {
     "data": {
      "text/plain": [
       "'found 15763, take 15761'"
      ]
     },
     "metadata": {},
     "output_type": "display_data"
    },
    {
     "data": {
      "text/plain": [
       "'found nan, put 18.333333333333332'"
      ]
     },
     "metadata": {},
     "output_type": "display_data"
    },
    {
     "data": {
      "text/plain": [
       "'found 15907, take 15905'"
      ]
     },
     "metadata": {},
     "output_type": "display_data"
    },
    {
     "data": {
      "text/plain": [
       "'found nan, put 19.2'"
      ]
     },
     "metadata": {},
     "output_type": "display_data"
    },
    {
     "data": {
      "text/plain": [
       "'found 16133, take 16131'"
      ]
     },
     "metadata": {},
     "output_type": "display_data"
    },
    {
     "data": {
      "text/plain": [
       "'found nan, put 19.0'"
      ]
     },
     "metadata": {},
     "output_type": "display_data"
    },
    {
     "data": {
      "text/plain": [
       "'found 16134, take 16132'"
      ]
     },
     "metadata": {},
     "output_type": "display_data"
    },
    {
     "data": {
      "text/plain": [
       "'found nan, put 20.0'"
      ]
     },
     "metadata": {},
     "output_type": "display_data"
    },
    {
     "data": {
      "text/plain": [
       "'found 16135, take 16133'"
      ]
     },
     "metadata": {},
     "output_type": "display_data"
    },
    {
     "data": {
      "text/plain": [
       "'found nan, put 19.0'"
      ]
     },
     "metadata": {},
     "output_type": "display_data"
    },
    {
     "data": {
      "text/plain": [
       "'found 16136, take 16134'"
      ]
     },
     "metadata": {},
     "output_type": "display_data"
    },
    {
     "data": {
      "text/plain": [
       "'found nan, put 20.0'"
      ]
     },
     "metadata": {},
     "output_type": "display_data"
    },
    {
     "data": {
      "text/plain": [
       "'found 16137, take 16135'"
      ]
     },
     "metadata": {},
     "output_type": "display_data"
    },
    {
     "data": {
      "text/plain": [
       "'found nan, put 19.0'"
      ]
     },
     "metadata": {},
     "output_type": "display_data"
    },
    {
     "data": {
      "text/plain": [
       "'found 16138, take 16136'"
      ]
     },
     "metadata": {},
     "output_type": "display_data"
    },
    {
     "data": {
      "text/plain": [
       "'found nan, put 20.0'"
      ]
     },
     "metadata": {},
     "output_type": "display_data"
    },
    {
     "data": {
      "text/plain": [
       "'found 16174, take 16172'"
      ]
     },
     "metadata": {},
     "output_type": "display_data"
    },
    {
     "data": {
      "text/plain": [
       "'found nan, put 18.846153846153847'"
      ]
     },
     "metadata": {},
     "output_type": "display_data"
    },
    {
     "data": {
      "text/plain": [
       "'found 16183, take 16181'"
      ]
     },
     "metadata": {},
     "output_type": "display_data"
    },
    {
     "data": {
      "text/plain": [
       "'found nan, put 20.5'"
      ]
     },
     "metadata": {},
     "output_type": "display_data"
    },
    {
     "data": {
      "text/plain": [
       "'found 16184, take 16182'"
      ]
     },
     "metadata": {},
     "output_type": "display_data"
    },
    {
     "data": {
      "text/plain": [
       "'found nan, put 18.25'"
      ]
     },
     "metadata": {},
     "output_type": "display_data"
    },
    {
     "data": {
      "text/plain": [
       "'found 16185, take 16183'"
      ]
     },
     "metadata": {},
     "output_type": "display_data"
    },
    {
     "data": {
      "text/plain": [
       "'found nan, put 20.5'"
      ]
     },
     "metadata": {},
     "output_type": "display_data"
    },
    {
     "data": {
      "text/plain": [
       "'found 16186, take 16184'"
      ]
     },
     "metadata": {},
     "output_type": "display_data"
    },
    {
     "data": {
      "text/plain": [
       "'found nan, put 18.25'"
      ]
     },
     "metadata": {},
     "output_type": "display_data"
    },
    {
     "data": {
      "text/plain": [
       "'found 16243, take 16241'"
      ]
     },
     "metadata": {},
     "output_type": "display_data"
    },
    {
     "data": {
      "text/plain": [
       "'found nan, put 20.0'"
      ]
     },
     "metadata": {},
     "output_type": "display_data"
    },
    {
     "data": {
      "text/plain": [
       "'found 16244, take 16242'"
      ]
     },
     "metadata": {},
     "output_type": "display_data"
    },
    {
     "data": {
      "text/plain": [
       "'found nan, put 20.0'"
      ]
     },
     "metadata": {},
     "output_type": "display_data"
    },
    {
     "data": {
      "text/plain": [
       "'found 16325, take 16323'"
      ]
     },
     "metadata": {},
     "output_type": "display_data"
    },
    {
     "data": {
      "text/plain": [
       "'found nan, put 19.0'"
      ]
     },
     "metadata": {},
     "output_type": "display_data"
    },
    {
     "data": {
      "text/plain": [
       "'found 16326, take 16324'"
      ]
     },
     "metadata": {},
     "output_type": "display_data"
    },
    {
     "data": {
      "text/plain": [
       "'found nan, put 19.0'"
      ]
     },
     "metadata": {},
     "output_type": "display_data"
    },
    {
     "data": {
      "text/plain": [
       "'found 16327, take 16325'"
      ]
     },
     "metadata": {},
     "output_type": "display_data"
    },
    {
     "data": {
      "text/plain": [
       "'found nan, put 19.0'"
      ]
     },
     "metadata": {},
     "output_type": "display_data"
    },
    {
     "data": {
      "text/plain": [
       "'found 16336, take 16334'"
      ]
     },
     "metadata": {},
     "output_type": "display_data"
    },
    {
     "data": {
      "text/plain": [
       "'found nan, put 19.0'"
      ]
     },
     "metadata": {},
     "output_type": "display_data"
    },
    {
     "data": {
      "text/plain": [
       "'found 16372, take 16370'"
      ]
     },
     "metadata": {},
     "output_type": "display_data"
    },
    {
     "data": {
      "text/plain": [
       "'found nan, put 19.25'"
      ]
     },
     "metadata": {},
     "output_type": "display_data"
    },
    {
     "data": {
      "text/plain": [
       "'found 16427, take 16425'"
      ]
     },
     "metadata": {},
     "output_type": "display_data"
    },
    {
     "data": {
      "text/plain": [
       "'found nan, put 19.25'"
      ]
     },
     "metadata": {},
     "output_type": "display_data"
    },
    {
     "data": {
      "text/plain": [
       "'found 16428, take 16426'"
      ]
     },
     "metadata": {},
     "output_type": "display_data"
    },
    {
     "data": {
      "text/plain": [
       "'found nan, put 20.11111111111111'"
      ]
     },
     "metadata": {},
     "output_type": "display_data"
    },
    {
     "data": {
      "text/plain": [
       "'found 16457, take 16455'"
      ]
     },
     "metadata": {},
     "output_type": "display_data"
    },
    {
     "data": {
      "text/plain": [
       "'found nan, put 19.0'"
      ]
     },
     "metadata": {},
     "output_type": "display_data"
    },
    {
     "data": {
      "text/plain": [
       "'found 16477, take 16475'"
      ]
     },
     "metadata": {},
     "output_type": "display_data"
    },
    {
     "data": {
      "text/plain": [
       "'found nan, put 19.0'"
      ]
     },
     "metadata": {},
     "output_type": "display_data"
    },
    {
     "data": {
      "text/plain": [
       "'found 16478, take 16476'"
      ]
     },
     "metadata": {},
     "output_type": "display_data"
    },
    {
     "data": {
      "text/plain": [
       "'found nan, put 18.25'"
      ]
     },
     "metadata": {},
     "output_type": "display_data"
    },
    {
     "data": {
      "text/plain": [
       "'found 16479, take 16477'"
      ]
     },
     "metadata": {},
     "output_type": "display_data"
    },
    {
     "data": {
      "text/plain": [
       "'found nan, put 19.0'"
      ]
     },
     "metadata": {},
     "output_type": "display_data"
    },
    {
     "data": {
      "text/plain": [
       "'found 16507, take 16505'"
      ]
     },
     "metadata": {},
     "output_type": "display_data"
    },
    {
     "data": {
      "text/plain": [
       "'found nan, put 18.666666666666668'"
      ]
     },
     "metadata": {},
     "output_type": "display_data"
    },
    {
     "data": {
      "text/plain": [
       "'found 16541, take 16539'"
      ]
     },
     "metadata": {},
     "output_type": "display_data"
    },
    {
     "data": {
      "text/plain": [
       "'found nan, put 20.0'"
      ]
     },
     "metadata": {},
     "output_type": "display_data"
    },
    {
     "data": {
      "text/plain": [
       "'found 16542, take 16540'"
      ]
     },
     "metadata": {},
     "output_type": "display_data"
    },
    {
     "data": {
      "text/plain": [
       "'found nan, put 20.0'"
      ]
     },
     "metadata": {},
     "output_type": "display_data"
    },
    {
     "data": {
      "text/plain": [
       "'found 16543, take 16541'"
      ]
     },
     "metadata": {},
     "output_type": "display_data"
    },
    {
     "data": {
      "text/plain": [
       "'found nan, put 20.0'"
      ]
     },
     "metadata": {},
     "output_type": "display_data"
    },
    {
     "data": {
      "text/plain": [
       "'found 16544, take 16542'"
      ]
     },
     "metadata": {},
     "output_type": "display_data"
    },
    {
     "data": {
      "text/plain": [
       "'found nan, put 20.0'"
      ]
     },
     "metadata": {},
     "output_type": "display_data"
    },
    {
     "data": {
      "text/plain": [
       "'found 16545, take 16543'"
      ]
     },
     "metadata": {},
     "output_type": "display_data"
    },
    {
     "data": {
      "text/plain": [
       "'found nan, put 20.0'"
      ]
     },
     "metadata": {},
     "output_type": "display_data"
    },
    {
     "data": {
      "text/plain": [
       "'found 16546, take 16544'"
      ]
     },
     "metadata": {},
     "output_type": "display_data"
    },
    {
     "data": {
      "text/plain": [
       "'found nan, put 20.0'"
      ]
     },
     "metadata": {},
     "output_type": "display_data"
    },
    {
     "data": {
      "text/plain": [
       "'found 16547, take 16545'"
      ]
     },
     "metadata": {},
     "output_type": "display_data"
    },
    {
     "data": {
      "text/plain": [
       "'found nan, put 20.0'"
      ]
     },
     "metadata": {},
     "output_type": "display_data"
    },
    {
     "data": {
      "text/plain": [
       "'found 16660, take 16658'"
      ]
     },
     "metadata": {},
     "output_type": "display_data"
    },
    {
     "data": {
      "text/plain": [
       "'found nan, put 19.75'"
      ]
     },
     "metadata": {},
     "output_type": "display_data"
    },
    {
     "data": {
      "text/plain": [
       "'found 16670, take 16668'"
      ]
     },
     "metadata": {},
     "output_type": "display_data"
    },
    {
     "data": {
      "text/plain": [
       "'found nan, put 19.0'"
      ]
     },
     "metadata": {},
     "output_type": "display_data"
    },
    {
     "data": {
      "text/plain": [
       "'found 16677, take 16675'"
      ]
     },
     "metadata": {},
     "output_type": "display_data"
    },
    {
     "data": {
      "text/plain": [
       "'found nan, put 19.8'"
      ]
     },
     "metadata": {},
     "output_type": "display_data"
    },
    {
     "data": {
      "text/plain": [
       "'found 16699, take 16697'"
      ]
     },
     "metadata": {},
     "output_type": "display_data"
    },
    {
     "data": {
      "text/plain": [
       "'found nan, put 19.0'"
      ]
     },
     "metadata": {},
     "output_type": "display_data"
    },
    {
     "data": {
      "text/plain": [
       "'found 16700, take 16698'"
      ]
     },
     "metadata": {},
     "output_type": "display_data"
    },
    {
     "data": {
      "text/plain": [
       "'found nan, put 19.0'"
      ]
     },
     "metadata": {},
     "output_type": "display_data"
    },
    {
     "data": {
      "text/plain": [
       "'found 16726, take 16724'"
      ]
     },
     "metadata": {},
     "output_type": "display_data"
    },
    {
     "data": {
      "text/plain": [
       "'found nan, put 18.75'"
      ]
     },
     "metadata": {},
     "output_type": "display_data"
    },
    {
     "data": {
      "text/plain": [
       "'found 16727, take 16725'"
      ]
     },
     "metadata": {},
     "output_type": "display_data"
    },
    {
     "data": {
      "text/plain": [
       "'found nan, put 18.272727272727273'"
      ]
     },
     "metadata": {},
     "output_type": "display_data"
    },
    {
     "data": {
      "text/plain": [
       "'found 16843, take 16841'"
      ]
     },
     "metadata": {},
     "output_type": "display_data"
    },
    {
     "data": {
      "text/plain": [
       "'found nan, put 19.0'"
      ]
     },
     "metadata": {},
     "output_type": "display_data"
    },
    {
     "data": {
      "text/plain": [
       "'found 16853, take 16851'"
      ]
     },
     "metadata": {},
     "output_type": "display_data"
    },
    {
     "data": {
      "text/plain": [
       "'found nan, put 20.0'"
      ]
     },
     "metadata": {},
     "output_type": "display_data"
    },
    {
     "data": {
      "text/plain": [
       "'found 16907, take 16905'"
      ]
     },
     "metadata": {},
     "output_type": "display_data"
    },
    {
     "data": {
      "text/plain": [
       "'found nan, put 19.2'"
      ]
     },
     "metadata": {},
     "output_type": "display_data"
    },
    {
     "data": {
      "text/plain": [
       "'found 16986, take 16984'"
      ]
     },
     "metadata": {},
     "output_type": "display_data"
    },
    {
     "data": {
      "text/plain": [
       "'found nan, put 20.0'"
      ]
     },
     "metadata": {},
     "output_type": "display_data"
    },
    {
     "data": {
      "text/plain": [
       "'found 16987, take 16985'"
      ]
     },
     "metadata": {},
     "output_type": "display_data"
    },
    {
     "data": {
      "text/plain": [
       "'found nan, put 19.0'"
      ]
     },
     "metadata": {},
     "output_type": "display_data"
    },
    {
     "data": {
      "text/plain": [
       "'found 16988, take 16986'"
      ]
     },
     "metadata": {},
     "output_type": "display_data"
    },
    {
     "data": {
      "text/plain": [
       "'found nan, put 20.0'"
      ]
     },
     "metadata": {},
     "output_type": "display_data"
    },
    {
     "data": {
      "text/plain": [
       "'found 17027, take 17025'"
      ]
     },
     "metadata": {},
     "output_type": "display_data"
    },
    {
     "data": {
      "text/plain": [
       "'found nan, put 19.0'"
      ]
     },
     "metadata": {},
     "output_type": "display_data"
    },
    {
     "data": {
      "text/plain": [
       "'found 17028, take 17026'"
      ]
     },
     "metadata": {},
     "output_type": "display_data"
    },
    {
     "data": {
      "text/plain": [
       "'found nan, put 18.785714285714285'"
      ]
     },
     "metadata": {},
     "output_type": "display_data"
    },
    {
     "data": {
      "text/plain": [
       "'found 17029, take 17027'"
      ]
     },
     "metadata": {},
     "output_type": "display_data"
    },
    {
     "data": {
      "text/plain": [
       "'found nan, put 19.0'"
      ]
     },
     "metadata": {},
     "output_type": "display_data"
    },
    {
     "data": {
      "text/plain": [
       "'found 17030, take 17028'"
      ]
     },
     "metadata": {},
     "output_type": "display_data"
    },
    {
     "data": {
      "text/plain": [
       "'found nan, put 18.785714285714285'"
      ]
     },
     "metadata": {},
     "output_type": "display_data"
    },
    {
     "data": {
      "text/plain": [
       "'found 17122, take 17120'"
      ]
     },
     "metadata": {},
     "output_type": "display_data"
    },
    {
     "data": {
      "text/plain": [
       "'found nan, put 18.0'"
      ]
     },
     "metadata": {},
     "output_type": "display_data"
    },
    {
     "data": {
      "text/plain": [
       "'found 17123, take 17121'"
      ]
     },
     "metadata": {},
     "output_type": "display_data"
    },
    {
     "data": {
      "text/plain": [
       "'found nan, put 19.0'"
      ]
     },
     "metadata": {},
     "output_type": "display_data"
    },
    {
     "data": {
      "text/plain": [
       "'found 17127, take 17125'"
      ]
     },
     "metadata": {},
     "output_type": "display_data"
    },
    {
     "data": {
      "text/plain": [
       "'found nan, put 18.25'"
      ]
     },
     "metadata": {},
     "output_type": "display_data"
    },
    {
     "data": {
      "text/plain": [
       "'found 17128, take 17126'"
      ]
     },
     "metadata": {},
     "output_type": "display_data"
    },
    {
     "data": {
      "text/plain": [
       "'found nan, put 18.166666666666668'"
      ]
     },
     "metadata": {},
     "output_type": "display_data"
    },
    {
     "data": {
      "text/plain": [
       "'found 17286, take 17284'"
      ]
     },
     "metadata": {},
     "output_type": "display_data"
    },
    {
     "data": {
      "text/plain": [
       "'found nan, put 19.0'"
      ]
     },
     "metadata": {},
     "output_type": "display_data"
    },
    {
     "data": {
      "text/plain": [
       "'found 17289, take 17287'"
      ]
     },
     "metadata": {},
     "output_type": "display_data"
    },
    {
     "data": {
      "text/plain": [
       "'found nan, put 19.0'"
      ]
     },
     "metadata": {},
     "output_type": "display_data"
    },
    {
     "data": {
      "text/plain": [
       "'found 17424, take 17422'"
      ]
     },
     "metadata": {},
     "output_type": "display_data"
    },
    {
     "data": {
      "text/plain": [
       "'found nan, put 20.0'"
      ]
     },
     "metadata": {},
     "output_type": "display_data"
    },
    {
     "data": {
      "text/plain": [
       "'found 17503, take 17501'"
      ]
     },
     "metadata": {},
     "output_type": "display_data"
    },
    {
     "data": {
      "text/plain": [
       "'found nan, put 19.333333333333332'"
      ]
     },
     "metadata": {},
     "output_type": "display_data"
    },
    {
     "data": {
      "text/plain": [
       "'found 17504, take 17502'"
      ]
     },
     "metadata": {},
     "output_type": "display_data"
    },
    {
     "data": {
      "text/plain": [
       "'found nan, put 20.0'"
      ]
     },
     "metadata": {},
     "output_type": "display_data"
    },
    {
     "data": {
      "text/plain": [
       "'found 17581, take 17579'"
      ]
     },
     "metadata": {},
     "output_type": "display_data"
    },
    {
     "data": {
      "text/plain": [
       "'found nan, put 19.083333333333332'"
      ]
     },
     "metadata": {},
     "output_type": "display_data"
    },
    {
     "data": {
      "text/plain": [
       "'found 38670, take 38668'"
      ]
     },
     "metadata": {},
     "output_type": "display_data"
    },
    {
     "data": {
      "text/plain": [
       "'found nan, put 19.0'"
      ]
     },
     "metadata": {},
     "output_type": "display_data"
    },
    {
     "data": {
      "text/plain": [
       "'found 135384, take 135382'"
      ]
     },
     "metadata": {},
     "output_type": "display_data"
    },
    {
     "data": {
      "text/plain": [
       "'found 20.0, put 17.5'"
      ]
     },
     "metadata": {},
     "output_type": "display_data"
    },
    {
     "data": {
      "text/plain": [
       "'found 135385, take 135383'"
      ]
     },
     "metadata": {},
     "output_type": "display_data"
    },
    {
     "data": {
      "text/plain": [
       "'found 20.0, put 19.25'"
      ]
     },
     "metadata": {},
     "output_type": "display_data"
    },
    {
     "data": {
      "text/plain": [
       "'found 135386, take 135384'"
      ]
     },
     "metadata": {},
     "output_type": "display_data"
    },
    {
     "data": {
      "text/plain": [
       "'found 20.0, put 17.5'"
      ]
     },
     "metadata": {},
     "output_type": "display_data"
    },
    {
     "data": {
      "text/plain": [
       "'found 291968, take 291966'"
      ]
     },
     "metadata": {},
     "output_type": "display_data"
    },
    {
     "data": {
      "text/plain": [
       "'found nan, put 19.0'"
      ]
     },
     "metadata": {},
     "output_type": "display_data"
    },
    {
     "data": {
      "text/plain": [
       "'found 316036, take 316034'"
      ]
     },
     "metadata": {},
     "output_type": "display_data"
    },
    {
     "data": {
      "text/plain": [
       "'found nan, put 19.25'"
      ]
     },
     "metadata": {},
     "output_type": "display_data"
    },
    {
     "data": {
      "text/plain": [
       "'found 316174, take 316172'"
      ]
     },
     "metadata": {},
     "output_type": "display_data"
    },
    {
     "data": {
      "text/plain": [
       "'found nan, put 18.5'"
      ]
     },
     "metadata": {},
     "output_type": "display_data"
    },
    {
     "data": {
      "text/plain": [
       "'found 384426, take 384424'"
      ]
     },
     "metadata": {},
     "output_type": "display_data"
    },
    {
     "data": {
      "text/plain": [
       "'found nan, put 18.0'"
      ]
     },
     "metadata": {},
     "output_type": "display_data"
    },
    {
     "data": {
      "text/plain": [
       "'found 447013, take 447011'"
      ]
     },
     "metadata": {},
     "output_type": "display_data"
    },
    {
     "data": {
      "text/plain": [
       "'found 19.166666666666668, put 18.0'"
      ]
     },
     "metadata": {},
     "output_type": "display_data"
    },
    {
     "data": {
      "text/plain": [
       "'found 468269, take 468267'"
      ]
     },
     "metadata": {},
     "output_type": "display_data"
    },
    {
     "data": {
      "text/plain": [
       "'found nan, put 18.0'"
      ]
     },
     "metadata": {},
     "output_type": "display_data"
    },
    {
     "data": {
      "text/plain": [
       "'found 716844, take 716842'"
      ]
     },
     "metadata": {},
     "output_type": "display_data"
    },
    {
     "data": {
      "text/plain": [
       "'found 20.0, put 19.0'"
      ]
     },
     "metadata": {},
     "output_type": "display_data"
    },
    {
     "data": {
      "text/plain": [
       "'found 743868, take 743866'"
      ]
     },
     "metadata": {},
     "output_type": "display_data"
    },
    {
     "data": {
      "text/plain": [
       "'found nan, put 18.0'"
      ]
     },
     "metadata": {},
     "output_type": "display_data"
    }
   ],
   "source": [
    "cache_row = {}\n",
    "\n",
    "for idx, row in layer1.loc[layer1['AWC_L7'].isnull()].iterrows():\n",
    "    \n",
    "    display(f\"found {idx}, take {idx-2}\")\n",
    "    \n",
    "    layer1.loc[idx,'AWC_L1'] = layer1.loc[idx-2,'AWC_L1']\n",
    "    layer1.loc[idx,'AWC_L2'] = layer1.loc[idx-2,'AWC_L2']\n",
    "    layer1.loc[idx,'AWC_L3'] = layer1.loc[idx-2,'AWC_L3']\n",
    "    layer1.loc[idx,'AWC_L4'] = layer1.loc[idx-2,'AWC_L4']\n",
    "    layer1.loc[idx,'AWC_L5'] = layer1.loc[idx-2,'AWC_L5']\n",
    "    layer1.loc[idx,'AWC_L6'] = layer1.loc[idx-2,'AWC_L6']\n",
    "    layer1.loc[idx,'AWC_L7'] = layer1.loc[idx-2,'AWC_L7']\n",
    "    \n",
    "    display(f\"found {row['AWC_L1']}, put {layer1.loc[idx,'AWC_L7']}\")"
   ]
  },
  {
   "cell_type": "code",
   "execution_count": 26,
   "metadata": {},
   "outputs": [
    {
     "data": {
      "text/plain": [
       "20.25"
      ]
     },
     "execution_count": 26,
     "metadata": {},
     "output_type": "execute_result"
    }
   ],
   "source": [
    "layer1.loc[427,'AWC_L1']"
   ]
  },
  {
   "cell_type": "code",
   "execution_count": 32,
   "metadata": {},
   "outputs": [],
   "source": [
    "import functools\n",
    "import statistics\n",
    "import operator\n",
    "\n",
    "known_depths_to_layer = [  \n",
    "    (0,1),\n",
    "    (50,2),\n",
    "    (150,3),\n",
    "    (300,4),\n",
    "    (600,5),\n",
    "    (1000,6),\n",
    "    (2000,7)\n",
    "]\n",
    "\n",
    "def get_aggregate_awc_for_depths(layer_top, layer_bottom, SOL_AWC1, awc_gradient_values, known_depths_to_layer):\n",
    "    filt = list(filter(lambda x: x[0] >= layer_top and x[0] <= layer_bottom, known_depths_to_layer))\n",
    "    lays = list(map(lambda x: x[1], filt))\n",
    "    \n",
    "    if len(lays) <= 0:\n",
    "        position = statistics.mean([layer_top, layer_bottom])\n",
    "        if position > known_depths_to_layer[6][0]:\n",
    "            # return [7]\n",
    "            lays = [7]\n",
    "        elif position < known_depths_to_layer[0][0]:\n",
    "            # return [1]\n",
    "            lays = [1]\n",
    "        else:\n",
    "            diffs = []\n",
    "            for i in range(1,8):\n",
    "                diffs.append( (statistics.stdev([position, known_depths_to_layer[i-1][0]]), i) )\n",
    "            diffs.sort(key = operator.itemgetter(0))\n",
    "            lays = [ diffs[0][1] ]\n",
    "\n",
    "    vals = statistics.mean(list(map(lambda x: awc_gradient_values[int(x)], lays)))\n",
    "    return vals\n",
    "\n",
    "\n",
    "def aggregate_over_depths(row):\n",
    "    \n",
    "    SOL_AWC1 = row['SOL_AWC1']\n",
    "    SOL_AWC2 = row['SOL_AWC2']\n",
    "    SOL_AWC3 = row['SOL_AWC3']\n",
    "    SOL_AWC4 = row['SOL_AWC4']\n",
    "    \n",
    "    nlayers = row['nlayers']\n",
    "    SOL_ZMX = row['SOL_ZMX']\n",
    "    SOL_Z1 = row['SOL_Z1']\n",
    "    SOL_Z2 = row['SOL_Z2']\n",
    "    SOL_Z3 = row['SOL_Z3']\n",
    "    SOL_Z4 = row['SOL_Z4']\n",
    "    \n",
    "    SOL_Z2_new = row['SOL_Z2']\n",
    "    SOL_Z3_new = row['SOL_Z3']\n",
    "    SOL_Z4_new = row['SOL_Z4']\n",
    "    \n",
    "    AWC_L1 = row['AWC_L1']\n",
    "    AWC_L2 = row['AWC_L2']\n",
    "    AWC_L3 = row['AWC_L3']\n",
    "    AWC_L4 = row['AWC_L4']\n",
    "    AWC_L5 = row['AWC_L5']\n",
    "    AWC_L6 = row['AWC_L6']\n",
    "    AWC_L7 = row['AWC_L7']\n",
    "    \n",
    "    awc_gradient_values_pre = np.array([AWC_L1, AWC_L2, AWC_L3, AWC_L4, AWC_L5, AWC_L5, AWC_L6, AWC_L7])\n",
    "    awc_gradient_values = awc_gradient_values_pre / 100\n",
    "    \n",
    "    if nlayers >= 1:\n",
    "        # depth from top to bottom of 1st layer is exactly SOL_Z1\n",
    "        layer_top = 0\n",
    "        layer_bottom = SOL_Z1\n",
    "        SOL_AWC1 = get_aggregate_awc_for_depths(layer_top, layer_bottom, SOL_AWC1, awc_gradient_values, known_depths_to_layer)\n",
    "    \n",
    "    if nlayers >= 2:\n",
    "        layer_top = SOL_Z1\n",
    "        layer_bottom = SOL_Z1 + SOL_Z2\n",
    "        SOL_AWC2 = get_aggregate_awc_for_depths(layer_top, layer_bottom, SOL_AWC2, awc_gradient_values, known_depths_to_layer)\n",
    "        SOL_Z2_new = layer_bottom\n",
    "    \n",
    "    if nlayers >= 3:\n",
    "        layer_top = SOL_Z1 + SOL_Z2\n",
    "        layer_bottom = SOL_Z1 + SOL_Z2 + SOL_Z3\n",
    "        SOL_AWC3 = get_aggregate_awc_for_depths(layer_top, layer_bottom, SOL_AWC3, awc_gradient_values, known_depths_to_layer)\n",
    "        SOL_Z3_new = layer_bottom\n",
    "    \n",
    "    if nlayers >= 4:\n",
    "        layer_top = SOL_Z1 + SOL_Z2 + SOL_Z3\n",
    "        layer_bottom = SOL_Z1 + SOL_Z2 + SOL_Z3 + SOL_Z4\n",
    "        SOL_AWC4 = get_aggregate_awc_for_depths(layer_top, layer_bottom, SOL_AWC4, awc_gradient_values, known_depths_to_layer)\n",
    "        SOL_Z4_new = layer_bottom\n",
    "    \n",
    "    return pd.Series([SOL_Z1, SOL_Z2_new, SOL_Z3_new, SOL_Z4_new, SOL_AWC1, SOL_AWC2, SOL_AWC3, SOL_AWC4])\n",
    "\n",
    "layer1[['SOL_Z1', 'SOL_Z2', 'SOL_Z3', 'SOL_Z4',\n",
    "        'SOL_AWC1', 'SOL_AWC2', 'SOL_AWC3', 'SOL_AWC4']] = layer1.apply(lambda x: aggregate_over_depths(x), axis=1)"
   ]
  },
  {
   "cell_type": "code",
   "execution_count": 35,
   "metadata": {},
   "outputs": [
    {
     "data": {
      "text/html": [
       "<div>\n",
       "<style scoped>\n",
       "    .dataframe tbody tr th:only-of-type {\n",
       "        vertical-align: middle;\n",
       "    }\n",
       "\n",
       "    .dataframe tbody tr th {\n",
       "        vertical-align: top;\n",
       "    }\n",
       "\n",
       "    .dataframe thead th {\n",
       "        text-align: right;\n",
       "    }\n",
       "</style>\n",
       "<table border=\"1\" class=\"dataframe\">\n",
       "  <thead>\n",
       "    <tr style=\"text-align: right;\">\n",
       "      <th></th>\n",
       "      <th>orig_fid</th>\n",
       "      <th>nlayers</th>\n",
       "      <th>SOL_ZMX</th>\n",
       "      <th>SOL_Z1</th>\n",
       "      <th>SOL_Z2</th>\n",
       "      <th>SOL_Z3</th>\n",
       "      <th>SOL_Z4</th>\n",
       "      <th>SOL_AWC1</th>\n",
       "      <th>SOL_AWC2</th>\n",
       "      <th>SOL_AWC3</th>\n",
       "      <th>SOL_AWC4</th>\n",
       "      <th>AWC_L1</th>\n",
       "      <th>geometry</th>\n",
       "      <th>AWC_L2</th>\n",
       "      <th>AWC_L3</th>\n",
       "      <th>AWC_L4</th>\n",
       "      <th>AWC_L5</th>\n",
       "      <th>AWC_L6</th>\n",
       "      <th>AWC_L7</th>\n",
       "    </tr>\n",
       "  </thead>\n",
       "  <tbody>\n",
       "    <tr>\n",
       "      <th>140847</th>\n",
       "      <td>140716</td>\n",
       "      <td>1</td>\n",
       "      <td>1000</td>\n",
       "      <td>1000.0</td>\n",
       "      <td>0.0</td>\n",
       "      <td>0.0</td>\n",
       "      <td>0.0</td>\n",
       "      <td>0.182500</td>\n",
       "      <td>0.0000</td>\n",
       "      <td>0.0000</td>\n",
       "      <td>0.0</td>\n",
       "      <td>20.000000</td>\n",
       "      <td>POLYGON ((413916.8999999985 6530713.420000002,...</td>\n",
       "      <td>20.00</td>\n",
       "      <td>18.500000</td>\n",
       "      <td>18.000000</td>\n",
       "      <td>17.500000</td>\n",
       "      <td>18.00</td>\n",
       "      <td>19.000000</td>\n",
       "    </tr>\n",
       "    <tr>\n",
       "      <th>277475</th>\n",
       "      <td>277470</td>\n",
       "      <td>3</td>\n",
       "      <td>1000</td>\n",
       "      <td>600.0</td>\n",
       "      <td>850.0</td>\n",
       "      <td>1000.0</td>\n",
       "      <td>0.0</td>\n",
       "      <td>0.184500</td>\n",
       "      <td>0.1750</td>\n",
       "      <td>0.1725</td>\n",
       "      <td>0.0</td>\n",
       "      <td>20.750000</td>\n",
       "      <td>POLYGON ((630168.4299999997 6585855.620000001,...</td>\n",
       "      <td>20.25</td>\n",
       "      <td>19.000000</td>\n",
       "      <td>18.000000</td>\n",
       "      <td>17.500000</td>\n",
       "      <td>17.25</td>\n",
       "      <td>18.000000</td>\n",
       "    </tr>\n",
       "    <tr>\n",
       "      <th>80312</th>\n",
       "      <td>72027</td>\n",
       "      <td>1</td>\n",
       "      <td>1000</td>\n",
       "      <td>1000.0</td>\n",
       "      <td>0.0</td>\n",
       "      <td>0.0</td>\n",
       "      <td>0.0</td>\n",
       "      <td>0.190833</td>\n",
       "      <td>0.0000</td>\n",
       "      <td>0.0000</td>\n",
       "      <td>0.0</td>\n",
       "      <td>21.000000</td>\n",
       "      <td>POLYGON ((636232.3200000003 6394330.5, 636228....</td>\n",
       "      <td>20.50</td>\n",
       "      <td>19.500000</td>\n",
       "      <td>19.000000</td>\n",
       "      <td>18.500000</td>\n",
       "      <td>18.50</td>\n",
       "      <td>19.000000</td>\n",
       "    </tr>\n",
       "    <tr>\n",
       "      <th>79983</th>\n",
       "      <td>71698</td>\n",
       "      <td>1</td>\n",
       "      <td>1000</td>\n",
       "      <td>1000.0</td>\n",
       "      <td>0.0</td>\n",
       "      <td>0.0</td>\n",
       "      <td>0.0</td>\n",
       "      <td>0.180000</td>\n",
       "      <td>0.0000</td>\n",
       "      <td>0.0000</td>\n",
       "      <td>0.0</td>\n",
       "      <td>21.000000</td>\n",
       "      <td>POLYGON ((659092.1700000018 6442183.629999999,...</td>\n",
       "      <td>21.00</td>\n",
       "      <td>19.500000</td>\n",
       "      <td>18.000000</td>\n",
       "      <td>16.500000</td>\n",
       "      <td>16.50</td>\n",
       "      <td>17.500000</td>\n",
       "    </tr>\n",
       "    <tr>\n",
       "      <th>54598</th>\n",
       "      <td>53733</td>\n",
       "      <td>1</td>\n",
       "      <td>1000</td>\n",
       "      <td>1000.0</td>\n",
       "      <td>0.0</td>\n",
       "      <td>0.0</td>\n",
       "      <td>0.0</td>\n",
       "      <td>0.188333</td>\n",
       "      <td>0.0000</td>\n",
       "      <td>0.0000</td>\n",
       "      <td>0.0</td>\n",
       "      <td>20.500000</td>\n",
       "      <td>POLYGON ((612974.5300000012 6424946.640000001,...</td>\n",
       "      <td>20.50</td>\n",
       "      <td>19.500000</td>\n",
       "      <td>19.000000</td>\n",
       "      <td>18.000000</td>\n",
       "      <td>18.00</td>\n",
       "      <td>19.000000</td>\n",
       "    </tr>\n",
       "    <tr>\n",
       "      <th>631319</th>\n",
       "      <td>631173</td>\n",
       "      <td>1</td>\n",
       "      <td>1000</td>\n",
       "      <td>1000.0</td>\n",
       "      <td>0.0</td>\n",
       "      <td>0.0</td>\n",
       "      <td>0.0</td>\n",
       "      <td>0.200000</td>\n",
       "      <td>0.0000</td>\n",
       "      <td>0.0000</td>\n",
       "      <td>0.0</td>\n",
       "      <td>22.000000</td>\n",
       "      <td>POLYGON ((687400.0300000012 6456212.300000001,...</td>\n",
       "      <td>22.00</td>\n",
       "      <td>21.000000</td>\n",
       "      <td>20.000000</td>\n",
       "      <td>19.000000</td>\n",
       "      <td>19.00</td>\n",
       "      <td>19.000000</td>\n",
       "    </tr>\n",
       "    <tr>\n",
       "      <th>525958</th>\n",
       "      <td>518227</td>\n",
       "      <td>1</td>\n",
       "      <td>1000</td>\n",
       "      <td>1000.0</td>\n",
       "      <td>0.0</td>\n",
       "      <td>0.0</td>\n",
       "      <td>0.0</td>\n",
       "      <td>0.185833</td>\n",
       "      <td>0.0000</td>\n",
       "      <td>0.0000</td>\n",
       "      <td>0.0</td>\n",
       "      <td>20.500000</td>\n",
       "      <td>POLYGON ((673454.244599998 6438339.107799999, ...</td>\n",
       "      <td>20.00</td>\n",
       "      <td>19.000000</td>\n",
       "      <td>18.500000</td>\n",
       "      <td>18.000000</td>\n",
       "      <td>18.00</td>\n",
       "      <td>18.500000</td>\n",
       "    </tr>\n",
       "    <tr>\n",
       "      <th>266664</th>\n",
       "      <td>266659</td>\n",
       "      <td>2</td>\n",
       "      <td>1000</td>\n",
       "      <td>700.0</td>\n",
       "      <td>1000.0</td>\n",
       "      <td>0.0</td>\n",
       "      <td>0.0</td>\n",
       "      <td>0.193667</td>\n",
       "      <td>0.1850</td>\n",
       "      <td>0.0000</td>\n",
       "      <td>0.0</td>\n",
       "      <td>21.333333</td>\n",
       "      <td>POLYGON ((596014.549999997 6504163.530000001, ...</td>\n",
       "      <td>21.00</td>\n",
       "      <td>19.833333</td>\n",
       "      <td>19.333333</td>\n",
       "      <td>18.333333</td>\n",
       "      <td>18.50</td>\n",
       "      <td>18.833333</td>\n",
       "    </tr>\n",
       "    <tr>\n",
       "      <th>685931</th>\n",
       "      <td>685774</td>\n",
       "      <td>2</td>\n",
       "      <td>1000</td>\n",
       "      <td>600.0</td>\n",
       "      <td>1000.0</td>\n",
       "      <td>0.0</td>\n",
       "      <td>0.0</td>\n",
       "      <td>0.182500</td>\n",
       "      <td>0.1775</td>\n",
       "      <td>0.0000</td>\n",
       "      <td>0.0</td>\n",
       "      <td>19.500000</td>\n",
       "      <td>POLYGON ((389029.0700000003 6458870.82, 389011...</td>\n",
       "      <td>19.25</td>\n",
       "      <td>18.500000</td>\n",
       "      <td>17.500000</td>\n",
       "      <td>18.000000</td>\n",
       "      <td>17.50</td>\n",
       "      <td>17.750000</td>\n",
       "    </tr>\n",
       "    <tr>\n",
       "      <th>267256</th>\n",
       "      <td>267251</td>\n",
       "      <td>1</td>\n",
       "      <td>1000</td>\n",
       "      <td>1000.0</td>\n",
       "      <td>0.0</td>\n",
       "      <td>0.0</td>\n",
       "      <td>0.0</td>\n",
       "      <td>0.179583</td>\n",
       "      <td>0.0000</td>\n",
       "      <td>0.0000</td>\n",
       "      <td>0.0</td>\n",
       "      <td>20.000000</td>\n",
       "      <td>POLYGON ((405315.3100000024 6489853.510000002,...</td>\n",
       "      <td>19.25</td>\n",
       "      <td>18.750000</td>\n",
       "      <td>18.250000</td>\n",
       "      <td>17.250000</td>\n",
       "      <td>17.00</td>\n",
       "      <td>18.250000</td>\n",
       "    </tr>\n",
       "  </tbody>\n",
       "</table>\n",
       "</div>"
      ],
      "text/plain": [
       "        orig_fid  nlayers  SOL_ZMX  SOL_Z1  SOL_Z2  SOL_Z3  SOL_Z4  SOL_AWC1  \\\n",
       "140847    140716        1     1000  1000.0     0.0     0.0     0.0  0.182500   \n",
       "277475    277470        3     1000   600.0   850.0  1000.0     0.0  0.184500   \n",
       "80312      72027        1     1000  1000.0     0.0     0.0     0.0  0.190833   \n",
       "79983      71698        1     1000  1000.0     0.0     0.0     0.0  0.180000   \n",
       "54598      53733        1     1000  1000.0     0.0     0.0     0.0  0.188333   \n",
       "631319    631173        1     1000  1000.0     0.0     0.0     0.0  0.200000   \n",
       "525958    518227        1     1000  1000.0     0.0     0.0     0.0  0.185833   \n",
       "266664    266659        2     1000   700.0  1000.0     0.0     0.0  0.193667   \n",
       "685931    685774        2     1000   600.0  1000.0     0.0     0.0  0.182500   \n",
       "267256    267251        1     1000  1000.0     0.0     0.0     0.0  0.179583   \n",
       "\n",
       "        SOL_AWC2  SOL_AWC3  SOL_AWC4     AWC_L1  \\\n",
       "140847    0.0000    0.0000       0.0  20.000000   \n",
       "277475    0.1750    0.1725       0.0  20.750000   \n",
       "80312     0.0000    0.0000       0.0  21.000000   \n",
       "79983     0.0000    0.0000       0.0  21.000000   \n",
       "54598     0.0000    0.0000       0.0  20.500000   \n",
       "631319    0.0000    0.0000       0.0  22.000000   \n",
       "525958    0.0000    0.0000       0.0  20.500000   \n",
       "266664    0.1850    0.0000       0.0  21.333333   \n",
       "685931    0.1775    0.0000       0.0  19.500000   \n",
       "267256    0.0000    0.0000       0.0  20.000000   \n",
       "\n",
       "                                                 geometry  AWC_L2     AWC_L3  \\\n",
       "140847  POLYGON ((413916.8999999985 6530713.420000002,...   20.00  18.500000   \n",
       "277475  POLYGON ((630168.4299999997 6585855.620000001,...   20.25  19.000000   \n",
       "80312   POLYGON ((636232.3200000003 6394330.5, 636228....   20.50  19.500000   \n",
       "79983   POLYGON ((659092.1700000018 6442183.629999999,...   21.00  19.500000   \n",
       "54598   POLYGON ((612974.5300000012 6424946.640000001,...   20.50  19.500000   \n",
       "631319  POLYGON ((687400.0300000012 6456212.300000001,...   22.00  21.000000   \n",
       "525958  POLYGON ((673454.244599998 6438339.107799999, ...   20.00  19.000000   \n",
       "266664  POLYGON ((596014.549999997 6504163.530000001, ...   21.00  19.833333   \n",
       "685931  POLYGON ((389029.0700000003 6458870.82, 389011...   19.25  18.500000   \n",
       "267256  POLYGON ((405315.3100000024 6489853.510000002,...   19.25  18.750000   \n",
       "\n",
       "           AWC_L4     AWC_L5  AWC_L6     AWC_L7  \n",
       "140847  18.000000  17.500000   18.00  19.000000  \n",
       "277475  18.000000  17.500000   17.25  18.000000  \n",
       "80312   19.000000  18.500000   18.50  19.000000  \n",
       "79983   18.000000  16.500000   16.50  17.500000  \n",
       "54598   19.000000  18.000000   18.00  19.000000  \n",
       "631319  20.000000  19.000000   19.00  19.000000  \n",
       "525958  18.500000  18.000000   18.00  18.500000  \n",
       "266664  19.333333  18.333333   18.50  18.833333  \n",
       "685931  17.500000  18.000000   17.50  17.750000  \n",
       "267256  18.250000  17.250000   17.00  18.250000  "
      ]
     },
     "metadata": {},
     "output_type": "display_data"
    }
   ],
   "source": [
    "display(layer1.sample(10))"
   ]
  },
  {
   "cell_type": "code",
   "execution_count": 36,
   "metadata": {},
   "outputs": [
    {
     "name": "stderr",
     "output_type": "stream",
     "text": [
      "C:\\dev\\conda3\\envs\\geopython-environment\\lib\\site-packages\\geopandas\\io\\file.py:108: FionaDeprecationWarning: Use fiona.Env() instead.\n",
      "  with fiona.drivers():\n"
     ]
    }
   ],
   "source": [
    "layer1.to_file(f\"eesti_soil_red1_texture_fix_geo_redo_awc_merged_layers.shp\", encoding='utf-8')"
   ]
  },
  {
   "cell_type": "code",
   "execution_count": 34,
   "metadata": {},
   "outputs": [
    {
     "data": {
      "text/plain": [
       "orig_fid    0\n",
       "nlayers     0\n",
       "SOL_ZMX     0\n",
       "SOL_Z1      0\n",
       "SOL_Z2      0\n",
       "SOL_Z3      0\n",
       "SOL_Z4      0\n",
       "SOL_AWC1    0\n",
       "SOL_AWC2    0\n",
       "SOL_AWC3    0\n",
       "SOL_AWC4    0\n",
       "AWC_L1      0\n",
       "geometry    0\n",
       "AWC_L2      0\n",
       "AWC_L3      0\n",
       "AWC_L4      0\n",
       "AWC_L5      0\n",
       "AWC_L6      0\n",
       "AWC_L7      0\n",
       "dtype: int64"
      ]
     },
     "metadata": {},
     "output_type": "display_data"
    }
   ],
   "source": [
    "\n",
    "display(layer1.isnull().sum())"
   ]
  },
  {
   "cell_type": "code",
   "execution_count": null,
   "metadata": {},
   "outputs": [],
   "source": []
  },
  {
   "cell_type": "code",
   "execution_count": null,
   "metadata": {},
   "outputs": [],
   "source": []
  },
  {
   "cell_type": "code",
   "execution_count": null,
   "metadata": {},
   "outputs": [],
   "source": []
  }
 ],
 "metadata": {
  "kernelspec": {
   "display_name": "Python 3 Geo",
   "language": "python",
   "name": "geopython-env"
  },
  "language_info": {
   "codemirror_mode": {
    "name": "ipython",
    "version": 3
   },
   "file_extension": ".py",
   "mimetype": "text/x-python",
   "name": "python",
   "nbconvert_exporter": "python",
   "pygments_lexer": "ipython3",
   "version": "3.6.6"
  }
 },
 "nbformat": 4,
 "nbformat_minor": 2
}
