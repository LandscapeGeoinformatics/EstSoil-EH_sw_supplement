{
 "cells": [
  {
   "cell_type": "code",
   "execution_count": 2,
   "metadata": {},
   "outputs": [],
   "source": [
    "import numpy as np  # type: ignore\n",
    "import pandas as pd  # type: ignore\n",
    "\n",
    "import os\n",
    "\n",
    "import matplotlib.pyplot as plt  # type: ignore\n",
    "import subprocess\n",
    "\n",
    "import rasterio\n",
    "from rasterio.plot import show\n",
    "from rasterstats import zonal_stats\n",
    "from rasterio.warp import calculate_default_transform, reproject, Resampling\n",
    "\n",
    "%matplotlib inline"
   ]
  },
  {
   "cell_type": "code",
   "execution_count": null,
   "metadata": {},
   "outputs": [],
   "source": [
    "path = r\"data\\EU_SoilHydroGrids_250m_2017Feb08\"\n",
    "\n",
    "grid_cells = {}\n",
    "\n",
    "files = []\n",
    "folders = []\n",
    "# r=root, d=directories, f = files\n",
    "for r, d, f in os.walk(path):\n",
    "    for folder in d:\n",
    "        folders.append(folder)\n",
    "        \n",
    "        for r1, d1, f1 in os.walk(os.path.join(path, folder)):\n",
    "        \n",
    "            for file in f1:\n",
    "                if f\"FC_M_sl1_{folder}.tif\" in file:\n",
    "                    files.append(os.path.join(r1, file))\n",
    "                    data_src = rasterio.open(os.path.join(r1, file))\n",
    "                    srs = data_src.crs\n",
    "                    bounds = data_src.bounds\n",
    "                    sub_obj = {\n",
    "                        'grid_id': folder,\n",
    "                        'srs': srs,\n",
    "                        'bounds': bounds\n",
    "                    }\n",
    "                    grid_cells.update({ folder: sub_obj})\n",
    "                    \n",
    "\n",
    "for folder in folders:\n",
    "    print(folder)\n",
    "\n",
    "for file in files:\n",
    "    print(file)\n",
    "\n",
    "display(grid_cells)"
   ]
  },
  {
   "cell_type": "code",
   "execution_count": null,
   "metadata": {},
   "outputs": [],
   "source": [
    "import fiona\n",
    "from shapely.geometry import box, Polygon, shape, mapping\n",
    "from collections import OrderedDict\n",
    "\n",
    "schema = {\n",
    "    \"geometry\": \"Polygon\",\n",
    "    \"properties\": OrderedDict([\n",
    "        (\"grid_id\", \"str:200\"),\n",
    "    ])\n",
    "}\n",
    "\n",
    "def make_poly_from_bounds(bounds):\n",
    "    # (minx, miny, maxx, maxy) or a Polygon instance\n",
    "    bbox = box(bounds.left, bounds.bottom, bounds.right, bounds.top)\n",
    "    return bbox\n",
    "\n",
    "def make_feature_from_dict(grid_obj):\n",
    "    return {\n",
    "        \"geometry\": mapping(make_poly_from_bounds(grid_obj.get('bounds'))),\n",
    "        \"properties\": {\"grid_id\": grid_obj.get('grid_id')}\n",
    "    }\n",
    "    \n",
    "features = []\n",
    "\n",
    "for obj in grid_cells.values():\n",
    "    # display(obj)\n",
    "    feat = make_feature_from_dict(obj)\n",
    "    features.append(feat)\n",
    "\n",
    "crs_wkt = data_src.crs.wkt\n",
    "\n",
    "# From https://doi.org/10.5281/zenodo.3446747 Grid tiles for identifying EU-SoilHydroGrids tiles\n",
    "with fiona.open(r\"data\\EU_SoilHydroGrids_250m_2017Feb08\\grid_cells.shp\", \"w\", driver=\"ESRI Shapefile\", schema=schema, crs_wkt=crs_wkt) as collection:\n",
    "    collection.writerecords(features)\n",
    "    print(len(collection))\n",
    "    collection.flush()"
   ]
  },
  {
   "cell_type": "code",
   "execution_count": null,
   "metadata": {},
   "outputs": [],
   "source": [
    "\n",
    "\n",
    "path_eesti_250m = r\"data\\Estonia_EU_Hydrosoilgrids\\Estonia_250m\"\n",
    "\n",
    "for r, d, f in os.walk(path_eesti_250m):\n",
    "    for folder in d:\n",
    "        for n in range(1,8):\n",
    "            try:\n",
    "                # We handle the connections with \"with\"\n",
    "                with rasterio.open(os.path.join(r, folder, f\"FC_M_sl{n}_{folder}.tif\")) as src:\n",
    "                    FC = src.read(1, masked=True)\n",
    "                    nodataval = src.nodata\n",
    "\n",
    "                with rasterio.open(os.path.join(r, folder, f\"WP_M_sl{n}_{folder}.tif\")) as src:\n",
    "                    WP = src.read(1, masked=True)\n",
    "\n",
    "                # Allow division by zero\n",
    "                np.seterr(divide='ignore', invalid='ignore')\n",
    "\n",
    "                # Calculate NDVI\n",
    "                AWC = FC.astype(np.uint8) - WP.astype(np.uint8)\n",
    "                \n",
    "                # write_out_awc_raster(folder, n)\n",
    "                # Define spatial characteristics of output object (basically they are analog to the input)\n",
    "                kwargs = src.meta\n",
    "\n",
    "                # Update kwargs (change in data type)\n",
    "                kwargs.update(dtype=rasterio.uint8, count = 1, nodata = nodataval, masked = True)\n",
    "\n",
    "                # Let's see what is in there\n",
    "                print(kwargs)\n",
    "\n",
    "                with rasterio.open(os.path.join(r, folder, f\"AWC_M_sl{n}_{folder}.tif\"), 'w', **kwargs) as dst:\n",
    "                    dst.write_band(1, AWC.astype(rasterio.uint8))\n",
    "                print(subprocess.check_output(\"gdalinfo \" + os.path.join(r, folder, f\"AWC_M_sl{n}_{folder}.tif\"), shell=True))\n",
    "                        \n",
    "            except Exception as ex:\n",
    "                print(ex)\n"
   ]
  },
  {
   "cell_type": "markdown",
   "metadata": {},
   "source": [
    "## Now loading the soil polygons\n",
    "\n",
    "- actually, load the big soil shp, only keep some columns and write out as shp again\n",
    "- then run the rasterstats with keeping the geojson true and orig_fid attribute in particular\n",
    "- then build a dataframe out of it and start developing the magic for the different layer aggregations\n",
    "- once the AWC is mean per SOL_N layers and depth based on the original measured AWC EU hydrogrid depths join this AWC back to the main soil db (and basically only overwrite the SOL_AWC_1-4)"
   ]
  },
  {
   "cell_type": "code",
   "execution_count": 4,
   "metadata": {},
   "outputs": [],
   "source": [
    "import numpy as np  # type: ignore\n",
    "import pandas as pd  # type: ignore\n",
    "\n",
    "import fiona  # type: ignore\n",
    "from fiona.crs import from_epsg # type: ignore\n",
    "import geopandas as gpd  # type: ignore\n",
    "\n",
    "eesti_soil_red1_validatesoil = gpd.read_file(\"../data_deposit/EstSoil-EH_v1.0.shp\", encoding='utf-8')\n",
    "\n",
    "\n",
    "columns_to_keep = [ \"orig_fid\",\n",
    "                    \"nlayers\",\n",
    "                    \"SOL_ZMX\",\n",
    "                    \"SOL_Z1\",\n",
    "                    \"SOL_Z2\",\n",
    "                    \"SOL_Z3\",\n",
    "                    \"SOL_Z4\",\n",
    "                   'SOL_CLAY1',\n",
    "                   'SOL_SILT1',\n",
    "                   'SOL_SAND1',\n",
    "                   'SOL_ROCK1',\n",
    "                    'SOL_BD1',\n",
    "                   'SOL_SOC1',\n",
    "                    \"geometry\"]\n",
    "\n",
    "eesti_soil_red1_validatesoil_short = eesti_soil_red1_validatesoil[columns_to_keep].copy()\n",
    "del(eesti_soil_red1_validatesoil)\n",
    "\n",
    "eesti_soil_red1_validatesoil_short.to_file('../data_deposit/EstSoil-EH_sand_silt_coarse_tmp.shp', encoding='utf-8')\n",
    "\n"
   ]
  },
  {
   "cell_type": "code",
   "execution_count": 8,
   "metadata": {},
   "outputs": [
    {
     "data": {
      "text/html": [
       "<div>\n",
       "<style scoped>\n",
       "    .dataframe tbody tr th:only-of-type {\n",
       "        vertical-align: middle;\n",
       "    }\n",
       "\n",
       "    .dataframe tbody tr th {\n",
       "        vertical-align: top;\n",
       "    }\n",
       "\n",
       "    .dataframe thead th {\n",
       "        text-align: right;\n",
       "    }\n",
       "</style>\n",
       "<table border=\"1\" class=\"dataframe\">\n",
       "  <thead>\n",
       "    <tr style=\"text-align: right;\">\n",
       "      <th></th>\n",
       "      <th>orig_fid</th>\n",
       "      <th>nlayers</th>\n",
       "      <th>SOL_ZMX</th>\n",
       "      <th>SOL_Z1</th>\n",
       "      <th>SOL_Z2</th>\n",
       "      <th>SOL_Z3</th>\n",
       "      <th>SOL_Z4</th>\n",
       "    </tr>\n",
       "  </thead>\n",
       "  <tbody>\n",
       "    <tr>\n",
       "      <th>count</th>\n",
       "      <td>745442.000000</td>\n",
       "      <td>745442.000000</td>\n",
       "      <td>745442.000000</td>\n",
       "      <td>745442.000000</td>\n",
       "      <td>745442.000000</td>\n",
       "      <td>745442.000000</td>\n",
       "      <td>745442.000000</td>\n",
       "    </tr>\n",
       "    <tr>\n",
       "      <th>mean</th>\n",
       "      <td>372731.913556</td>\n",
       "      <td>1.326452</td>\n",
       "      <td>1021.114909</td>\n",
       "      <td>873.716802</td>\n",
       "      <td>300.013636</td>\n",
       "      <td>22.608660</td>\n",
       "      <td>0.086492</td>\n",
       "    </tr>\n",
       "    <tr>\n",
       "      <th>std</th>\n",
       "      <td>215201.422727</td>\n",
       "      <td>0.514279</td>\n",
       "      <td>123.607793</td>\n",
       "      <td>278.752738</td>\n",
       "      <td>457.989242</td>\n",
       "      <td>151.503151</td>\n",
       "      <td>9.767806</td>\n",
       "    </tr>\n",
       "    <tr>\n",
       "      <th>min</th>\n",
       "      <td>0.000000</td>\n",
       "      <td>0.000000</td>\n",
       "      <td>0.000000</td>\n",
       "      <td>0.000000</td>\n",
       "      <td>0.000000</td>\n",
       "      <td>0.000000</td>\n",
       "      <td>0.000000</td>\n",
       "    </tr>\n",
       "    <tr>\n",
       "      <th>25%</th>\n",
       "      <td>186360.250000</td>\n",
       "      <td>1.000000</td>\n",
       "      <td>1000.000000</td>\n",
       "      <td>700.000000</td>\n",
       "      <td>0.000000</td>\n",
       "      <td>0.000000</td>\n",
       "      <td>0.000000</td>\n",
       "    </tr>\n",
       "    <tr>\n",
       "      <th>50%</th>\n",
       "      <td>372720.500000</td>\n",
       "      <td>1.000000</td>\n",
       "      <td>1000.000000</td>\n",
       "      <td>1000.000000</td>\n",
       "      <td>0.000000</td>\n",
       "      <td>0.000000</td>\n",
       "      <td>0.000000</td>\n",
       "    </tr>\n",
       "    <tr>\n",
       "      <th>75%</th>\n",
       "      <td>559104.750000</td>\n",
       "      <td>2.000000</td>\n",
       "      <td>1000.000000</td>\n",
       "      <td>1000.000000</td>\n",
       "      <td>1000.000000</td>\n",
       "      <td>0.000000</td>\n",
       "      <td>0.000000</td>\n",
       "    </tr>\n",
       "    <tr>\n",
       "      <th>max</th>\n",
       "      <td>745597.000000</td>\n",
       "      <td>4.000000</td>\n",
       "      <td>4100.000000</td>\n",
       "      <td>4100.000000</td>\n",
       "      <td>3000.000000</td>\n",
       "      <td>3000.000000</td>\n",
       "      <td>2450.000000</td>\n",
       "    </tr>\n",
       "  </tbody>\n",
       "</table>\n",
       "</div>"
      ],
      "text/plain": [
       "            orig_fid        nlayers        SOL_ZMX         SOL_Z1  \\\n",
       "count  745442.000000  745442.000000  745442.000000  745442.000000   \n",
       "mean   372731.913556       1.326452    1021.114909     873.716802   \n",
       "std    215201.422727       0.514279     123.607793     278.752738   \n",
       "min         0.000000       0.000000       0.000000       0.000000   \n",
       "25%    186360.250000       1.000000    1000.000000     700.000000   \n",
       "50%    372720.500000       1.000000    1000.000000    1000.000000   \n",
       "75%    559104.750000       2.000000    1000.000000    1000.000000   \n",
       "max    745597.000000       4.000000    4100.000000    4100.000000   \n",
       "\n",
       "              SOL_Z2         SOL_Z3         SOL_Z4  \n",
       "count  745442.000000  745442.000000  745442.000000  \n",
       "mean      300.013636      22.608660       0.086492  \n",
       "std       457.989242     151.503151       9.767806  \n",
       "min         0.000000       0.000000       0.000000  \n",
       "25%         0.000000       0.000000       0.000000  \n",
       "50%         0.000000       0.000000       0.000000  \n",
       "75%      1000.000000       0.000000       0.000000  \n",
       "max      3000.000000    3000.000000    2450.000000  "
      ]
     },
     "execution_count": 8,
     "metadata": {},
     "output_type": "execute_result"
    }
   ],
   "source": [
    "eesti_soil_red1_validatesoil_short.describe()"
   ]
  },
  {
   "cell_type": "code",
   "execution_count": 7,
   "metadata": {},
   "outputs": [
    {
     "data": {
      "text/plain": [
       "{'init': 'epsg:3301'}"
      ]
     },
     "metadata": {},
     "output_type": "display_data"
    },
    {
     "data": {
      "text/plain": [
       "{'properties': OrderedDict([('orig_fid', 'int:18'),\n",
       "              ('nlayers', 'int:18'),\n",
       "              ('SOL_ZMX', 'int:18'),\n",
       "              ('SOL_Z1', 'int:18'),\n",
       "              ('SOL_Z2', 'float:24.15'),\n",
       "              ('SOL_Z3', 'float:24.15'),\n",
       "              ('SOL_Z4', 'float:24.15')]),\n",
       " 'geometry': 'Polygon'}"
      ]
     },
     "metadata": {},
     "output_type": "display_data"
    },
    {
     "name": "stdout",
     "output_type": "stream",
     "text": [
      "745442\n",
      "745442\n",
      "745442\n",
      "745442\n",
      "745442\n",
      "745442\n"
     ]
    }
   ],
   "source": [
    "import numpy as np  # type: ignore\n",
    "import pandas as pd  # type: ignore\n",
    "\n",
    "import functools\n",
    "import statistics\n",
    "import operator\n",
    "\n",
    "import fiona  # type: ignore\n",
    "from fiona.crs import from_epsg # type: ignore\n",
    "import geopandas as gpd  # type: ignore\n",
    "\n",
    "import rasterio\n",
    "from rasterio.plot import show\n",
    "from rasterstats import zonal_stats\n",
    "from rasterio.warp import calculate_default_transform, reproject, Resampling\n",
    "\n",
    "comp_l1 = {\n",
    "    'sand': 'soil250_grid_sand_sd1_3301.tif',\n",
    "    'silt': 'soil250_grid_silt_sd1_3301.tif',\n",
    "    'clay': 'soil250_grid_clay_sd1_3301.tif',\n",
    "    'rock': 'soil250_grid_coarsefrag_sd1_3301.tif',\n",
    "    'bd': 'soil250_grid_bulkdens_sd1_3301.tif',\n",
    "    'soc': 'soil250_grid_soc_sd1_3301.tif'\n",
    "}\n",
    "\n",
    "with fiona.open('../data_deposit/EstSoil-EH_sand_silt_coarse_tmp.shp') as vector_src:\n",
    "    \n",
    "    src_crs = vector_src.crs\n",
    "    display(src_crs)\n",
    "    src_schema = vector_src.schema\n",
    "    display(src_schema)\n",
    "\n",
    "    src_schema['properties'][\"mean\"] = \"float\"\n",
    "    src_schema['properties'][\"std\"] = \"float\"\n",
    "    \n",
    "    # for layer in range(1,8):\n",
    "    for layer in comp_l1.keys():\n",
    "        \n",
    "        outputs = zonal_stats(vector_src,\n",
    "                # f\"C:\\\\dev\\\\05_geodata\\\\soil\\\\soilgrids_download\\\\soil250_grid_sand_sd{layer}_3301.tif\",\n",
    "                f\"C:\\\\dev\\\\05_geodata\\\\soil\\\\soilgrids_download\\\\{comp_l1[layer]}\",\n",
    "                stats=\"mean std\",\n",
    "                all_touched=True, geojson_out=True)\n",
    "    \n",
    "        with fiona.open(f\"../data_deposit/EstSoil-EH_{layer}_zonal_layer.shp\", \"w\", driver=\"ESRI Shapefile\", schema=src_schema, crs=src_crs) as collection:\n",
    "            collection.writerecords(outputs)\n",
    "            print(len(collection))\n",
    "            collection.flush()\n"
   ]
  },
  {
   "cell_type": "code",
   "execution_count": null,
   "metadata": {},
   "outputs": [],
   "source": [
    "# load geodataframes\n",
    "for layer in range(1,8):\n",
    "    next_layer = gpd.read_file(f\"../data_deposit/EstSoil-EH_sand_silt_coarse_tmp_zonal_layer_{layer}.shp\", encoding='utf-8')\n",
    "    display(next_layer.isnull().sum())\n",
    "    display(next_layer.sample(10))\n",
    "    display(next_layer.dtypes)\n",
    "    fig, ax = plt.subplots()\n",
    "    fig = next_layer[\"mean\"].hist(ax=ax)\n",
    "    plt.show()\n",
    "    fig, ax = plt.subplots()\n",
    "    fig = next_layer[\"mean\"].plot(ax=ax)\n",
    "    plt.show()\n",
    "    fig, ax = plt.subplots()\n",
    "    fig = next_layer[\"std\"].hist(ax=ax)\n",
    "    plt.show()\n",
    "    fig, ax = plt.subplots()\n",
    "    fig = next_layer[\"std\"].plot(ax=ax)\n",
    "    plt.show()\n",
    "    # next_layer[\"mean\"] = next_layer.isnull().apply(lambda x: x[\"majority\"])\n",
    "    # display(next_layer.isnull().sum())\n",
    "    # because to save memory space, the factions after comma were stored as Byte / UInt8\n",
    "    # next_layer['mean'] = next_layer['mean'] / 100.0\n",
    "    next_layer.to_file(f\"../data_deposit/EstSoil-EH_sand_silt_coarse_tmp_zonal_layer_{layer}.shp\", encoding='utf-8')\n",
    "    \n",
    "# do_layer_avg_1_4"
   ]
  },
  {
   "cell_type": "code",
   "execution_count": 5,
   "metadata": {},
   "outputs": [],
   "source": [
    "import numpy as np  # type: ignore\n",
    "import pandas as pd  # type: ignore\n",
    "\n",
    "import fiona  # type: ignore\n",
    "from fiona.crs import from_epsg # type: ignore\n",
    "import geopandas as gpd  # type: ignore\n",
    "\n",
    "comp_l1 = {\n",
    "    'sand': 'soil250_grid_sand_sd1_3301.tif',\n",
    "    'silt': 'soil250_grid_silt_sd1_3301.tif',\n",
    "    'clay': 'soil250_grid_clay_sd1_3301.tif',\n",
    "    'rock': 'soil250_grid_coarsefrag_sd1_3301.tif',\n",
    "    'bd': 'soil250_grid_bulkdens_sd1_3301.tif',\n",
    "    'soc': 'soil250_grid_soc_sd1_3301.tif'\n",
    "}\n"
   ]
  },
  {
   "cell_type": "code",
   "execution_count": 11,
   "metadata": {},
   "outputs": [
    {
     "data": {
      "text/html": [
       "<div>\n",
       "<style scoped>\n",
       "    .dataframe tbody tr th:only-of-type {\n",
       "        vertical-align: middle;\n",
       "    }\n",
       "\n",
       "    .dataframe tbody tr th {\n",
       "        vertical-align: top;\n",
       "    }\n",
       "\n",
       "    .dataframe thead th {\n",
       "        text-align: right;\n",
       "    }\n",
       "</style>\n",
       "<table border=\"1\" class=\"dataframe\">\n",
       "  <thead>\n",
       "    <tr style=\"text-align: right;\">\n",
       "      <th></th>\n",
       "      <th>orig_fid</th>\n",
       "      <th>nlayers</th>\n",
       "      <th>SOL_ZMX</th>\n",
       "      <th>SOL_Z1</th>\n",
       "      <th>SOL_Z2</th>\n",
       "      <th>SOL_Z3</th>\n",
       "      <th>SOL_Z4</th>\n",
       "      <th>geometry</th>\n",
       "      <th>mean_1_sand</th>\n",
       "      <th>std_1_sand</th>\n",
       "      <th>mean_1_silt</th>\n",
       "      <th>std_1_silt</th>\n",
       "      <th>mean_1_clay</th>\n",
       "      <th>std_1_clay</th>\n",
       "      <th>mean_1_rock</th>\n",
       "      <th>std_1_rock</th>\n",
       "      <th>mean_1_bd</th>\n",
       "      <th>std_1_bd</th>\n",
       "      <th>mean_1_soc</th>\n",
       "      <th>std_1_soc</th>\n",
       "    </tr>\n",
       "  </thead>\n",
       "  <tbody>\n",
       "    <tr>\n",
       "      <th>181061</th>\n",
       "      <td>181061</td>\n",
       "      <td>2</td>\n",
       "      <td>1000</td>\n",
       "      <td>450</td>\n",
       "      <td>1000.0</td>\n",
       "      <td>0.0</td>\n",
       "      <td>0.0</td>\n",
       "      <td>POLYGON ((550896.200 6542570.550, 550907.050 6...</td>\n",
       "      <td>51.142857</td>\n",
       "      <td>2.356060</td>\n",
       "      <td>34.428571</td>\n",
       "      <td>2.258770</td>\n",
       "      <td>14.285714</td>\n",
       "      <td>0.451754</td>\n",
       "      <td>8.571429</td>\n",
       "      <td>0.494872</td>\n",
       "      <td>972.714286</td>\n",
       "      <td>10.898418</td>\n",
       "      <td>35.714286</td>\n",
       "      <td>1.277753</td>\n",
       "    </tr>\n",
       "    <tr>\n",
       "      <th>23180</th>\n",
       "      <td>23180</td>\n",
       "      <td>1</td>\n",
       "      <td>1000</td>\n",
       "      <td>1000</td>\n",
       "      <td>0.0</td>\n",
       "      <td>0.0</td>\n",
       "      <td>0.0</td>\n",
       "      <td>POLYGON ((677905.910 6399573.620, 677908.130 6...</td>\n",
       "      <td>52.000000</td>\n",
       "      <td>0.000000</td>\n",
       "      <td>36.666667</td>\n",
       "      <td>0.471405</td>\n",
       "      <td>11.333333</td>\n",
       "      <td>0.471405</td>\n",
       "      <td>9.000000</td>\n",
       "      <td>0.000000</td>\n",
       "      <td>824.333333</td>\n",
       "      <td>0.942809</td>\n",
       "      <td>37.666667</td>\n",
       "      <td>0.471405</td>\n",
       "    </tr>\n",
       "    <tr>\n",
       "      <th>385692</th>\n",
       "      <td>385692</td>\n",
       "      <td>1</td>\n",
       "      <td>1000</td>\n",
       "      <td>1000</td>\n",
       "      <td>0.0</td>\n",
       "      <td>0.0</td>\n",
       "      <td>0.0</td>\n",
       "      <td>POLYGON ((626929.830 6564780.880, 626924.289 6...</td>\n",
       "      <td>50.800000</td>\n",
       "      <td>1.600000</td>\n",
       "      <td>34.800000</td>\n",
       "      <td>0.748331</td>\n",
       "      <td>14.200000</td>\n",
       "      <td>1.600000</td>\n",
       "      <td>7.600000</td>\n",
       "      <td>0.489898</td>\n",
       "      <td>882.000000</td>\n",
       "      <td>17.742604</td>\n",
       "      <td>40.000000</td>\n",
       "      <td>1.095445</td>\n",
       "    </tr>\n",
       "    <tr>\n",
       "      <th>38892</th>\n",
       "      <td>38887</td>\n",
       "      <td>1</td>\n",
       "      <td>1000</td>\n",
       "      <td>1000</td>\n",
       "      <td>0.0</td>\n",
       "      <td>0.0</td>\n",
       "      <td>0.0</td>\n",
       "      <td>POLYGON ((647461.420 6397865.000, 647458.370 6...</td>\n",
       "      <td>67.000000</td>\n",
       "      <td>0.000000</td>\n",
       "      <td>26.000000</td>\n",
       "      <td>0.000000</td>\n",
       "      <td>7.000000</td>\n",
       "      <td>0.000000</td>\n",
       "      <td>9.000000</td>\n",
       "      <td>0.000000</td>\n",
       "      <td>776.000000</td>\n",
       "      <td>0.000000</td>\n",
       "      <td>53.000000</td>\n",
       "      <td>0.000000</td>\n",
       "    </tr>\n",
       "    <tr>\n",
       "      <th>150725</th>\n",
       "      <td>150725</td>\n",
       "      <td>1</td>\n",
       "      <td>1000</td>\n",
       "      <td>1000</td>\n",
       "      <td>0.0</td>\n",
       "      <td>0.0</td>\n",
       "      <td>0.0</td>\n",
       "      <td>POLYGON ((553524.373 6506828.474, 553514.090 6...</td>\n",
       "      <td>54.000000</td>\n",
       "      <td>0.000000</td>\n",
       "      <td>31.000000</td>\n",
       "      <td>0.000000</td>\n",
       "      <td>15.000000</td>\n",
       "      <td>0.000000</td>\n",
       "      <td>9.000000</td>\n",
       "      <td>0.000000</td>\n",
       "      <td>853.000000</td>\n",
       "      <td>0.000000</td>\n",
       "      <td>48.000000</td>\n",
       "      <td>0.000000</td>\n",
       "    </tr>\n",
       "    <tr>\n",
       "      <th>547051</th>\n",
       "      <td>547040</td>\n",
       "      <td>1</td>\n",
       "      <td>1000</td>\n",
       "      <td>1000</td>\n",
       "      <td>0.0</td>\n",
       "      <td>0.0</td>\n",
       "      <td>0.0</td>\n",
       "      <td>POLYGON ((686183.830 6385638.910, 686180.560 6...</td>\n",
       "      <td>57.500000</td>\n",
       "      <td>0.500000</td>\n",
       "      <td>31.500000</td>\n",
       "      <td>1.500000</td>\n",
       "      <td>11.000000</td>\n",
       "      <td>1.000000</td>\n",
       "      <td>6.500000</td>\n",
       "      <td>0.500000</td>\n",
       "      <td>863.500000</td>\n",
       "      <td>6.500000</td>\n",
       "      <td>41.500000</td>\n",
       "      <td>0.500000</td>\n",
       "    </tr>\n",
       "    <tr>\n",
       "      <th>299223</th>\n",
       "      <td>299207</td>\n",
       "      <td>1</td>\n",
       "      <td>1000</td>\n",
       "      <td>1000</td>\n",
       "      <td>0.0</td>\n",
       "      <td>0.0</td>\n",
       "      <td>0.0</td>\n",
       "      <td>POLYGON ((651212.918 6379668.736, 651208.530 6...</td>\n",
       "      <td>58.500000</td>\n",
       "      <td>0.500000</td>\n",
       "      <td>31.000000</td>\n",
       "      <td>0.000000</td>\n",
       "      <td>10.500000</td>\n",
       "      <td>0.500000</td>\n",
       "      <td>5.000000</td>\n",
       "      <td>0.000000</td>\n",
       "      <td>827.000000</td>\n",
       "      <td>9.000000</td>\n",
       "      <td>41.500000</td>\n",
       "      <td>0.500000</td>\n",
       "    </tr>\n",
       "    <tr>\n",
       "      <th>467376</th>\n",
       "      <td>479184</td>\n",
       "      <td>1</td>\n",
       "      <td>1000</td>\n",
       "      <td>1000</td>\n",
       "      <td>0.0</td>\n",
       "      <td>0.0</td>\n",
       "      <td>0.0</td>\n",
       "      <td>POLYGON ((599154.360 6471782.061, 599151.780 6...</td>\n",
       "      <td>53.333333</td>\n",
       "      <td>0.471405</td>\n",
       "      <td>36.333333</td>\n",
       "      <td>0.942809</td>\n",
       "      <td>11.000000</td>\n",
       "      <td>0.000000</td>\n",
       "      <td>6.666667</td>\n",
       "      <td>0.471405</td>\n",
       "      <td>928.666667</td>\n",
       "      <td>5.185450</td>\n",
       "      <td>37.000000</td>\n",
       "      <td>0.000000</td>\n",
       "    </tr>\n",
       "    <tr>\n",
       "      <th>725547</th>\n",
       "      <td>725536</td>\n",
       "      <td>3</td>\n",
       "      <td>1000</td>\n",
       "      <td>400</td>\n",
       "      <td>900.0</td>\n",
       "      <td>1000.0</td>\n",
       "      <td>0.0</td>\n",
       "      <td>POLYGON ((724143.660 6417291.810, 724145.440 6...</td>\n",
       "      <td>71.000000</td>\n",
       "      <td>2.000000</td>\n",
       "      <td>22.888889</td>\n",
       "      <td>1.523479</td>\n",
       "      <td>5.666667</td>\n",
       "      <td>0.666667</td>\n",
       "      <td>6.333333</td>\n",
       "      <td>0.666667</td>\n",
       "      <td>884.555556</td>\n",
       "      <td>12.093259</td>\n",
       "      <td>42.555556</td>\n",
       "      <td>0.955814</td>\n",
       "    </tr>\n",
       "    <tr>\n",
       "      <th>634503</th>\n",
       "      <td>634357</td>\n",
       "      <td>2</td>\n",
       "      <td>1000</td>\n",
       "      <td>700</td>\n",
       "      <td>1000.0</td>\n",
       "      <td>0.0</td>\n",
       "      <td>0.0</td>\n",
       "      <td>POLYGON ((605957.910 6457171.450, 605948.840 6...</td>\n",
       "      <td>48.166667</td>\n",
       "      <td>0.372678</td>\n",
       "      <td>36.000000</td>\n",
       "      <td>0.000000</td>\n",
       "      <td>15.166667</td>\n",
       "      <td>0.372678</td>\n",
       "      <td>6.000000</td>\n",
       "      <td>0.000000</td>\n",
       "      <td>976.000000</td>\n",
       "      <td>12.569805</td>\n",
       "      <td>38.333333</td>\n",
       "      <td>1.699673</td>\n",
       "    </tr>\n",
       "  </tbody>\n",
       "</table>\n",
       "</div>"
      ],
      "text/plain": [
       "        orig_fid  nlayers  SOL_ZMX  SOL_Z1  SOL_Z2  SOL_Z3  SOL_Z4  \\\n",
       "181061    181061        2     1000     450  1000.0     0.0     0.0   \n",
       "23180      23180        1     1000    1000     0.0     0.0     0.0   \n",
       "385692    385692        1     1000    1000     0.0     0.0     0.0   \n",
       "38892      38887        1     1000    1000     0.0     0.0     0.0   \n",
       "150725    150725        1     1000    1000     0.0     0.0     0.0   \n",
       "547051    547040        1     1000    1000     0.0     0.0     0.0   \n",
       "299223    299207        1     1000    1000     0.0     0.0     0.0   \n",
       "467376    479184        1     1000    1000     0.0     0.0     0.0   \n",
       "725547    725536        3     1000     400   900.0  1000.0     0.0   \n",
       "634503    634357        2     1000     700  1000.0     0.0     0.0   \n",
       "\n",
       "                                                 geometry  mean_1_sand  \\\n",
       "181061  POLYGON ((550896.200 6542570.550, 550907.050 6...    51.142857   \n",
       "23180   POLYGON ((677905.910 6399573.620, 677908.130 6...    52.000000   \n",
       "385692  POLYGON ((626929.830 6564780.880, 626924.289 6...    50.800000   \n",
       "38892   POLYGON ((647461.420 6397865.000, 647458.370 6...    67.000000   \n",
       "150725  POLYGON ((553524.373 6506828.474, 553514.090 6...    54.000000   \n",
       "547051  POLYGON ((686183.830 6385638.910, 686180.560 6...    57.500000   \n",
       "299223  POLYGON ((651212.918 6379668.736, 651208.530 6...    58.500000   \n",
       "467376  POLYGON ((599154.360 6471782.061, 599151.780 6...    53.333333   \n",
       "725547  POLYGON ((724143.660 6417291.810, 724145.440 6...    71.000000   \n",
       "634503  POLYGON ((605957.910 6457171.450, 605948.840 6...    48.166667   \n",
       "\n",
       "        std_1_sand  mean_1_silt  std_1_silt  mean_1_clay  std_1_clay  \\\n",
       "181061    2.356060    34.428571    2.258770    14.285714    0.451754   \n",
       "23180     0.000000    36.666667    0.471405    11.333333    0.471405   \n",
       "385692    1.600000    34.800000    0.748331    14.200000    1.600000   \n",
       "38892     0.000000    26.000000    0.000000     7.000000    0.000000   \n",
       "150725    0.000000    31.000000    0.000000    15.000000    0.000000   \n",
       "547051    0.500000    31.500000    1.500000    11.000000    1.000000   \n",
       "299223    0.500000    31.000000    0.000000    10.500000    0.500000   \n",
       "467376    0.471405    36.333333    0.942809    11.000000    0.000000   \n",
       "725547    2.000000    22.888889    1.523479     5.666667    0.666667   \n",
       "634503    0.372678    36.000000    0.000000    15.166667    0.372678   \n",
       "\n",
       "        mean_1_rock  std_1_rock   mean_1_bd   std_1_bd  mean_1_soc  std_1_soc  \n",
       "181061     8.571429    0.494872  972.714286  10.898418   35.714286   1.277753  \n",
       "23180      9.000000    0.000000  824.333333   0.942809   37.666667   0.471405  \n",
       "385692     7.600000    0.489898  882.000000  17.742604   40.000000   1.095445  \n",
       "38892      9.000000    0.000000  776.000000   0.000000   53.000000   0.000000  \n",
       "150725     9.000000    0.000000  853.000000   0.000000   48.000000   0.000000  \n",
       "547051     6.500000    0.500000  863.500000   6.500000   41.500000   0.500000  \n",
       "299223     5.000000    0.000000  827.000000   9.000000   41.500000   0.500000  \n",
       "467376     6.666667    0.471405  928.666667   5.185450   37.000000   0.000000  \n",
       "725547     6.333333    0.666667  884.555556  12.093259   42.555556   0.955814  \n",
       "634503     6.000000    0.000000  976.000000  12.569805   38.333333   1.699673  "
      ]
     },
     "metadata": {},
     "output_type": "display_data"
    },
    {
     "data": {
      "text/plain": [
       "orig_fid          int64\n",
       "nlayers           int64\n",
       "SOL_ZMX           int64\n",
       "SOL_Z1            int64\n",
       "SOL_Z2          float64\n",
       "SOL_Z3          float64\n",
       "SOL_Z4          float64\n",
       "geometry       geometry\n",
       "mean_1_sand     float64\n",
       "std_1_sand      float64\n",
       "mean_1_silt     float64\n",
       "std_1_silt      float64\n",
       "mean_1_clay     float64\n",
       "std_1_clay      float64\n",
       "mean_1_rock     float64\n",
       "std_1_rock      float64\n",
       "mean_1_bd       float64\n",
       "std_1_bd        float64\n",
       "mean_1_soc      float64\n",
       "std_1_soc       float64\n",
       "dtype: object"
      ]
     },
     "metadata": {},
     "output_type": "display_data"
    }
   ],
   "source": [
    "# layer1 = gpd.read_file(\"data/eesti_soil_red1_fix_geo_awc_zonal_layer_1.shp\", encoding='utf-8')\n",
    "# layer1.drop(columns=['median','std'], inplace=True)\n",
    "# layer1.rename(columns={\"mean\" : \"AWC_L1\"}, inplace=True)\n",
    "\n",
    "is_first = True\n",
    "layer1 = eesti_soil_red1_validatesoil_short\n",
    "\n",
    "# for layer in range(2,8):\n",
    "for layer in comp_l1.keys():\n",
    "    next_layer = gpd.read_file(f\"../data_deposit/EstSoil-EH_{layer}_zonal_layer.shp\", encoding='utf-8')\n",
    "    next_layer.rename( columns = {\n",
    "        \"mean\" : \"mean_1_\" + str(layer),\n",
    "        \"std\" : \"std_1_\" + str(layer)},\n",
    "                      inplace=True)\n",
    "    next_layer.drop( columns = [\n",
    "                            \"nlayers\",\n",
    "                            \"SOL_ZMX\",\n",
    "                            \"SOL_Z1\",\n",
    "                            \"SOL_Z2\",\n",
    "                            \"SOL_Z3\",\n",
    "                            \"SOL_Z4\",\n",
    "                            \"geometry\"], inplace=True)\n",
    "    layer1 = pd.merge(left=layer1, right=next_layer, left_on='orig_fid', right_on='orig_fid', how='left')\n",
    "\n",
    "display(layer1.sample(10))\n",
    "display(layer1.dtypes)"
   ]
  },
  {
   "cell_type": "code",
   "execution_count": 12,
   "metadata": {},
   "outputs": [
    {
     "data": {
      "text/html": [
       "<div>\n",
       "<style scoped>\n",
       "    .dataframe tbody tr th:only-of-type {\n",
       "        vertical-align: middle;\n",
       "    }\n",
       "\n",
       "    .dataframe tbody tr th {\n",
       "        vertical-align: top;\n",
       "    }\n",
       "\n",
       "    .dataframe thead th {\n",
       "        text-align: right;\n",
       "    }\n",
       "</style>\n",
       "<table border=\"1\" class=\"dataframe\">\n",
       "  <thead>\n",
       "    <tr style=\"text-align: right;\">\n",
       "      <th></th>\n",
       "      <th>orig_fid</th>\n",
       "      <th>nlayers</th>\n",
       "      <th>SOL_ZMX</th>\n",
       "      <th>SOL_Z1</th>\n",
       "      <th>SOL_Z2</th>\n",
       "      <th>SOL_Z3</th>\n",
       "      <th>SOL_Z4</th>\n",
       "      <th>geometry</th>\n",
       "      <th>mean_1_sand</th>\n",
       "      <th>std_1_sand</th>\n",
       "      <th>...</th>\n",
       "      <th>mean_1_bd</th>\n",
       "      <th>std_1_bd</th>\n",
       "      <th>mean_1_soc</th>\n",
       "      <th>std_1_soc</th>\n",
       "      <th>SOL_CLAY1</th>\n",
       "      <th>SOL_SILT1</th>\n",
       "      <th>SOL_SAND1</th>\n",
       "      <th>SOL_ROCK1</th>\n",
       "      <th>SOL_BD1</th>\n",
       "      <th>SOL_SOC1</th>\n",
       "    </tr>\n",
       "  </thead>\n",
       "  <tbody>\n",
       "    <tr>\n",
       "      <th>703154</th>\n",
       "      <td>702756</td>\n",
       "      <td>1</td>\n",
       "      <td>1000</td>\n",
       "      <td>1000</td>\n",
       "      <td>0.0</td>\n",
       "      <td>0.0</td>\n",
       "      <td>0.0</td>\n",
       "      <td>POLYGON ((655960.180 6437337.560, 655956.430 6...</td>\n",
       "      <td>53.333333</td>\n",
       "      <td>0.471405</td>\n",
       "      <td>...</td>\n",
       "      <td>876.333333</td>\n",
       "      <td>16.499158</td>\n",
       "      <td>43.333333</td>\n",
       "      <td>0.942809</td>\n",
       "      <td>60</td>\n",
       "      <td>20</td>\n",
       "      <td>20</td>\n",
       "      <td>0</td>\n",
       "      <td>0.427006</td>\n",
       "      <td>28.903651</td>\n",
       "    </tr>\n",
       "    <tr>\n",
       "      <th>536564</th>\n",
       "      <td>528833</td>\n",
       "      <td>1</td>\n",
       "      <td>1000</td>\n",
       "      <td>1000</td>\n",
       "      <td>0.0</td>\n",
       "      <td>0.0</td>\n",
       "      <td>0.0</td>\n",
       "      <td>POLYGON ((410245.090 6525553.420, 410246.030 6...</td>\n",
       "      <td>62.250000</td>\n",
       "      <td>1.785357</td>\n",
       "      <td>...</td>\n",
       "      <td>938.750000</td>\n",
       "      <td>18.779976</td>\n",
       "      <td>44.250000</td>\n",
       "      <td>1.089725</td>\n",
       "      <td>7</td>\n",
       "      <td>3</td>\n",
       "      <td>90</td>\n",
       "      <td>0</td>\n",
       "      <td>0.829039</td>\n",
       "      <td>9.952505</td>\n",
       "    </tr>\n",
       "    <tr>\n",
       "      <th>78155</th>\n",
       "      <td>86080</td>\n",
       "      <td>1</td>\n",
       "      <td>1000</td>\n",
       "      <td>1000</td>\n",
       "      <td>0.0</td>\n",
       "      <td>0.0</td>\n",
       "      <td>0.0</td>\n",
       "      <td>POLYGON ((649357.190 6402079.620, 649349.524 6...</td>\n",
       "      <td>53.666667</td>\n",
       "      <td>0.942809</td>\n",
       "      <td>...</td>\n",
       "      <td>868.666667</td>\n",
       "      <td>38.655171</td>\n",
       "      <td>35.666667</td>\n",
       "      <td>0.471405</td>\n",
       "      <td>15</td>\n",
       "      <td>30</td>\n",
       "      <td>55</td>\n",
       "      <td>0</td>\n",
       "      <td>1.165002</td>\n",
       "      <td>4.147894</td>\n",
       "    </tr>\n",
       "    <tr>\n",
       "      <th>534955</th>\n",
       "      <td>527224</td>\n",
       "      <td>1</td>\n",
       "      <td>1500</td>\n",
       "      <td>1500</td>\n",
       "      <td>0.0</td>\n",
       "      <td>0.0</td>\n",
       "      <td>0.0</td>\n",
       "      <td>POLYGON ((595555.080 6601454.920, 595551.240 6...</td>\n",
       "      <td>58.000000</td>\n",
       "      <td>3.585686</td>\n",
       "      <td>...</td>\n",
       "      <td>866.071429</td>\n",
       "      <td>28.516823</td>\n",
       "      <td>43.928571</td>\n",
       "      <td>2.282364</td>\n",
       "      <td>5</td>\n",
       "      <td>5</td>\n",
       "      <td>90</td>\n",
       "      <td>0</td>\n",
       "      <td>0.905179</td>\n",
       "      <td>8.259377</td>\n",
       "    </tr>\n",
       "    <tr>\n",
       "      <th>570212</th>\n",
       "      <td>570201</td>\n",
       "      <td>1</td>\n",
       "      <td>1000</td>\n",
       "      <td>1000</td>\n",
       "      <td>0.0</td>\n",
       "      <td>0.0</td>\n",
       "      <td>0.0</td>\n",
       "      <td>POLYGON ((685502.960 6433892.210, 685502.530 6...</td>\n",
       "      <td>47.600000</td>\n",
       "      <td>0.489898</td>\n",
       "      <td>...</td>\n",
       "      <td>977.800000</td>\n",
       "      <td>24.838680</td>\n",
       "      <td>35.000000</td>\n",
       "      <td>1.095445</td>\n",
       "      <td>15</td>\n",
       "      <td>20</td>\n",
       "      <td>65</td>\n",
       "      <td>15</td>\n",
       "      <td>1.258921</td>\n",
       "      <td>3.079303</td>\n",
       "    </tr>\n",
       "    <tr>\n",
       "      <th>232908</th>\n",
       "      <td>232908</td>\n",
       "      <td>1</td>\n",
       "      <td>1000</td>\n",
       "      <td>1000</td>\n",
       "      <td>0.0</td>\n",
       "      <td>0.0</td>\n",
       "      <td>0.0</td>\n",
       "      <td>POLYGON ((601283.510 6523546.720, 601276.410 6...</td>\n",
       "      <td>44.500000</td>\n",
       "      <td>0.500000</td>\n",
       "      <td>...</td>\n",
       "      <td>826.500000</td>\n",
       "      <td>24.500000</td>\n",
       "      <td>30.500000</td>\n",
       "      <td>0.500000</td>\n",
       "      <td>15</td>\n",
       "      <td>30</td>\n",
       "      <td>55</td>\n",
       "      <td>85</td>\n",
       "      <td>0.897737</td>\n",
       "      <td>8.412204</td>\n",
       "    </tr>\n",
       "    <tr>\n",
       "      <th>221858</th>\n",
       "      <td>221858</td>\n",
       "      <td>1</td>\n",
       "      <td>1000</td>\n",
       "      <td>1000</td>\n",
       "      <td>0.0</td>\n",
       "      <td>0.0</td>\n",
       "      <td>0.0</td>\n",
       "      <td>POLYGON ((571619.860 6555051.800, 571613.319 6...</td>\n",
       "      <td>49.500000</td>\n",
       "      <td>0.500000</td>\n",
       "      <td>...</td>\n",
       "      <td>968.000000</td>\n",
       "      <td>15.000000</td>\n",
       "      <td>27.500000</td>\n",
       "      <td>1.500000</td>\n",
       "      <td>9</td>\n",
       "      <td>9</td>\n",
       "      <td>82</td>\n",
       "      <td>25</td>\n",
       "      <td>1.022585</td>\n",
       "      <td>6.142776</td>\n",
       "    </tr>\n",
       "    <tr>\n",
       "      <th>365920</th>\n",
       "      <td>365913</td>\n",
       "      <td>2</td>\n",
       "      <td>1000</td>\n",
       "      <td>650</td>\n",
       "      <td>1000.0</td>\n",
       "      <td>0.0</td>\n",
       "      <td>0.0</td>\n",
       "      <td>POLYGON ((580682.720 6499398.160, 580686.070 6...</td>\n",
       "      <td>58.333333</td>\n",
       "      <td>1.154701</td>\n",
       "      <td>...</td>\n",
       "      <td>854.888889</td>\n",
       "      <td>27.966029</td>\n",
       "      <td>46.111111</td>\n",
       "      <td>1.099944</td>\n",
       "      <td>15</td>\n",
       "      <td>20</td>\n",
       "      <td>65</td>\n",
       "      <td>0</td>\n",
       "      <td>1.014851</td>\n",
       "      <td>6.267144</td>\n",
       "    </tr>\n",
       "    <tr>\n",
       "      <th>416837</th>\n",
       "      <td>403216</td>\n",
       "      <td>1</td>\n",
       "      <td>1500</td>\n",
       "      <td>1500</td>\n",
       "      <td>0.0</td>\n",
       "      <td>0.0</td>\n",
       "      <td>0.0</td>\n",
       "      <td>POLYGON ((672013.540 6498747.100, 672014.640 6...</td>\n",
       "      <td>61.833333</td>\n",
       "      <td>1.863390</td>\n",
       "      <td>...</td>\n",
       "      <td>838.666667</td>\n",
       "      <td>8.209074</td>\n",
       "      <td>48.666667</td>\n",
       "      <td>3.423773</td>\n",
       "      <td>7</td>\n",
       "      <td>3</td>\n",
       "      <td>90</td>\n",
       "      <td>0</td>\n",
       "      <td>0.982394</td>\n",
       "      <td>6.810401</td>\n",
       "    </tr>\n",
       "    <tr>\n",
       "      <th>42907</th>\n",
       "      <td>42902</td>\n",
       "      <td>1</td>\n",
       "      <td>1000</td>\n",
       "      <td>1000</td>\n",
       "      <td>0.0</td>\n",
       "      <td>0.0</td>\n",
       "      <td>0.0</td>\n",
       "      <td>POLYGON ((634828.260 6426799.200, 634831.790 6...</td>\n",
       "      <td>43.500000</td>\n",
       "      <td>0.500000</td>\n",
       "      <td>...</td>\n",
       "      <td>893.333333</td>\n",
       "      <td>10.903618</td>\n",
       "      <td>29.000000</td>\n",
       "      <td>1.000000</td>\n",
       "      <td>9</td>\n",
       "      <td>9</td>\n",
       "      <td>82</td>\n",
       "      <td>0</td>\n",
       "      <td>1.167802</td>\n",
       "      <td>4.113547</td>\n",
       "    </tr>\n",
       "  </tbody>\n",
       "</table>\n",
       "<p>10 rows × 26 columns</p>\n",
       "</div>"
      ],
      "text/plain": [
       "        orig_fid  nlayers  SOL_ZMX  SOL_Z1  SOL_Z2  SOL_Z3  SOL_Z4  \\\n",
       "703154    702756        1     1000    1000     0.0     0.0     0.0   \n",
       "536564    528833        1     1000    1000     0.0     0.0     0.0   \n",
       "78155      86080        1     1000    1000     0.0     0.0     0.0   \n",
       "534955    527224        1     1500    1500     0.0     0.0     0.0   \n",
       "570212    570201        1     1000    1000     0.0     0.0     0.0   \n",
       "232908    232908        1     1000    1000     0.0     0.0     0.0   \n",
       "221858    221858        1     1000    1000     0.0     0.0     0.0   \n",
       "365920    365913        2     1000     650  1000.0     0.0     0.0   \n",
       "416837    403216        1     1500    1500     0.0     0.0     0.0   \n",
       "42907      42902        1     1000    1000     0.0     0.0     0.0   \n",
       "\n",
       "                                                 geometry  mean_1_sand  \\\n",
       "703154  POLYGON ((655960.180 6437337.560, 655956.430 6...    53.333333   \n",
       "536564  POLYGON ((410245.090 6525553.420, 410246.030 6...    62.250000   \n",
       "78155   POLYGON ((649357.190 6402079.620, 649349.524 6...    53.666667   \n",
       "534955  POLYGON ((595555.080 6601454.920, 595551.240 6...    58.000000   \n",
       "570212  POLYGON ((685502.960 6433892.210, 685502.530 6...    47.600000   \n",
       "232908  POLYGON ((601283.510 6523546.720, 601276.410 6...    44.500000   \n",
       "221858  POLYGON ((571619.860 6555051.800, 571613.319 6...    49.500000   \n",
       "365920  POLYGON ((580682.720 6499398.160, 580686.070 6...    58.333333   \n",
       "416837  POLYGON ((672013.540 6498747.100, 672014.640 6...    61.833333   \n",
       "42907   POLYGON ((634828.260 6426799.200, 634831.790 6...    43.500000   \n",
       "\n",
       "        std_1_sand  ...   mean_1_bd   std_1_bd  mean_1_soc  std_1_soc  \\\n",
       "703154    0.471405  ...  876.333333  16.499158   43.333333   0.942809   \n",
       "536564    1.785357  ...  938.750000  18.779976   44.250000   1.089725   \n",
       "78155     0.942809  ...  868.666667  38.655171   35.666667   0.471405   \n",
       "534955    3.585686  ...  866.071429  28.516823   43.928571   2.282364   \n",
       "570212    0.489898  ...  977.800000  24.838680   35.000000   1.095445   \n",
       "232908    0.500000  ...  826.500000  24.500000   30.500000   0.500000   \n",
       "221858    0.500000  ...  968.000000  15.000000   27.500000   1.500000   \n",
       "365920    1.154701  ...  854.888889  27.966029   46.111111   1.099944   \n",
       "416837    1.863390  ...  838.666667   8.209074   48.666667   3.423773   \n",
       "42907     0.500000  ...  893.333333  10.903618   29.000000   1.000000   \n",
       "\n",
       "        SOL_CLAY1  SOL_SILT1  SOL_SAND1  SOL_ROCK1   SOL_BD1   SOL_SOC1  \n",
       "703154         60         20         20          0  0.427006  28.903651  \n",
       "536564          7          3         90          0  0.829039   9.952505  \n",
       "78155          15         30         55          0  1.165002   4.147894  \n",
       "534955          5          5         90          0  0.905179   8.259377  \n",
       "570212         15         20         65         15  1.258921   3.079303  \n",
       "232908         15         30         55         85  0.897737   8.412204  \n",
       "221858          9          9         82         25  1.022585   6.142776  \n",
       "365920         15         20         65          0  1.014851   6.267144  \n",
       "416837          7          3         90          0  0.982394   6.810401  \n",
       "42907           9          9         82          0  1.167802   4.113547  \n",
       "\n",
       "[10 rows x 26 columns]"
      ]
     },
     "metadata": {},
     "output_type": "display_data"
    },
    {
     "data": {
      "text/plain": [
       "orig_fid          int64\n",
       "nlayers           int64\n",
       "SOL_ZMX           int64\n",
       "SOL_Z1            int64\n",
       "SOL_Z2          float64\n",
       "SOL_Z3          float64\n",
       "SOL_Z4          float64\n",
       "geometry       geometry\n",
       "mean_1_sand     float64\n",
       "std_1_sand      float64\n",
       "mean_1_silt     float64\n",
       "std_1_silt      float64\n",
       "mean_1_clay     float64\n",
       "std_1_clay      float64\n",
       "mean_1_rock     float64\n",
       "std_1_rock      float64\n",
       "mean_1_bd       float64\n",
       "std_1_bd        float64\n",
       "mean_1_soc      float64\n",
       "std_1_soc       float64\n",
       "SOL_CLAY1         int64\n",
       "SOL_SILT1         int64\n",
       "SOL_SAND1         int64\n",
       "SOL_ROCK1         int64\n",
       "SOL_BD1         float64\n",
       "SOL_SOC1        float64\n",
       "dtype: object"
      ]
     },
     "metadata": {},
     "output_type": "display_data"
    }
   ],
   "source": [
    "eesti_soil_red1_validatesoil = gpd.read_file(\"../data_deposit/EstSoil-EH_v1.0.shp\", encoding='utf-8')\n",
    "\n",
    "\n",
    "columns_to_keep = [\"orig_fid\",\n",
    "                   'SOL_CLAY1',\n",
    "                   'SOL_SILT1',\n",
    "                   'SOL_SAND1',\n",
    "                   'SOL_ROCK1',\n",
    "                    'SOL_BD1',\n",
    "                   'SOL_SOC1']\n",
    "\n",
    "eesti_soil_red1_validatesoil_phys = eesti_soil_red1_validatesoil[columns_to_keep].copy()\n",
    "del(eesti_soil_red1_validatesoil)\n",
    "\n",
    "layer1 = pd.merge(left=layer1, right=eesti_soil_red1_validatesoil_phys, left_on='orig_fid', right_on='orig_fid', how='left')\n",
    "\n",
    "display(layer1.sample(10))\n",
    "display(layer1.dtypes)"
   ]
  },
  {
   "cell_type": "code",
   "execution_count": 22,
   "metadata": {},
   "outputs": [
    {
     "name": "stdout",
     "output_type": "stream",
     "text": [
      "----------------------\n",
      "sand\n"
     ]
    },
    {
     "name": "stderr",
     "output_type": "stream",
     "text": [
      "C:\\dev\\conda3\\envs\\geopy2019\\lib\\site-packages\\ipykernel_launcher.py:23: SettingWithCopyWarning: \n",
      "A value is trying to be set on a copy of a slice from a DataFrame.\n",
      "Try using .loc[row_indexer,col_indexer] = value instead\n",
      "\n",
      "See the caveats in the documentation: http://pandas.pydata.org/pandas-docs/stable/user_guide/indexing.html#returning-a-view-versus-a-copy\n",
      "C:\\dev\\conda3\\envs\\geopy2019\\lib\\site-packages\\ipykernel_launcher.py:24: SettingWithCopyWarning: \n",
      "A value is trying to be set on a copy of a slice from a DataFrame.\n",
      "Try using .loc[row_indexer,col_indexer] = value instead\n",
      "\n",
      "See the caveats in the documentation: http://pandas.pydata.org/pandas-docs/stable/user_guide/indexing.html#returning-a-view-versus-a-copy\n"
     ]
    },
    {
     "data": {
      "text/plain": [
       "count    743803.000000\n",
       "mean         25.110364\n",
       "std          12.477622\n",
       "min           0.000000\n",
       "25%          16.138410\n",
       "50%          28.000000\n",
       "75%          34.000000\n",
       "max          68.000000\n",
       "Name: abs_diff_1_sand, dtype: float64"
      ]
     },
     "metadata": {},
     "output_type": "display_data"
    },
    {
     "data": {
      "text/plain": [
       "count    743803.000000\n",
       "mean          1.315416\n",
       "std           1.026836\n",
       "min           0.000000\n",
       "25%           0.500000\n",
       "50%           1.200000\n",
       "75%           1.892969\n",
       "max          13.000000\n",
       "Name: std_1_sand, dtype: float64"
      ]
     },
     "metadata": {},
     "output_type": "display_data"
    },
    {
     "name": "stdout",
     "output_type": "stream",
     "text": [
      "RMSE: 28.039637216569886  MSE: 786.2212552368511   R2:-0.29180768299342597\n",
      "sand\n",
      "#################\n",
      "----------------------\n",
      "silt\n"
     ]
    },
    {
     "name": "stderr",
     "output_type": "stream",
     "text": [
      "C:\\dev\\conda3\\envs\\geopy2019\\lib\\site-packages\\ipykernel_launcher.py:23: SettingWithCopyWarning: \n",
      "A value is trying to be set on a copy of a slice from a DataFrame.\n",
      "Try using .loc[row_indexer,col_indexer] = value instead\n",
      "\n",
      "See the caveats in the documentation: http://pandas.pydata.org/pandas-docs/stable/user_guide/indexing.html#returning-a-view-versus-a-copy\n",
      "C:\\dev\\conda3\\envs\\geopy2019\\lib\\site-packages\\ipykernel_launcher.py:24: SettingWithCopyWarning: \n",
      "A value is trying to be set on a copy of a slice from a DataFrame.\n",
      "Try using .loc[row_indexer,col_indexer] = value instead\n",
      "\n",
      "See the caveats in the documentation: http://pandas.pydata.org/pandas-docs/stable/user_guide/indexing.html#returning-a-view-versus-a-copy\n"
     ]
    },
    {
     "data": {
      "text/plain": [
       "count    743803.000000\n",
       "mean         18.044737\n",
       "std           9.012108\n",
       "min           0.000000\n",
       "25%          10.666667\n",
       "50%          19.800000\n",
       "75%          25.500000\n",
       "max          43.000000\n",
       "Name: abs_diff_1_silt, dtype: float64"
      ]
     },
     "metadata": {},
     "output_type": "display_data"
    },
    {
     "data": {
      "text/plain": [
       "count    743803.000000\n",
       "mean          1.025800\n",
       "std           0.765938\n",
       "min           0.000000\n",
       "25%           0.500000\n",
       "50%           1.000000\n",
       "75%           1.498298\n",
       "max           9.500000\n",
       "Name: std_1_silt, dtype: float64"
      ]
     },
     "metadata": {},
     "output_type": "display_data"
    },
    {
     "name": "stdout",
     "output_type": "stream",
     "text": [
      "RMSE: 20.170040381067842  MSE: 406.8305289739074   R2:-3.831025968997915\n",
      "silt\n",
      "#################\n",
      "----------------------\n",
      "clay\n"
     ]
    },
    {
     "name": "stderr",
     "output_type": "stream",
     "text": [
      "C:\\dev\\conda3\\envs\\geopy2019\\lib\\site-packages\\ipykernel_launcher.py:23: SettingWithCopyWarning: \n",
      "A value is trying to be set on a copy of a slice from a DataFrame.\n",
      "Try using .loc[row_indexer,col_indexer] = value instead\n",
      "\n",
      "See the caveats in the documentation: http://pandas.pydata.org/pandas-docs/stable/user_guide/indexing.html#returning-a-view-versus-a-copy\n",
      "C:\\dev\\conda3\\envs\\geopy2019\\lib\\site-packages\\ipykernel_launcher.py:24: SettingWithCopyWarning: \n",
      "A value is trying to be set on a copy of a slice from a DataFrame.\n",
      "Try using .loc[row_indexer,col_indexer] = value instead\n",
      "\n",
      "See the caveats in the documentation: http://pandas.pydata.org/pandas-docs/stable/user_guide/indexing.html#returning-a-view-versus-a-copy\n"
     ]
    },
    {
     "data": {
      "text/plain": [
       "count    743803.000000\n",
       "mean         11.736460\n",
       "std          16.872060\n",
       "min           0.000000\n",
       "25%           2.333333\n",
       "50%           4.875000\n",
       "75%           9.368421\n",
       "max          69.000000\n",
       "Name: abs_diff_1_clay, dtype: float64"
      ]
     },
     "metadata": {},
     "output_type": "display_data"
    },
    {
     "data": {
      "text/plain": [
       "count    743803.000000\n",
       "mean          0.751095\n",
       "std           0.573692\n",
       "min           0.000000\n",
       "25%           0.433013\n",
       "50%           0.718022\n",
       "75%           1.089725\n",
       "max           8.621678\n",
       "Name: std_1_clay, dtype: float64"
      ]
     },
     "metadata": {},
     "output_type": "display_data"
    },
    {
     "name": "stdout",
     "output_type": "stream",
     "text": [
      "RMSE: 20.55262815094309  MSE: 422.41052391093837   R2:-0.10733117293775263\n",
      "clay\n",
      "#################\n",
      "----------------------\n",
      "rock\n"
     ]
    },
    {
     "name": "stderr",
     "output_type": "stream",
     "text": [
      "C:\\dev\\conda3\\envs\\geopy2019\\lib\\site-packages\\ipykernel_launcher.py:23: SettingWithCopyWarning: \n",
      "A value is trying to be set on a copy of a slice from a DataFrame.\n",
      "Try using .loc[row_indexer,col_indexer] = value instead\n",
      "\n",
      "See the caveats in the documentation: http://pandas.pydata.org/pandas-docs/stable/user_guide/indexing.html#returning-a-view-versus-a-copy\n",
      "C:\\dev\\conda3\\envs\\geopy2019\\lib\\site-packages\\ipykernel_launcher.py:24: SettingWithCopyWarning: \n",
      "A value is trying to be set on a copy of a slice from a DataFrame.\n",
      "Try using .loc[row_indexer,col_indexer] = value instead\n",
      "\n",
      "See the caveats in the documentation: http://pandas.pydata.org/pandas-docs/stable/user_guide/indexing.html#returning-a-view-versus-a-copy\n"
     ]
    },
    {
     "data": {
      "text/plain": [
       "count    743803.000000\n",
       "mean          8.212309\n",
       "std          10.378328\n",
       "min           0.000000\n",
       "25%           6.000000\n",
       "50%           7.000000\n",
       "75%           8.000000\n",
       "max          81.000000\n",
       "Name: abs_diff_1_rock, dtype: float64"
      ]
     },
     "metadata": {},
     "output_type": "display_data"
    },
    {
     "data": {
      "text/plain": [
       "count    743803.000000\n",
       "mean          0.426706\n",
       "std           0.394317\n",
       "min           0.000000\n",
       "25%           0.000000\n",
       "50%           0.471405\n",
       "75%           0.605693\n",
       "max          10.576133\n",
       "Name: std_1_rock, dtype: float64"
      ]
     },
     "metadata": {},
     "output_type": "display_data"
    },
    {
     "name": "stdout",
     "output_type": "stream",
     "text": [
      "RMSE: 13.234483874059695  MSE: 175.15156341274613   R2:-0.03479984856228113\n",
      "rock\n",
      "#################\n",
      "----------------------\n",
      "bd\n"
     ]
    },
    {
     "name": "stderr",
     "output_type": "stream",
     "text": [
      "C:\\dev\\conda3\\envs\\geopy2019\\lib\\site-packages\\ipykernel_launcher.py:23: SettingWithCopyWarning: \n",
      "A value is trying to be set on a copy of a slice from a DataFrame.\n",
      "Try using .loc[row_indexer,col_indexer] = value instead\n",
      "\n",
      "See the caveats in the documentation: http://pandas.pydata.org/pandas-docs/stable/user_guide/indexing.html#returning-a-view-versus-a-copy\n",
      "C:\\dev\\conda3\\envs\\geopy2019\\lib\\site-packages\\ipykernel_launcher.py:24: SettingWithCopyWarning: \n",
      "A value is trying to be set on a copy of a slice from a DataFrame.\n",
      "Try using .loc[row_indexer,col_indexer] = value instead\n",
      "\n",
      "See the caveats in the documentation: http://pandas.pydata.org/pandas-docs/stable/user_guide/indexing.html#returning-a-view-versus-a-copy\n"
     ]
    },
    {
     "data": {
      "text/plain": [
       "count    743803.000000\n",
       "mean        876.834948\n",
       "std          67.578290\n",
       "min         479.124378\n",
       "25%         830.502818\n",
       "50%         874.727681\n",
       "75%         918.968924\n",
       "max        1225.936022\n",
       "Name: abs_diff_1_bd, dtype: float64"
      ]
     },
     "metadata": {},
     "output_type": "display_data"
    },
    {
     "data": {
      "text/plain": [
       "count    743803.000000\n",
       "mean         17.955545\n",
       "std          14.060575\n",
       "min           0.000000\n",
       "25%           7.292976\n",
       "50%          16.000000\n",
       "75%          26.000000\n",
       "max         189.974971\n",
       "Name: std_1_bd, dtype: float64"
      ]
     },
     "metadata": {},
     "output_type": "display_data"
    },
    {
     "name": "stdout",
     "output_type": "stream",
     "text": [
      "RMSE: 879.4352421211725  MSE: 773406.3450847253   R2:-14185571.920734271\n",
      "bd\n",
      "#################\n",
      "----------------------\n",
      "soc\n"
     ]
    },
    {
     "name": "stderr",
     "output_type": "stream",
     "text": [
      "C:\\dev\\conda3\\envs\\geopy2019\\lib\\site-packages\\ipykernel_launcher.py:23: SettingWithCopyWarning: \n",
      "A value is trying to be set on a copy of a slice from a DataFrame.\n",
      "Try using .loc[row_indexer,col_indexer] = value instead\n",
      "\n",
      "See the caveats in the documentation: http://pandas.pydata.org/pandas-docs/stable/user_guide/indexing.html#returning-a-view-versus-a-copy\n",
      "C:\\dev\\conda3\\envs\\geopy2019\\lib\\site-packages\\ipykernel_launcher.py:24: SettingWithCopyWarning: \n",
      "A value is trying to be set on a copy of a slice from a DataFrame.\n",
      "Try using .loc[row_indexer,col_indexer] = value instead\n",
      "\n",
      "See the caveats in the documentation: http://pandas.pydata.org/pandas-docs/stable/user_guide/indexing.html#returning-a-view-versus-a-copy\n"
     ]
    },
    {
     "data": {
      "text/plain": [
       "count    743803.000000\n",
       "mean         30.265397\n",
       "std           8.472439\n",
       "min           0.003309\n",
       "25%          26.374721\n",
       "50%          31.292323\n",
       "75%          35.917910\n",
       "max          65.994708\n",
       "Name: abs_diff_1_soc, dtype: float64"
      ]
     },
     "metadata": {},
     "output_type": "display_data"
    },
    {
     "data": {
      "text/plain": [
       "count    743803.000000\n",
       "mean          1.366711\n",
       "std           1.094312\n",
       "min           0.000000\n",
       "25%           0.500000\n",
       "50%           1.224745\n",
       "75%           1.986111\n",
       "max          15.478658\n",
       "Name: std_1_soc, dtype: float64"
      ]
     },
     "metadata": {},
     "output_type": "display_data"
    },
    {
     "name": "stdout",
     "output_type": "stream",
     "text": [
      "RMSE: 31.428909966548304  MSE: 987.7763816853992   R2:-18.12815586455163\n",
      "soc\n",
      "#################\n"
     ]
    }
   ],
   "source": [
    "from sklearn.metrics import r2_score, mean_squared_error\n",
    "import matplotlib.pyplot as plt\n",
    "%matplotlib inline\n",
    "\n",
    "import numpy as np\n",
    "from sklearn import datasets, linear_model\n",
    "import math\n",
    "\n",
    "for i in ['SOL_CLAY1',\n",
    "           'SOL_SILT1',\n",
    "           'SOL_SAND1',\n",
    "           'SOL_ROCK1',\n",
    "            'SOL_BD1',\n",
    "           'SOL_SOC1']:\n",
    "    layer1.rename( columns = { i : i.lower()}, inplace=True)\n",
    "\n",
    "for layer in comp_l1.keys():\n",
    "    print('----------------------')\n",
    "    print(layer)\n",
    "    # display(layer1[f\"sol_{layer}1\"].isnull().sum())\n",
    "    # display(layer1[\"mean_1_\" + str(layer)].isnull().sum())\n",
    "    layerT = layer1.dropna()\n",
    "    layerT[\"diff_1_\" + str(layer)] = layerT[f\"sol_{layer}1\"] - layerT[\"mean_1_\" + str(layer)]\n",
    "    layerT[\"abs_diff_1_\" + str(layer)] = layerT[\"diff_1_\" + str(layer)].apply(abs)\n",
    "    display(layerT[\"abs_diff_1_\" + str(layer)].describe())\n",
    "    display(layerT[\"std_1_\" + str(layer)].describe())\n",
    "    # Calculation of Mean Squared Error (MSE) \n",
    "    # RMSE = mean_squared_error(layerT[f\"sol_{layer}1\"].to_numpy(), layerT[\"mean_1_\" + str(layer)].to_numpy(), squared=False)\n",
    "    MSE = mean_squared_error(layerT[f\"sol_{layer}1\"].to_numpy(), layerT[\"mean_1_\" + str(layer)].to_numpy())\n",
    "    r2 = r2_score( layerT[f\"sol_{layer}1\"].to_numpy(), layerT[\"mean_1_\" + str(layer)].to_numpy() )\n",
    "    print(f\"RMSE: {math.sqrt(MSE)}  MSE: {MSE}   R2:{r2}\")\n",
    "    print(layer)\n",
    "    print('#################')\n",
    "    \n",
    "\n",
    "# mean_1_sand     float64\n",
    "# std_1_sand      float64\n",
    "# SOL_SAND1\n",
    "\n",
    "# mean_1_silt     float64\n",
    "# std_1_silt      float64\n",
    "# SOL_SILT1\n",
    "\n",
    "# mean_1_clay     float64\n",
    "# std_1_clay      float64\n",
    "# SOL_CLAY1\n",
    "\n",
    "# mean_1_rock     float64\n",
    "# std_1_rock      float64\n",
    "# SOL_ROCK1 \n",
    "\n",
    "# mean_1_bd       float64\n",
    "# std_1_bd        float64\n",
    "# SOL_BD1\n",
    "\n",
    "# mean_1_soc      float64\n",
    "# std_1_soc       float64\n",
    "# SOL_SOC1  \n",
    "\n",
    "\n"
   ]
  },
  {
   "cell_type": "code",
   "execution_count": 23,
   "metadata": {},
   "outputs": [
    {
     "data": {
      "text/plain": [
       "count    743803.000000\n",
       "mean         25.110364\n",
       "std          12.477622\n",
       "min           0.000000\n",
       "25%          16.138410\n",
       "50%          28.000000\n",
       "75%          34.000000\n",
       "max          68.000000\n",
       "Name: abs_diff_1_sand, dtype: float64"
      ]
     },
     "execution_count": 23,
     "metadata": {},
     "output_type": "execute_result"
    }
   ],
   "source": [
    "layerT[\"abs_diff_1_sand\"].describe()"
   ]
  },
  {
   "cell_type": "code",
   "execution_count": 25,
   "metadata": {},
   "outputs": [
    {
     "data": {
      "text/plain": [
       "count    740380.000000\n",
       "mean         25.011785\n",
       "std          12.415473\n",
       "min           0.000000\n",
       "25%          16.000000\n",
       "50%          28.000000\n",
       "75%          34.000000\n",
       "max          65.000000\n",
       "Name: abs_diff_1_sand, dtype: float64"
      ]
     },
     "execution_count": 25,
     "metadata": {},
     "output_type": "execute_result"
    }
   ],
   "source": [
    "layer_B = layerT[layerT['sol_sand1'] < 100]\n",
    "layer_B[\"abs_diff_1_sand\"].describe()"
   ]
  },
  {
   "cell_type": "code",
   "execution_count": 30,
   "metadata": {},
   "outputs": [
    {
     "data": {
      "text/plain": [
       "orig_fid    0\n",
       "nlayers     0\n",
       "SOL_ZMX     0\n",
       "SOL_Z1      0\n",
       "SOL_Z2      0\n",
       "SOL_Z3      0\n",
       "SOL_Z4      0\n",
       "SOL_AWC1    0\n",
       "SOL_AWC2    0\n",
       "SOL_AWC3    0\n",
       "SOL_AWC4    0\n",
       "AWC_L1      0\n",
       "geometry    0\n",
       "AWC_L2      0\n",
       "AWC_L3      0\n",
       "AWC_L4      0\n",
       "AWC_L5      0\n",
       "AWC_L6      0\n",
       "AWC_L7      0\n",
       "dtype: int64"
      ]
     },
     "metadata": {},
     "output_type": "display_data"
    },
    {
     "data": {
      "text/html": [
       "<div>\n",
       "<style scoped>\n",
       "    .dataframe tbody tr th:only-of-type {\n",
       "        vertical-align: middle;\n",
       "    }\n",
       "\n",
       "    .dataframe tbody tr th {\n",
       "        vertical-align: top;\n",
       "    }\n",
       "\n",
       "    .dataframe thead th {\n",
       "        text-align: right;\n",
       "    }\n",
       "</style>\n",
       "<table border=\"1\" class=\"dataframe\">\n",
       "  <thead>\n",
       "    <tr style=\"text-align: right;\">\n",
       "      <th></th>\n",
       "      <th>orig_fid</th>\n",
       "      <th>nlayers</th>\n",
       "      <th>SOL_ZMX</th>\n",
       "      <th>SOL_Z1</th>\n",
       "      <th>SOL_Z2</th>\n",
       "      <th>SOL_Z3</th>\n",
       "      <th>SOL_Z4</th>\n",
       "      <th>SOL_AWC1</th>\n",
       "      <th>SOL_AWC2</th>\n",
       "      <th>SOL_AWC3</th>\n",
       "      <th>SOL_AWC4</th>\n",
       "      <th>AWC_L1</th>\n",
       "      <th>geometry</th>\n",
       "      <th>AWC_L2</th>\n",
       "      <th>AWC_L3</th>\n",
       "      <th>AWC_L4</th>\n",
       "      <th>AWC_L5</th>\n",
       "      <th>AWC_L6</th>\n",
       "      <th>AWC_L7</th>\n",
       "    </tr>\n",
       "  </thead>\n",
       "  <tbody>\n",
       "  </tbody>\n",
       "</table>\n",
       "</div>"
      ],
      "text/plain": [
       "Empty GeoDataFrame\n",
       "Columns: [orig_fid, nlayers, SOL_ZMX, SOL_Z1, SOL_Z2, SOL_Z3, SOL_Z4, SOL_AWC1, SOL_AWC2, SOL_AWC3, SOL_AWC4, AWC_L1, geometry, AWC_L2, AWC_L3, AWC_L4, AWC_L5, AWC_L6, AWC_L7]\n",
       "Index: []"
      ]
     },
     "metadata": {},
     "output_type": "display_data"
    }
   ],
   "source": [
    "display(layer1.isnull().sum())\n",
    "\n",
    "display(layer1.loc[layer1['AWC_L7'].isnull()])"
   ]
  },
  {
   "cell_type": "code",
   "execution_count": 29,
   "metadata": {},
   "outputs": [
    {
     "data": {
      "text/plain": [
       "'found 14527, take 14525'"
      ]
     },
     "metadata": {},
     "output_type": "display_data"
    },
    {
     "data": {
      "text/plain": [
       "'found nan, put 18.333333333333332'"
      ]
     },
     "metadata": {},
     "output_type": "display_data"
    },
    {
     "data": {
      "text/plain": [
       "'found 14528, take 14526'"
      ]
     },
     "metadata": {},
     "output_type": "display_data"
    },
    {
     "data": {
      "text/plain": [
       "'found nan, put 18.5'"
      ]
     },
     "metadata": {},
     "output_type": "display_data"
    },
    {
     "data": {
      "text/plain": [
       "'found 14564, take 14562'"
      ]
     },
     "metadata": {},
     "output_type": "display_data"
    },
    {
     "data": {
      "text/plain": [
       "'found nan, put 18.666666666666668'"
      ]
     },
     "metadata": {},
     "output_type": "display_data"
    },
    {
     "data": {
      "text/plain": [
       "'found 14594, take 14592'"
      ]
     },
     "metadata": {},
     "output_type": "display_data"
    },
    {
     "data": {
      "text/plain": [
       "'found nan, put 20.0'"
      ]
     },
     "metadata": {},
     "output_type": "display_data"
    },
    {
     "data": {
      "text/plain": [
       "'found 14595, take 14593'"
      ]
     },
     "metadata": {},
     "output_type": "display_data"
    },
    {
     "data": {
      "text/plain": [
       "'found nan, put 20.0'"
      ]
     },
     "metadata": {},
     "output_type": "display_data"
    },
    {
     "data": {
      "text/plain": [
       "'found 14596, take 14594'"
      ]
     },
     "metadata": {},
     "output_type": "display_data"
    },
    {
     "data": {
      "text/plain": [
       "'found nan, put 20.0'"
      ]
     },
     "metadata": {},
     "output_type": "display_data"
    },
    {
     "data": {
      "text/plain": [
       "'found 14597, take 14595'"
      ]
     },
     "metadata": {},
     "output_type": "display_data"
    },
    {
     "data": {
      "text/plain": [
       "'found nan, put 20.0'"
      ]
     },
     "metadata": {},
     "output_type": "display_data"
    },
    {
     "data": {
      "text/plain": [
       "'found 14598, take 14596'"
      ]
     },
     "metadata": {},
     "output_type": "display_data"
    },
    {
     "data": {
      "text/plain": [
       "'found nan, put 20.0'"
      ]
     },
     "metadata": {},
     "output_type": "display_data"
    },
    {
     "data": {
      "text/plain": [
       "'found 14599, take 14597'"
      ]
     },
     "metadata": {},
     "output_type": "display_data"
    },
    {
     "data": {
      "text/plain": [
       "'found nan, put 20.0'"
      ]
     },
     "metadata": {},
     "output_type": "display_data"
    },
    {
     "data": {
      "text/plain": [
       "'found 14600, take 14598'"
      ]
     },
     "metadata": {},
     "output_type": "display_data"
    },
    {
     "data": {
      "text/plain": [
       "'found nan, put 20.0'"
      ]
     },
     "metadata": {},
     "output_type": "display_data"
    },
    {
     "data": {
      "text/plain": [
       "'found 14685, take 14683'"
      ]
     },
     "metadata": {},
     "output_type": "display_data"
    },
    {
     "data": {
      "text/plain": [
       "'found nan, put 19.0'"
      ]
     },
     "metadata": {},
     "output_type": "display_data"
    },
    {
     "data": {
      "text/plain": [
       "'found 14688, take 14686'"
      ]
     },
     "metadata": {},
     "output_type": "display_data"
    },
    {
     "data": {
      "text/plain": [
       "'found nan, put 20.0'"
      ]
     },
     "metadata": {},
     "output_type": "display_data"
    },
    {
     "data": {
      "text/plain": [
       "'found 14689, take 14687'"
      ]
     },
     "metadata": {},
     "output_type": "display_data"
    },
    {
     "data": {
      "text/plain": [
       "'found nan, put 20.0'"
      ]
     },
     "metadata": {},
     "output_type": "display_data"
    },
    {
     "data": {
      "text/plain": [
       "'found 14712, take 14710'"
      ]
     },
     "metadata": {},
     "output_type": "display_data"
    },
    {
     "data": {
      "text/plain": [
       "'found nan, put 19.75'"
      ]
     },
     "metadata": {},
     "output_type": "display_data"
    },
    {
     "data": {
      "text/plain": [
       "'found 14748, take 14746'"
      ]
     },
     "metadata": {},
     "output_type": "display_data"
    },
    {
     "data": {
      "text/plain": [
       "'found nan, put 18.333333333333332'"
      ]
     },
     "metadata": {},
     "output_type": "display_data"
    },
    {
     "data": {
      "text/plain": [
       "'found 14753, take 14751'"
      ]
     },
     "metadata": {},
     "output_type": "display_data"
    },
    {
     "data": {
      "text/plain": [
       "'found nan, put 18.875'"
      ]
     },
     "metadata": {},
     "output_type": "display_data"
    },
    {
     "data": {
      "text/plain": [
       "'found 14758, take 14756'"
      ]
     },
     "metadata": {},
     "output_type": "display_data"
    },
    {
     "data": {
      "text/plain": [
       "'found nan, put 19.0'"
      ]
     },
     "metadata": {},
     "output_type": "display_data"
    },
    {
     "data": {
      "text/plain": [
       "'found 14808, take 14806'"
      ]
     },
     "metadata": {},
     "output_type": "display_data"
    },
    {
     "data": {
      "text/plain": [
       "'found nan, put 18.75'"
      ]
     },
     "metadata": {},
     "output_type": "display_data"
    },
    {
     "data": {
      "text/plain": [
       "'found 14884, take 14882'"
      ]
     },
     "metadata": {},
     "output_type": "display_data"
    },
    {
     "data": {
      "text/plain": [
       "'found nan, put 20.0'"
      ]
     },
     "metadata": {},
     "output_type": "display_data"
    },
    {
     "data": {
      "text/plain": [
       "'found 14903, take 14901'"
      ]
     },
     "metadata": {},
     "output_type": "display_data"
    },
    {
     "data": {
      "text/plain": [
       "'found nan, put 20.0'"
      ]
     },
     "metadata": {},
     "output_type": "display_data"
    },
    {
     "data": {
      "text/plain": [
       "'found 14939, take 14937'"
      ]
     },
     "metadata": {},
     "output_type": "display_data"
    },
    {
     "data": {
      "text/plain": [
       "'found nan, put 19.0'"
      ]
     },
     "metadata": {},
     "output_type": "display_data"
    },
    {
     "data": {
      "text/plain": [
       "'found 14954, take 14952'"
      ]
     },
     "metadata": {},
     "output_type": "display_data"
    },
    {
     "data": {
      "text/plain": [
       "'found nan, put 20.0'"
      ]
     },
     "metadata": {},
     "output_type": "display_data"
    },
    {
     "data": {
      "text/plain": [
       "'found 14988, take 14986'"
      ]
     },
     "metadata": {},
     "output_type": "display_data"
    },
    {
     "data": {
      "text/plain": [
       "'found 20.5, put 19.142857142857142'"
      ]
     },
     "metadata": {},
     "output_type": "display_data"
    },
    {
     "data": {
      "text/plain": [
       "'found 15003, take 15001'"
      ]
     },
     "metadata": {},
     "output_type": "display_data"
    },
    {
     "data": {
      "text/plain": [
       "'found 21.0, put 18.956521739130434'"
      ]
     },
     "metadata": {},
     "output_type": "display_data"
    },
    {
     "data": {
      "text/plain": [
       "'found 15029, take 15027'"
      ]
     },
     "metadata": {},
     "output_type": "display_data"
    },
    {
     "data": {
      "text/plain": [
       "'found nan, put 19.0'"
      ]
     },
     "metadata": {},
     "output_type": "display_data"
    },
    {
     "data": {
      "text/plain": [
       "'found 15030, take 15028'"
      ]
     },
     "metadata": {},
     "output_type": "display_data"
    },
    {
     "data": {
      "text/plain": [
       "'found nan, put 19.0'"
      ]
     },
     "metadata": {},
     "output_type": "display_data"
    },
    {
     "data": {
      "text/plain": [
       "'found 15033, take 15031'"
      ]
     },
     "metadata": {},
     "output_type": "display_data"
    },
    {
     "data": {
      "text/plain": [
       "'found nan, put 19.0'"
      ]
     },
     "metadata": {},
     "output_type": "display_data"
    },
    {
     "data": {
      "text/plain": [
       "'found 15055, take 15053'"
      ]
     },
     "metadata": {},
     "output_type": "display_data"
    },
    {
     "data": {
      "text/plain": [
       "'found nan, put 18.0'"
      ]
     },
     "metadata": {},
     "output_type": "display_data"
    },
    {
     "data": {
      "text/plain": [
       "'found 15102, take 15100'"
      ]
     },
     "metadata": {},
     "output_type": "display_data"
    },
    {
     "data": {
      "text/plain": [
       "'found nan, put 19.0'"
      ]
     },
     "metadata": {},
     "output_type": "display_data"
    },
    {
     "data": {
      "text/plain": [
       "'found 15103, take 15101'"
      ]
     },
     "metadata": {},
     "output_type": "display_data"
    },
    {
     "data": {
      "text/plain": [
       "'found nan, put 19.166666666666668'"
      ]
     },
     "metadata": {},
     "output_type": "display_data"
    },
    {
     "data": {
      "text/plain": [
       "'found 15126, take 15124'"
      ]
     },
     "metadata": {},
     "output_type": "display_data"
    },
    {
     "data": {
      "text/plain": [
       "'found nan, put 19.5'"
      ]
     },
     "metadata": {},
     "output_type": "display_data"
    },
    {
     "data": {
      "text/plain": [
       "'found 15130, take 15128'"
      ]
     },
     "metadata": {},
     "output_type": "display_data"
    },
    {
     "data": {
      "text/plain": [
       "'found nan, put 19.0'"
      ]
     },
     "metadata": {},
     "output_type": "display_data"
    },
    {
     "data": {
      "text/plain": [
       "'found 15152, take 15150'"
      ]
     },
     "metadata": {},
     "output_type": "display_data"
    },
    {
     "data": {
      "text/plain": [
       "'found nan, put 18.4'"
      ]
     },
     "metadata": {},
     "output_type": "display_data"
    },
    {
     "data": {
      "text/plain": [
       "'found 15157, take 15155'"
      ]
     },
     "metadata": {},
     "output_type": "display_data"
    },
    {
     "data": {
      "text/plain": [
       "'found nan, put 19.0'"
      ]
     },
     "metadata": {},
     "output_type": "display_data"
    },
    {
     "data": {
      "text/plain": [
       "'found 15273, take 15271'"
      ]
     },
     "metadata": {},
     "output_type": "display_data"
    },
    {
     "data": {
      "text/plain": [
       "'found nan, put 19.0'"
      ]
     },
     "metadata": {},
     "output_type": "display_data"
    },
    {
     "data": {
      "text/plain": [
       "'found 15325, take 15323'"
      ]
     },
     "metadata": {},
     "output_type": "display_data"
    },
    {
     "data": {
      "text/plain": [
       "'found nan, put 19.5'"
      ]
     },
     "metadata": {},
     "output_type": "display_data"
    },
    {
     "data": {
      "text/plain": [
       "'found 15348, take 15346'"
      ]
     },
     "metadata": {},
     "output_type": "display_data"
    },
    {
     "data": {
      "text/plain": [
       "'found nan, put 19.727272727272727'"
      ]
     },
     "metadata": {},
     "output_type": "display_data"
    },
    {
     "data": {
      "text/plain": [
       "'found 15352, take 15350'"
      ]
     },
     "metadata": {},
     "output_type": "display_data"
    },
    {
     "data": {
      "text/plain": [
       "'found nan, put 20.0'"
      ]
     },
     "metadata": {},
     "output_type": "display_data"
    },
    {
     "data": {
      "text/plain": [
       "'found 15363, take 15361'"
      ]
     },
     "metadata": {},
     "output_type": "display_data"
    },
    {
     "data": {
      "text/plain": [
       "'found nan, put 19.666666666666668'"
      ]
     },
     "metadata": {},
     "output_type": "display_data"
    },
    {
     "data": {
      "text/plain": [
       "'found 15364, take 15362'"
      ]
     },
     "metadata": {},
     "output_type": "display_data"
    },
    {
     "data": {
      "text/plain": [
       "'found nan, put 19.666666666666668'"
      ]
     },
     "metadata": {},
     "output_type": "display_data"
    },
    {
     "data": {
      "text/plain": [
       "'found 15397, take 15395'"
      ]
     },
     "metadata": {},
     "output_type": "display_data"
    },
    {
     "data": {
      "text/plain": [
       "'found nan, put 19.0'"
      ]
     },
     "metadata": {},
     "output_type": "display_data"
    },
    {
     "data": {
      "text/plain": [
       "'found 15398, take 15396'"
      ]
     },
     "metadata": {},
     "output_type": "display_data"
    },
    {
     "data": {
      "text/plain": [
       "'found nan, put 19.0'"
      ]
     },
     "metadata": {},
     "output_type": "display_data"
    },
    {
     "data": {
      "text/plain": [
       "'found 15399, take 15397'"
      ]
     },
     "metadata": {},
     "output_type": "display_data"
    },
    {
     "data": {
      "text/plain": [
       "'found nan, put 19.0'"
      ]
     },
     "metadata": {},
     "output_type": "display_data"
    },
    {
     "data": {
      "text/plain": [
       "'found 15433, take 15431'"
      ]
     },
     "metadata": {},
     "output_type": "display_data"
    },
    {
     "data": {
      "text/plain": [
       "'found nan, put 18.666666666666668'"
      ]
     },
     "metadata": {},
     "output_type": "display_data"
    },
    {
     "data": {
      "text/plain": [
       "'found 15434, take 15432'"
      ]
     },
     "metadata": {},
     "output_type": "display_data"
    },
    {
     "data": {
      "text/plain": [
       "'found nan, put 18.0'"
      ]
     },
     "metadata": {},
     "output_type": "display_data"
    },
    {
     "data": {
      "text/plain": [
       "'found 15435, take 15433'"
      ]
     },
     "metadata": {},
     "output_type": "display_data"
    },
    {
     "data": {
      "text/plain": [
       "'found nan, put 18.666666666666668'"
      ]
     },
     "metadata": {},
     "output_type": "display_data"
    },
    {
     "data": {
      "text/plain": [
       "'found 15508, take 15506'"
      ]
     },
     "metadata": {},
     "output_type": "display_data"
    },
    {
     "data": {
      "text/plain": [
       "'found nan, put 18.5'"
      ]
     },
     "metadata": {},
     "output_type": "display_data"
    },
    {
     "data": {
      "text/plain": [
       "'found 15590, take 15588'"
      ]
     },
     "metadata": {},
     "output_type": "display_data"
    },
    {
     "data": {
      "text/plain": [
       "'found nan, put 19.0'"
      ]
     },
     "metadata": {},
     "output_type": "display_data"
    },
    {
     "data": {
      "text/plain": [
       "'found 15619, take 15617'"
      ]
     },
     "metadata": {},
     "output_type": "display_data"
    },
    {
     "data": {
      "text/plain": [
       "'found nan, put 19.5'"
      ]
     },
     "metadata": {},
     "output_type": "display_data"
    },
    {
     "data": {
      "text/plain": [
       "'found 15631, take 15629'"
      ]
     },
     "metadata": {},
     "output_type": "display_data"
    },
    {
     "data": {
      "text/plain": [
       "'found nan, put 19.5'"
      ]
     },
     "metadata": {},
     "output_type": "display_data"
    },
    {
     "data": {
      "text/plain": [
       "'found 15736, take 15734'"
      ]
     },
     "metadata": {},
     "output_type": "display_data"
    },
    {
     "data": {
      "text/plain": [
       "'found nan, put 19.0'"
      ]
     },
     "metadata": {},
     "output_type": "display_data"
    },
    {
     "data": {
      "text/plain": [
       "'found 15745, take 15743'"
      ]
     },
     "metadata": {},
     "output_type": "display_data"
    },
    {
     "data": {
      "text/plain": [
       "'found nan, put 20.0'"
      ]
     },
     "metadata": {},
     "output_type": "display_data"
    },
    {
     "data": {
      "text/plain": [
       "'found 15763, take 15761'"
      ]
     },
     "metadata": {},
     "output_type": "display_data"
    },
    {
     "data": {
      "text/plain": [
       "'found nan, put 18.333333333333332'"
      ]
     },
     "metadata": {},
     "output_type": "display_data"
    },
    {
     "data": {
      "text/plain": [
       "'found 15907, take 15905'"
      ]
     },
     "metadata": {},
     "output_type": "display_data"
    },
    {
     "data": {
      "text/plain": [
       "'found nan, put 19.2'"
      ]
     },
     "metadata": {},
     "output_type": "display_data"
    },
    {
     "data": {
      "text/plain": [
       "'found 16133, take 16131'"
      ]
     },
     "metadata": {},
     "output_type": "display_data"
    },
    {
     "data": {
      "text/plain": [
       "'found nan, put 19.0'"
      ]
     },
     "metadata": {},
     "output_type": "display_data"
    },
    {
     "data": {
      "text/plain": [
       "'found 16134, take 16132'"
      ]
     },
     "metadata": {},
     "output_type": "display_data"
    },
    {
     "data": {
      "text/plain": [
       "'found nan, put 20.0'"
      ]
     },
     "metadata": {},
     "output_type": "display_data"
    },
    {
     "data": {
      "text/plain": [
       "'found 16135, take 16133'"
      ]
     },
     "metadata": {},
     "output_type": "display_data"
    },
    {
     "data": {
      "text/plain": [
       "'found nan, put 19.0'"
      ]
     },
     "metadata": {},
     "output_type": "display_data"
    },
    {
     "data": {
      "text/plain": [
       "'found 16136, take 16134'"
      ]
     },
     "metadata": {},
     "output_type": "display_data"
    },
    {
     "data": {
      "text/plain": [
       "'found nan, put 20.0'"
      ]
     },
     "metadata": {},
     "output_type": "display_data"
    },
    {
     "data": {
      "text/plain": [
       "'found 16137, take 16135'"
      ]
     },
     "metadata": {},
     "output_type": "display_data"
    },
    {
     "data": {
      "text/plain": [
       "'found nan, put 19.0'"
      ]
     },
     "metadata": {},
     "output_type": "display_data"
    },
    {
     "data": {
      "text/plain": [
       "'found 16138, take 16136'"
      ]
     },
     "metadata": {},
     "output_type": "display_data"
    },
    {
     "data": {
      "text/plain": [
       "'found nan, put 20.0'"
      ]
     },
     "metadata": {},
     "output_type": "display_data"
    },
    {
     "data": {
      "text/plain": [
       "'found 16174, take 16172'"
      ]
     },
     "metadata": {},
     "output_type": "display_data"
    },
    {
     "data": {
      "text/plain": [
       "'found nan, put 18.846153846153847'"
      ]
     },
     "metadata": {},
     "output_type": "display_data"
    },
    {
     "data": {
      "text/plain": [
       "'found 16183, take 16181'"
      ]
     },
     "metadata": {},
     "output_type": "display_data"
    },
    {
     "data": {
      "text/plain": [
       "'found nan, put 20.5'"
      ]
     },
     "metadata": {},
     "output_type": "display_data"
    },
    {
     "data": {
      "text/plain": [
       "'found 16184, take 16182'"
      ]
     },
     "metadata": {},
     "output_type": "display_data"
    },
    {
     "data": {
      "text/plain": [
       "'found nan, put 18.25'"
      ]
     },
     "metadata": {},
     "output_type": "display_data"
    },
    {
     "data": {
      "text/plain": [
       "'found 16185, take 16183'"
      ]
     },
     "metadata": {},
     "output_type": "display_data"
    },
    {
     "data": {
      "text/plain": [
       "'found nan, put 20.5'"
      ]
     },
     "metadata": {},
     "output_type": "display_data"
    },
    {
     "data": {
      "text/plain": [
       "'found 16186, take 16184'"
      ]
     },
     "metadata": {},
     "output_type": "display_data"
    },
    {
     "data": {
      "text/plain": [
       "'found nan, put 18.25'"
      ]
     },
     "metadata": {},
     "output_type": "display_data"
    },
    {
     "data": {
      "text/plain": [
       "'found 16243, take 16241'"
      ]
     },
     "metadata": {},
     "output_type": "display_data"
    },
    {
     "data": {
      "text/plain": [
       "'found nan, put 20.0'"
      ]
     },
     "metadata": {},
     "output_type": "display_data"
    },
    {
     "data": {
      "text/plain": [
       "'found 16244, take 16242'"
      ]
     },
     "metadata": {},
     "output_type": "display_data"
    },
    {
     "data": {
      "text/plain": [
       "'found nan, put 20.0'"
      ]
     },
     "metadata": {},
     "output_type": "display_data"
    },
    {
     "data": {
      "text/plain": [
       "'found 16325, take 16323'"
      ]
     },
     "metadata": {},
     "output_type": "display_data"
    },
    {
     "data": {
      "text/plain": [
       "'found nan, put 19.0'"
      ]
     },
     "metadata": {},
     "output_type": "display_data"
    },
    {
     "data": {
      "text/plain": [
       "'found 16326, take 16324'"
      ]
     },
     "metadata": {},
     "output_type": "display_data"
    },
    {
     "data": {
      "text/plain": [
       "'found nan, put 19.0'"
      ]
     },
     "metadata": {},
     "output_type": "display_data"
    },
    {
     "data": {
      "text/plain": [
       "'found 16327, take 16325'"
      ]
     },
     "metadata": {},
     "output_type": "display_data"
    },
    {
     "data": {
      "text/plain": [
       "'found nan, put 19.0'"
      ]
     },
     "metadata": {},
     "output_type": "display_data"
    },
    {
     "data": {
      "text/plain": [
       "'found 16336, take 16334'"
      ]
     },
     "metadata": {},
     "output_type": "display_data"
    },
    {
     "data": {
      "text/plain": [
       "'found nan, put 19.0'"
      ]
     },
     "metadata": {},
     "output_type": "display_data"
    },
    {
     "data": {
      "text/plain": [
       "'found 16372, take 16370'"
      ]
     },
     "metadata": {},
     "output_type": "display_data"
    },
    {
     "data": {
      "text/plain": [
       "'found nan, put 19.25'"
      ]
     },
     "metadata": {},
     "output_type": "display_data"
    },
    {
     "data": {
      "text/plain": [
       "'found 16427, take 16425'"
      ]
     },
     "metadata": {},
     "output_type": "display_data"
    },
    {
     "data": {
      "text/plain": [
       "'found nan, put 19.25'"
      ]
     },
     "metadata": {},
     "output_type": "display_data"
    },
    {
     "data": {
      "text/plain": [
       "'found 16428, take 16426'"
      ]
     },
     "metadata": {},
     "output_type": "display_data"
    },
    {
     "data": {
      "text/plain": [
       "'found nan, put 20.11111111111111'"
      ]
     },
     "metadata": {},
     "output_type": "display_data"
    },
    {
     "data": {
      "text/plain": [
       "'found 16457, take 16455'"
      ]
     },
     "metadata": {},
     "output_type": "display_data"
    },
    {
     "data": {
      "text/plain": [
       "'found nan, put 19.0'"
      ]
     },
     "metadata": {},
     "output_type": "display_data"
    },
    {
     "data": {
      "text/plain": [
       "'found 16477, take 16475'"
      ]
     },
     "metadata": {},
     "output_type": "display_data"
    },
    {
     "data": {
      "text/plain": [
       "'found nan, put 19.0'"
      ]
     },
     "metadata": {},
     "output_type": "display_data"
    },
    {
     "data": {
      "text/plain": [
       "'found 16478, take 16476'"
      ]
     },
     "metadata": {},
     "output_type": "display_data"
    },
    {
     "data": {
      "text/plain": [
       "'found nan, put 18.25'"
      ]
     },
     "metadata": {},
     "output_type": "display_data"
    },
    {
     "data": {
      "text/plain": [
       "'found 16479, take 16477'"
      ]
     },
     "metadata": {},
     "output_type": "display_data"
    },
    {
     "data": {
      "text/plain": [
       "'found nan, put 19.0'"
      ]
     },
     "metadata": {},
     "output_type": "display_data"
    },
    {
     "data": {
      "text/plain": [
       "'found 16507, take 16505'"
      ]
     },
     "metadata": {},
     "output_type": "display_data"
    },
    {
     "data": {
      "text/plain": [
       "'found nan, put 18.666666666666668'"
      ]
     },
     "metadata": {},
     "output_type": "display_data"
    },
    {
     "data": {
      "text/plain": [
       "'found 16541, take 16539'"
      ]
     },
     "metadata": {},
     "output_type": "display_data"
    },
    {
     "data": {
      "text/plain": [
       "'found nan, put 20.0'"
      ]
     },
     "metadata": {},
     "output_type": "display_data"
    },
    {
     "data": {
      "text/plain": [
       "'found 16542, take 16540'"
      ]
     },
     "metadata": {},
     "output_type": "display_data"
    },
    {
     "data": {
      "text/plain": [
       "'found nan, put 20.0'"
      ]
     },
     "metadata": {},
     "output_type": "display_data"
    },
    {
     "data": {
      "text/plain": [
       "'found 16543, take 16541'"
      ]
     },
     "metadata": {},
     "output_type": "display_data"
    },
    {
     "data": {
      "text/plain": [
       "'found nan, put 20.0'"
      ]
     },
     "metadata": {},
     "output_type": "display_data"
    },
    {
     "data": {
      "text/plain": [
       "'found 16544, take 16542'"
      ]
     },
     "metadata": {},
     "output_type": "display_data"
    },
    {
     "data": {
      "text/plain": [
       "'found nan, put 20.0'"
      ]
     },
     "metadata": {},
     "output_type": "display_data"
    },
    {
     "data": {
      "text/plain": [
       "'found 16545, take 16543'"
      ]
     },
     "metadata": {},
     "output_type": "display_data"
    },
    {
     "data": {
      "text/plain": [
       "'found nan, put 20.0'"
      ]
     },
     "metadata": {},
     "output_type": "display_data"
    },
    {
     "data": {
      "text/plain": [
       "'found 16546, take 16544'"
      ]
     },
     "metadata": {},
     "output_type": "display_data"
    },
    {
     "data": {
      "text/plain": [
       "'found nan, put 20.0'"
      ]
     },
     "metadata": {},
     "output_type": "display_data"
    },
    {
     "data": {
      "text/plain": [
       "'found 16547, take 16545'"
      ]
     },
     "metadata": {},
     "output_type": "display_data"
    },
    {
     "data": {
      "text/plain": [
       "'found nan, put 20.0'"
      ]
     },
     "metadata": {},
     "output_type": "display_data"
    },
    {
     "data": {
      "text/plain": [
       "'found 16660, take 16658'"
      ]
     },
     "metadata": {},
     "output_type": "display_data"
    },
    {
     "data": {
      "text/plain": [
       "'found nan, put 19.75'"
      ]
     },
     "metadata": {},
     "output_type": "display_data"
    },
    {
     "data": {
      "text/plain": [
       "'found 16670, take 16668'"
      ]
     },
     "metadata": {},
     "output_type": "display_data"
    },
    {
     "data": {
      "text/plain": [
       "'found nan, put 19.0'"
      ]
     },
     "metadata": {},
     "output_type": "display_data"
    },
    {
     "data": {
      "text/plain": [
       "'found 16677, take 16675'"
      ]
     },
     "metadata": {},
     "output_type": "display_data"
    },
    {
     "data": {
      "text/plain": [
       "'found nan, put 19.8'"
      ]
     },
     "metadata": {},
     "output_type": "display_data"
    },
    {
     "data": {
      "text/plain": [
       "'found 16699, take 16697'"
      ]
     },
     "metadata": {},
     "output_type": "display_data"
    },
    {
     "data": {
      "text/plain": [
       "'found nan, put 19.0'"
      ]
     },
     "metadata": {},
     "output_type": "display_data"
    },
    {
     "data": {
      "text/plain": [
       "'found 16700, take 16698'"
      ]
     },
     "metadata": {},
     "output_type": "display_data"
    },
    {
     "data": {
      "text/plain": [
       "'found nan, put 19.0'"
      ]
     },
     "metadata": {},
     "output_type": "display_data"
    },
    {
     "data": {
      "text/plain": [
       "'found 16726, take 16724'"
      ]
     },
     "metadata": {},
     "output_type": "display_data"
    },
    {
     "data": {
      "text/plain": [
       "'found nan, put 18.75'"
      ]
     },
     "metadata": {},
     "output_type": "display_data"
    },
    {
     "data": {
      "text/plain": [
       "'found 16727, take 16725'"
      ]
     },
     "metadata": {},
     "output_type": "display_data"
    },
    {
     "data": {
      "text/plain": [
       "'found nan, put 18.272727272727273'"
      ]
     },
     "metadata": {},
     "output_type": "display_data"
    },
    {
     "data": {
      "text/plain": [
       "'found 16843, take 16841'"
      ]
     },
     "metadata": {},
     "output_type": "display_data"
    },
    {
     "data": {
      "text/plain": [
       "'found nan, put 19.0'"
      ]
     },
     "metadata": {},
     "output_type": "display_data"
    },
    {
     "data": {
      "text/plain": [
       "'found 16853, take 16851'"
      ]
     },
     "metadata": {},
     "output_type": "display_data"
    },
    {
     "data": {
      "text/plain": [
       "'found nan, put 20.0'"
      ]
     },
     "metadata": {},
     "output_type": "display_data"
    },
    {
     "data": {
      "text/plain": [
       "'found 16907, take 16905'"
      ]
     },
     "metadata": {},
     "output_type": "display_data"
    },
    {
     "data": {
      "text/plain": [
       "'found nan, put 19.2'"
      ]
     },
     "metadata": {},
     "output_type": "display_data"
    },
    {
     "data": {
      "text/plain": [
       "'found 16986, take 16984'"
      ]
     },
     "metadata": {},
     "output_type": "display_data"
    },
    {
     "data": {
      "text/plain": [
       "'found nan, put 20.0'"
      ]
     },
     "metadata": {},
     "output_type": "display_data"
    },
    {
     "data": {
      "text/plain": [
       "'found 16987, take 16985'"
      ]
     },
     "metadata": {},
     "output_type": "display_data"
    },
    {
     "data": {
      "text/plain": [
       "'found nan, put 19.0'"
      ]
     },
     "metadata": {},
     "output_type": "display_data"
    },
    {
     "data": {
      "text/plain": [
       "'found 16988, take 16986'"
      ]
     },
     "metadata": {},
     "output_type": "display_data"
    },
    {
     "data": {
      "text/plain": [
       "'found nan, put 20.0'"
      ]
     },
     "metadata": {},
     "output_type": "display_data"
    },
    {
     "data": {
      "text/plain": [
       "'found 17027, take 17025'"
      ]
     },
     "metadata": {},
     "output_type": "display_data"
    },
    {
     "data": {
      "text/plain": [
       "'found nan, put 19.0'"
      ]
     },
     "metadata": {},
     "output_type": "display_data"
    },
    {
     "data": {
      "text/plain": [
       "'found 17028, take 17026'"
      ]
     },
     "metadata": {},
     "output_type": "display_data"
    },
    {
     "data": {
      "text/plain": [
       "'found nan, put 18.785714285714285'"
      ]
     },
     "metadata": {},
     "output_type": "display_data"
    },
    {
     "data": {
      "text/plain": [
       "'found 17029, take 17027'"
      ]
     },
     "metadata": {},
     "output_type": "display_data"
    },
    {
     "data": {
      "text/plain": [
       "'found nan, put 19.0'"
      ]
     },
     "metadata": {},
     "output_type": "display_data"
    },
    {
     "data": {
      "text/plain": [
       "'found 17030, take 17028'"
      ]
     },
     "metadata": {},
     "output_type": "display_data"
    },
    {
     "data": {
      "text/plain": [
       "'found nan, put 18.785714285714285'"
      ]
     },
     "metadata": {},
     "output_type": "display_data"
    },
    {
     "data": {
      "text/plain": [
       "'found 17122, take 17120'"
      ]
     },
     "metadata": {},
     "output_type": "display_data"
    },
    {
     "data": {
      "text/plain": [
       "'found nan, put 18.0'"
      ]
     },
     "metadata": {},
     "output_type": "display_data"
    },
    {
     "data": {
      "text/plain": [
       "'found 17123, take 17121'"
      ]
     },
     "metadata": {},
     "output_type": "display_data"
    },
    {
     "data": {
      "text/plain": [
       "'found nan, put 19.0'"
      ]
     },
     "metadata": {},
     "output_type": "display_data"
    },
    {
     "data": {
      "text/plain": [
       "'found 17127, take 17125'"
      ]
     },
     "metadata": {},
     "output_type": "display_data"
    },
    {
     "data": {
      "text/plain": [
       "'found nan, put 18.25'"
      ]
     },
     "metadata": {},
     "output_type": "display_data"
    },
    {
     "data": {
      "text/plain": [
       "'found 17128, take 17126'"
      ]
     },
     "metadata": {},
     "output_type": "display_data"
    },
    {
     "data": {
      "text/plain": [
       "'found nan, put 18.166666666666668'"
      ]
     },
     "metadata": {},
     "output_type": "display_data"
    },
    {
     "data": {
      "text/plain": [
       "'found 17286, take 17284'"
      ]
     },
     "metadata": {},
     "output_type": "display_data"
    },
    {
     "data": {
      "text/plain": [
       "'found nan, put 19.0'"
      ]
     },
     "metadata": {},
     "output_type": "display_data"
    },
    {
     "data": {
      "text/plain": [
       "'found 17289, take 17287'"
      ]
     },
     "metadata": {},
     "output_type": "display_data"
    },
    {
     "data": {
      "text/plain": [
       "'found nan, put 19.0'"
      ]
     },
     "metadata": {},
     "output_type": "display_data"
    },
    {
     "data": {
      "text/plain": [
       "'found 17424, take 17422'"
      ]
     },
     "metadata": {},
     "output_type": "display_data"
    },
    {
     "data": {
      "text/plain": [
       "'found nan, put 20.0'"
      ]
     },
     "metadata": {},
     "output_type": "display_data"
    },
    {
     "data": {
      "text/plain": [
       "'found 17503, take 17501'"
      ]
     },
     "metadata": {},
     "output_type": "display_data"
    },
    {
     "data": {
      "text/plain": [
       "'found nan, put 19.333333333333332'"
      ]
     },
     "metadata": {},
     "output_type": "display_data"
    },
    {
     "data": {
      "text/plain": [
       "'found 17504, take 17502'"
      ]
     },
     "metadata": {},
     "output_type": "display_data"
    },
    {
     "data": {
      "text/plain": [
       "'found nan, put 20.0'"
      ]
     },
     "metadata": {},
     "output_type": "display_data"
    },
    {
     "data": {
      "text/plain": [
       "'found 17581, take 17579'"
      ]
     },
     "metadata": {},
     "output_type": "display_data"
    },
    {
     "data": {
      "text/plain": [
       "'found nan, put 19.083333333333332'"
      ]
     },
     "metadata": {},
     "output_type": "display_data"
    },
    {
     "data": {
      "text/plain": [
       "'found 38670, take 38668'"
      ]
     },
     "metadata": {},
     "output_type": "display_data"
    },
    {
     "data": {
      "text/plain": [
       "'found nan, put 19.0'"
      ]
     },
     "metadata": {},
     "output_type": "display_data"
    },
    {
     "data": {
      "text/plain": [
       "'found 135384, take 135382'"
      ]
     },
     "metadata": {},
     "output_type": "display_data"
    },
    {
     "data": {
      "text/plain": [
       "'found 20.0, put 17.5'"
      ]
     },
     "metadata": {},
     "output_type": "display_data"
    },
    {
     "data": {
      "text/plain": [
       "'found 135385, take 135383'"
      ]
     },
     "metadata": {},
     "output_type": "display_data"
    },
    {
     "data": {
      "text/plain": [
       "'found 20.0, put 19.25'"
      ]
     },
     "metadata": {},
     "output_type": "display_data"
    },
    {
     "data": {
      "text/plain": [
       "'found 135386, take 135384'"
      ]
     },
     "metadata": {},
     "output_type": "display_data"
    },
    {
     "data": {
      "text/plain": [
       "'found 20.0, put 17.5'"
      ]
     },
     "metadata": {},
     "output_type": "display_data"
    },
    {
     "data": {
      "text/plain": [
       "'found 291968, take 291966'"
      ]
     },
     "metadata": {},
     "output_type": "display_data"
    },
    {
     "data": {
      "text/plain": [
       "'found nan, put 19.0'"
      ]
     },
     "metadata": {},
     "output_type": "display_data"
    },
    {
     "data": {
      "text/plain": [
       "'found 316036, take 316034'"
      ]
     },
     "metadata": {},
     "output_type": "display_data"
    },
    {
     "data": {
      "text/plain": [
       "'found nan, put 19.25'"
      ]
     },
     "metadata": {},
     "output_type": "display_data"
    },
    {
     "data": {
      "text/plain": [
       "'found 316174, take 316172'"
      ]
     },
     "metadata": {},
     "output_type": "display_data"
    },
    {
     "data": {
      "text/plain": [
       "'found nan, put 18.5'"
      ]
     },
     "metadata": {},
     "output_type": "display_data"
    },
    {
     "data": {
      "text/plain": [
       "'found 384426, take 384424'"
      ]
     },
     "metadata": {},
     "output_type": "display_data"
    },
    {
     "data": {
      "text/plain": [
       "'found nan, put 18.0'"
      ]
     },
     "metadata": {},
     "output_type": "display_data"
    },
    {
     "data": {
      "text/plain": [
       "'found 447013, take 447011'"
      ]
     },
     "metadata": {},
     "output_type": "display_data"
    },
    {
     "data": {
      "text/plain": [
       "'found 19.166666666666668, put 18.0'"
      ]
     },
     "metadata": {},
     "output_type": "display_data"
    },
    {
     "data": {
      "text/plain": [
       "'found 468269, take 468267'"
      ]
     },
     "metadata": {},
     "output_type": "display_data"
    },
    {
     "data": {
      "text/plain": [
       "'found nan, put 18.0'"
      ]
     },
     "metadata": {},
     "output_type": "display_data"
    },
    {
     "data": {
      "text/plain": [
       "'found 716844, take 716842'"
      ]
     },
     "metadata": {},
     "output_type": "display_data"
    },
    {
     "data": {
      "text/plain": [
       "'found 20.0, put 19.0'"
      ]
     },
     "metadata": {},
     "output_type": "display_data"
    },
    {
     "data": {
      "text/plain": [
       "'found 743868, take 743866'"
      ]
     },
     "metadata": {},
     "output_type": "display_data"
    },
    {
     "data": {
      "text/plain": [
       "'found nan, put 18.0'"
      ]
     },
     "metadata": {},
     "output_type": "display_data"
    }
   ],
   "source": [
    "cache_row = {}\n",
    "\n",
    "for idx, row in layer1.loc[layer1['AWC_L7'].isnull()].iterrows():\n",
    "    \n",
    "    display(f\"found {idx}, take {idx-2}\")\n",
    "    \n",
    "    layer1.loc[idx,'AWC_L1'] = layer1.loc[idx-2,'AWC_L1']\n",
    "    layer1.loc[idx,'AWC_L2'] = layer1.loc[idx-2,'AWC_L2']\n",
    "    layer1.loc[idx,'AWC_L3'] = layer1.loc[idx-2,'AWC_L3']\n",
    "    layer1.loc[idx,'AWC_L4'] = layer1.loc[idx-2,'AWC_L4']\n",
    "    layer1.loc[idx,'AWC_L5'] = layer1.loc[idx-2,'AWC_L5']\n",
    "    layer1.loc[idx,'AWC_L6'] = layer1.loc[idx-2,'AWC_L6']\n",
    "    layer1.loc[idx,'AWC_L7'] = layer1.loc[idx-2,'AWC_L7']\n",
    "    \n",
    "    display(f\"found {row['AWC_L1']}, put {layer1.loc[idx,'AWC_L7']}\")"
   ]
  },
  {
   "cell_type": "code",
   "execution_count": 26,
   "metadata": {},
   "outputs": [
    {
     "data": {
      "text/plain": [
       "20.25"
      ]
     },
     "execution_count": 26,
     "metadata": {},
     "output_type": "execute_result"
    }
   ],
   "source": [
    "layer1.loc[427,'AWC_L1']"
   ]
  },
  {
   "cell_type": "code",
   "execution_count": 32,
   "metadata": {},
   "outputs": [],
   "source": [
    "import functools\n",
    "import statistics\n",
    "import operator\n",
    "\n",
    "known_depths_to_layer = [  \n",
    "    (0,1),\n",
    "    (50,2),\n",
    "    (150,3),\n",
    "    (300,4),\n",
    "    (600,5),\n",
    "    (1000,6),\n",
    "    (2000,7)\n",
    "]\n",
    "\n",
    "def get_aggregate_awc_for_depths(layer_top, layer_bottom, SOL_AWC1, awc_gradient_values, known_depths_to_layer):\n",
    "    filt = list(filter(lambda x: x[0] >= layer_top and x[0] <= layer_bottom, known_depths_to_layer))\n",
    "    lays = list(map(lambda x: x[1], filt))\n",
    "    \n",
    "    if len(lays) <= 0:\n",
    "        position = statistics.mean([layer_top, layer_bottom])\n",
    "        if position > known_depths_to_layer[6][0]:\n",
    "            # return [7]\n",
    "            lays = [7]\n",
    "        elif position < known_depths_to_layer[0][0]:\n",
    "            # return [1]\n",
    "            lays = [1]\n",
    "        else:\n",
    "            diffs = []\n",
    "            for i in range(1,8):\n",
    "                diffs.append( (statistics.stdev([position, known_depths_to_layer[i-1][0]]), i) )\n",
    "            diffs.sort(key = operator.itemgetter(0))\n",
    "            lays = [ diffs[0][1] ]\n",
    "\n",
    "    vals = statistics.mean(list(map(lambda x: awc_gradient_values[int(x)], lays)))\n",
    "    return vals\n",
    "\n",
    "\n",
    "def aggregate_over_depths(row):\n",
    "    \n",
    "    SOL_AWC1 = row['SOL_AWC1']\n",
    "    SOL_AWC2 = row['SOL_AWC2']\n",
    "    SOL_AWC3 = row['SOL_AWC3']\n",
    "    SOL_AWC4 = row['SOL_AWC4']\n",
    "    \n",
    "    nlayers = row['nlayers']\n",
    "    SOL_ZMX = row['SOL_ZMX']\n",
    "    SOL_Z1 = row['SOL_Z1']\n",
    "    SOL_Z2 = row['SOL_Z2']\n",
    "    SOL_Z3 = row['SOL_Z3']\n",
    "    SOL_Z4 = row['SOL_Z4']\n",
    "    \n",
    "    SOL_Z2_new = row['SOL_Z2']\n",
    "    SOL_Z3_new = row['SOL_Z3']\n",
    "    SOL_Z4_new = row['SOL_Z4']\n",
    "    \n",
    "    AWC_L1 = row['AWC_L1']\n",
    "    AWC_L2 = row['AWC_L2']\n",
    "    AWC_L3 = row['AWC_L3']\n",
    "    AWC_L4 = row['AWC_L4']\n",
    "    AWC_L5 = row['AWC_L5']\n",
    "    AWC_L6 = row['AWC_L6']\n",
    "    AWC_L7 = row['AWC_L7']\n",
    "    \n",
    "    awc_gradient_values_pre = np.array([AWC_L1, AWC_L2, AWC_L3, AWC_L4, AWC_L5, AWC_L5, AWC_L6, AWC_L7])\n",
    "    awc_gradient_values = awc_gradient_values_pre / 100\n",
    "    \n",
    "    if nlayers >= 1:\n",
    "        # depth from top to bottom of 1st layer is exactly SOL_Z1\n",
    "        layer_top = 0\n",
    "        layer_bottom = SOL_Z1\n",
    "        SOL_AWC1 = get_aggregate_awc_for_depths(layer_top, layer_bottom, SOL_AWC1, awc_gradient_values, known_depths_to_layer)\n",
    "    \n",
    "    if nlayers >= 2:\n",
    "        layer_top = SOL_Z1\n",
    "        layer_bottom = SOL_Z1 + SOL_Z2\n",
    "        SOL_AWC2 = get_aggregate_awc_for_depths(layer_top, layer_bottom, SOL_AWC2, awc_gradient_values, known_depths_to_layer)\n",
    "        SOL_Z2_new = layer_bottom\n",
    "    \n",
    "    if nlayers >= 3:\n",
    "        layer_top = SOL_Z1 + SOL_Z2\n",
    "        layer_bottom = SOL_Z1 + SOL_Z2 + SOL_Z3\n",
    "        SOL_AWC3 = get_aggregate_awc_for_depths(layer_top, layer_bottom, SOL_AWC3, awc_gradient_values, known_depths_to_layer)\n",
    "        SOL_Z3_new = layer_bottom\n",
    "    \n",
    "    if nlayers >= 4:\n",
    "        layer_top = SOL_Z1 + SOL_Z2 + SOL_Z3\n",
    "        layer_bottom = SOL_Z1 + SOL_Z2 + SOL_Z3 + SOL_Z4\n",
    "        SOL_AWC4 = get_aggregate_awc_for_depths(layer_top, layer_bottom, SOL_AWC4, awc_gradient_values, known_depths_to_layer)\n",
    "        SOL_Z4_new = layer_bottom\n",
    "    \n",
    "    return pd.Series([SOL_Z1, SOL_Z2_new, SOL_Z3_new, SOL_Z4_new, SOL_AWC1, SOL_AWC2, SOL_AWC3, SOL_AWC4])\n",
    "\n",
    "layer1[['SOL_Z1', 'SOL_Z2', 'SOL_Z3', 'SOL_Z4',\n",
    "        'SOL_AWC1', 'SOL_AWC2', 'SOL_AWC3', 'SOL_AWC4']] = layer1.apply(lambda x: aggregate_over_depths(x), axis=1)"
   ]
  },
  {
   "cell_type": "code",
   "execution_count": 35,
   "metadata": {},
   "outputs": [
    {
     "data": {
      "text/html": [
       "<div>\n",
       "<style scoped>\n",
       "    .dataframe tbody tr th:only-of-type {\n",
       "        vertical-align: middle;\n",
       "    }\n",
       "\n",
       "    .dataframe tbody tr th {\n",
       "        vertical-align: top;\n",
       "    }\n",
       "\n",
       "    .dataframe thead th {\n",
       "        text-align: right;\n",
       "    }\n",
       "</style>\n",
       "<table border=\"1\" class=\"dataframe\">\n",
       "  <thead>\n",
       "    <tr style=\"text-align: right;\">\n",
       "      <th></th>\n",
       "      <th>orig_fid</th>\n",
       "      <th>nlayers</th>\n",
       "      <th>SOL_ZMX</th>\n",
       "      <th>SOL_Z1</th>\n",
       "      <th>SOL_Z2</th>\n",
       "      <th>SOL_Z3</th>\n",
       "      <th>SOL_Z4</th>\n",
       "      <th>SOL_AWC1</th>\n",
       "      <th>SOL_AWC2</th>\n",
       "      <th>SOL_AWC3</th>\n",
       "      <th>SOL_AWC4</th>\n",
       "      <th>AWC_L1</th>\n",
       "      <th>geometry</th>\n",
       "      <th>AWC_L2</th>\n",
       "      <th>AWC_L3</th>\n",
       "      <th>AWC_L4</th>\n",
       "      <th>AWC_L5</th>\n",
       "      <th>AWC_L6</th>\n",
       "      <th>AWC_L7</th>\n",
       "    </tr>\n",
       "  </thead>\n",
       "  <tbody>\n",
       "    <tr>\n",
       "      <th>140847</th>\n",
       "      <td>140716</td>\n",
       "      <td>1</td>\n",
       "      <td>1000</td>\n",
       "      <td>1000.0</td>\n",
       "      <td>0.0</td>\n",
       "      <td>0.0</td>\n",
       "      <td>0.0</td>\n",
       "      <td>0.182500</td>\n",
       "      <td>0.0000</td>\n",
       "      <td>0.0000</td>\n",
       "      <td>0.0</td>\n",
       "      <td>20.000000</td>\n",
       "      <td>POLYGON ((413916.8999999985 6530713.420000002,...</td>\n",
       "      <td>20.00</td>\n",
       "      <td>18.500000</td>\n",
       "      <td>18.000000</td>\n",
       "      <td>17.500000</td>\n",
       "      <td>18.00</td>\n",
       "      <td>19.000000</td>\n",
       "    </tr>\n",
       "    <tr>\n",
       "      <th>277475</th>\n",
       "      <td>277470</td>\n",
       "      <td>3</td>\n",
       "      <td>1000</td>\n",
       "      <td>600.0</td>\n",
       "      <td>850.0</td>\n",
       "      <td>1000.0</td>\n",
       "      <td>0.0</td>\n",
       "      <td>0.184500</td>\n",
       "      <td>0.1750</td>\n",
       "      <td>0.1725</td>\n",
       "      <td>0.0</td>\n",
       "      <td>20.750000</td>\n",
       "      <td>POLYGON ((630168.4299999997 6585855.620000001,...</td>\n",
       "      <td>20.25</td>\n",
       "      <td>19.000000</td>\n",
       "      <td>18.000000</td>\n",
       "      <td>17.500000</td>\n",
       "      <td>17.25</td>\n",
       "      <td>18.000000</td>\n",
       "    </tr>\n",
       "    <tr>\n",
       "      <th>80312</th>\n",
       "      <td>72027</td>\n",
       "      <td>1</td>\n",
       "      <td>1000</td>\n",
       "      <td>1000.0</td>\n",
       "      <td>0.0</td>\n",
       "      <td>0.0</td>\n",
       "      <td>0.0</td>\n",
       "      <td>0.190833</td>\n",
       "      <td>0.0000</td>\n",
       "      <td>0.0000</td>\n",
       "      <td>0.0</td>\n",
       "      <td>21.000000</td>\n",
       "      <td>POLYGON ((636232.3200000003 6394330.5, 636228....</td>\n",
       "      <td>20.50</td>\n",
       "      <td>19.500000</td>\n",
       "      <td>19.000000</td>\n",
       "      <td>18.500000</td>\n",
       "      <td>18.50</td>\n",
       "      <td>19.000000</td>\n",
       "    </tr>\n",
       "    <tr>\n",
       "      <th>79983</th>\n",
       "      <td>71698</td>\n",
       "      <td>1</td>\n",
       "      <td>1000</td>\n",
       "      <td>1000.0</td>\n",
       "      <td>0.0</td>\n",
       "      <td>0.0</td>\n",
       "      <td>0.0</td>\n",
       "      <td>0.180000</td>\n",
       "      <td>0.0000</td>\n",
       "      <td>0.0000</td>\n",
       "      <td>0.0</td>\n",
       "      <td>21.000000</td>\n",
       "      <td>POLYGON ((659092.1700000018 6442183.629999999,...</td>\n",
       "      <td>21.00</td>\n",
       "      <td>19.500000</td>\n",
       "      <td>18.000000</td>\n",
       "      <td>16.500000</td>\n",
       "      <td>16.50</td>\n",
       "      <td>17.500000</td>\n",
       "    </tr>\n",
       "    <tr>\n",
       "      <th>54598</th>\n",
       "      <td>53733</td>\n",
       "      <td>1</td>\n",
       "      <td>1000</td>\n",
       "      <td>1000.0</td>\n",
       "      <td>0.0</td>\n",
       "      <td>0.0</td>\n",
       "      <td>0.0</td>\n",
       "      <td>0.188333</td>\n",
       "      <td>0.0000</td>\n",
       "      <td>0.0000</td>\n",
       "      <td>0.0</td>\n",
       "      <td>20.500000</td>\n",
       "      <td>POLYGON ((612974.5300000012 6424946.640000001,...</td>\n",
       "      <td>20.50</td>\n",
       "      <td>19.500000</td>\n",
       "      <td>19.000000</td>\n",
       "      <td>18.000000</td>\n",
       "      <td>18.00</td>\n",
       "      <td>19.000000</td>\n",
       "    </tr>\n",
       "    <tr>\n",
       "      <th>631319</th>\n",
       "      <td>631173</td>\n",
       "      <td>1</td>\n",
       "      <td>1000</td>\n",
       "      <td>1000.0</td>\n",
       "      <td>0.0</td>\n",
       "      <td>0.0</td>\n",
       "      <td>0.0</td>\n",
       "      <td>0.200000</td>\n",
       "      <td>0.0000</td>\n",
       "      <td>0.0000</td>\n",
       "      <td>0.0</td>\n",
       "      <td>22.000000</td>\n",
       "      <td>POLYGON ((687400.0300000012 6456212.300000001,...</td>\n",
       "      <td>22.00</td>\n",
       "      <td>21.000000</td>\n",
       "      <td>20.000000</td>\n",
       "      <td>19.000000</td>\n",
       "      <td>19.00</td>\n",
       "      <td>19.000000</td>\n",
       "    </tr>\n",
       "    <tr>\n",
       "      <th>525958</th>\n",
       "      <td>518227</td>\n",
       "      <td>1</td>\n",
       "      <td>1000</td>\n",
       "      <td>1000.0</td>\n",
       "      <td>0.0</td>\n",
       "      <td>0.0</td>\n",
       "      <td>0.0</td>\n",
       "      <td>0.185833</td>\n",
       "      <td>0.0000</td>\n",
       "      <td>0.0000</td>\n",
       "      <td>0.0</td>\n",
       "      <td>20.500000</td>\n",
       "      <td>POLYGON ((673454.244599998 6438339.107799999, ...</td>\n",
       "      <td>20.00</td>\n",
       "      <td>19.000000</td>\n",
       "      <td>18.500000</td>\n",
       "      <td>18.000000</td>\n",
       "      <td>18.00</td>\n",
       "      <td>18.500000</td>\n",
       "    </tr>\n",
       "    <tr>\n",
       "      <th>266664</th>\n",
       "      <td>266659</td>\n",
       "      <td>2</td>\n",
       "      <td>1000</td>\n",
       "      <td>700.0</td>\n",
       "      <td>1000.0</td>\n",
       "      <td>0.0</td>\n",
       "      <td>0.0</td>\n",
       "      <td>0.193667</td>\n",
       "      <td>0.1850</td>\n",
       "      <td>0.0000</td>\n",
       "      <td>0.0</td>\n",
       "      <td>21.333333</td>\n",
       "      <td>POLYGON ((596014.549999997 6504163.530000001, ...</td>\n",
       "      <td>21.00</td>\n",
       "      <td>19.833333</td>\n",
       "      <td>19.333333</td>\n",
       "      <td>18.333333</td>\n",
       "      <td>18.50</td>\n",
       "      <td>18.833333</td>\n",
       "    </tr>\n",
       "    <tr>\n",
       "      <th>685931</th>\n",
       "      <td>685774</td>\n",
       "      <td>2</td>\n",
       "      <td>1000</td>\n",
       "      <td>600.0</td>\n",
       "      <td>1000.0</td>\n",
       "      <td>0.0</td>\n",
       "      <td>0.0</td>\n",
       "      <td>0.182500</td>\n",
       "      <td>0.1775</td>\n",
       "      <td>0.0000</td>\n",
       "      <td>0.0</td>\n",
       "      <td>19.500000</td>\n",
       "      <td>POLYGON ((389029.0700000003 6458870.82, 389011...</td>\n",
       "      <td>19.25</td>\n",
       "      <td>18.500000</td>\n",
       "      <td>17.500000</td>\n",
       "      <td>18.000000</td>\n",
       "      <td>17.50</td>\n",
       "      <td>17.750000</td>\n",
       "    </tr>\n",
       "    <tr>\n",
       "      <th>267256</th>\n",
       "      <td>267251</td>\n",
       "      <td>1</td>\n",
       "      <td>1000</td>\n",
       "      <td>1000.0</td>\n",
       "      <td>0.0</td>\n",
       "      <td>0.0</td>\n",
       "      <td>0.0</td>\n",
       "      <td>0.179583</td>\n",
       "      <td>0.0000</td>\n",
       "      <td>0.0000</td>\n",
       "      <td>0.0</td>\n",
       "      <td>20.000000</td>\n",
       "      <td>POLYGON ((405315.3100000024 6489853.510000002,...</td>\n",
       "      <td>19.25</td>\n",
       "      <td>18.750000</td>\n",
       "      <td>18.250000</td>\n",
       "      <td>17.250000</td>\n",
       "      <td>17.00</td>\n",
       "      <td>18.250000</td>\n",
       "    </tr>\n",
       "  </tbody>\n",
       "</table>\n",
       "</div>"
      ],
      "text/plain": [
       "        orig_fid  nlayers  SOL_ZMX  SOL_Z1  SOL_Z2  SOL_Z3  SOL_Z4  SOL_AWC1  \\\n",
       "140847    140716        1     1000  1000.0     0.0     0.0     0.0  0.182500   \n",
       "277475    277470        3     1000   600.0   850.0  1000.0     0.0  0.184500   \n",
       "80312      72027        1     1000  1000.0     0.0     0.0     0.0  0.190833   \n",
       "79983      71698        1     1000  1000.0     0.0     0.0     0.0  0.180000   \n",
       "54598      53733        1     1000  1000.0     0.0     0.0     0.0  0.188333   \n",
       "631319    631173        1     1000  1000.0     0.0     0.0     0.0  0.200000   \n",
       "525958    518227        1     1000  1000.0     0.0     0.0     0.0  0.185833   \n",
       "266664    266659        2     1000   700.0  1000.0     0.0     0.0  0.193667   \n",
       "685931    685774        2     1000   600.0  1000.0     0.0     0.0  0.182500   \n",
       "267256    267251        1     1000  1000.0     0.0     0.0     0.0  0.179583   \n",
       "\n",
       "        SOL_AWC2  SOL_AWC3  SOL_AWC4     AWC_L1  \\\n",
       "140847    0.0000    0.0000       0.0  20.000000   \n",
       "277475    0.1750    0.1725       0.0  20.750000   \n",
       "80312     0.0000    0.0000       0.0  21.000000   \n",
       "79983     0.0000    0.0000       0.0  21.000000   \n",
       "54598     0.0000    0.0000       0.0  20.500000   \n",
       "631319    0.0000    0.0000       0.0  22.000000   \n",
       "525958    0.0000    0.0000       0.0  20.500000   \n",
       "266664    0.1850    0.0000       0.0  21.333333   \n",
       "685931    0.1775    0.0000       0.0  19.500000   \n",
       "267256    0.0000    0.0000       0.0  20.000000   \n",
       "\n",
       "                                                 geometry  AWC_L2     AWC_L3  \\\n",
       "140847  POLYGON ((413916.8999999985 6530713.420000002,...   20.00  18.500000   \n",
       "277475  POLYGON ((630168.4299999997 6585855.620000001,...   20.25  19.000000   \n",
       "80312   POLYGON ((636232.3200000003 6394330.5, 636228....   20.50  19.500000   \n",
       "79983   POLYGON ((659092.1700000018 6442183.629999999,...   21.00  19.500000   \n",
       "54598   POLYGON ((612974.5300000012 6424946.640000001,...   20.50  19.500000   \n",
       "631319  POLYGON ((687400.0300000012 6456212.300000001,...   22.00  21.000000   \n",
       "525958  POLYGON ((673454.244599998 6438339.107799999, ...   20.00  19.000000   \n",
       "266664  POLYGON ((596014.549999997 6504163.530000001, ...   21.00  19.833333   \n",
       "685931  POLYGON ((389029.0700000003 6458870.82, 389011...   19.25  18.500000   \n",
       "267256  POLYGON ((405315.3100000024 6489853.510000002,...   19.25  18.750000   \n",
       "\n",
       "           AWC_L4     AWC_L5  AWC_L6     AWC_L7  \n",
       "140847  18.000000  17.500000   18.00  19.000000  \n",
       "277475  18.000000  17.500000   17.25  18.000000  \n",
       "80312   19.000000  18.500000   18.50  19.000000  \n",
       "79983   18.000000  16.500000   16.50  17.500000  \n",
       "54598   19.000000  18.000000   18.00  19.000000  \n",
       "631319  20.000000  19.000000   19.00  19.000000  \n",
       "525958  18.500000  18.000000   18.00  18.500000  \n",
       "266664  19.333333  18.333333   18.50  18.833333  \n",
       "685931  17.500000  18.000000   17.50  17.750000  \n",
       "267256  18.250000  17.250000   17.00  18.250000  "
      ]
     },
     "metadata": {},
     "output_type": "display_data"
    }
   ],
   "source": [
    "display(layer1.sample(10))"
   ]
  },
  {
   "cell_type": "code",
   "execution_count": 36,
   "metadata": {},
   "outputs": [
    {
     "name": "stderr",
     "output_type": "stream",
     "text": [
      "C:\\dev\\conda3\\envs\\geopython-environment\\lib\\site-packages\\geopandas\\io\\file.py:108: FionaDeprecationWarning: Use fiona.Env() instead.\n",
      "  with fiona.drivers():\n"
     ]
    }
   ],
   "source": [
    "layer1.to_file(f\"data/eesti_soil_red1_texture_fix_geo_redo_awc_merged_layers.shp\", encoding='utf-8')"
   ]
  },
  {
   "cell_type": "code",
   "execution_count": 34,
   "metadata": {},
   "outputs": [
    {
     "data": {
      "text/plain": [
       "orig_fid    0\n",
       "nlayers     0\n",
       "SOL_ZMX     0\n",
       "SOL_Z1      0\n",
       "SOL_Z2      0\n",
       "SOL_Z3      0\n",
       "SOL_Z4      0\n",
       "SOL_AWC1    0\n",
       "SOL_AWC2    0\n",
       "SOL_AWC3    0\n",
       "SOL_AWC4    0\n",
       "AWC_L1      0\n",
       "geometry    0\n",
       "AWC_L2      0\n",
       "AWC_L3      0\n",
       "AWC_L4      0\n",
       "AWC_L5      0\n",
       "AWC_L6      0\n",
       "AWC_L7      0\n",
       "dtype: int64"
      ]
     },
     "metadata": {},
     "output_type": "display_data"
    }
   ],
   "source": [
    "\n",
    "display(layer1.isnull().sum())"
   ]
  },
  {
   "cell_type": "code",
   "execution_count": 19,
   "metadata": {},
   "outputs": [
    {
     "data": {
      "text/plain": [
       "2.0"
      ]
     },
     "execution_count": 19,
     "metadata": {},
     "output_type": "execute_result"
    }
   ],
   "source": [
    "import math\n",
    "\n",
    "math.sqrt(4)"
   ]
  },
  {
   "cell_type": "code",
   "execution_count": null,
   "metadata": {},
   "outputs": [],
   "source": []
  }
 ],
 "metadata": {
  "kernelspec": {
   "display_name": "geopy2019",
   "language": "python",
   "name": "geopy2019"
  },
  "language_info": {
   "codemirror_mode": {
    "name": "ipython",
    "version": 3
   },
   "file_extension": ".py",
   "mimetype": "text/x-python",
   "name": "python",
   "nbconvert_exporter": "python",
   "pygments_lexer": "ipython3",
   "version": "3.7.3"
  }
 },
 "nbformat": 4,
 "nbformat_minor": 2
}
